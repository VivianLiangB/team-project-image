{
 "cells": [
  {
   "cell_type": "code",
   "execution_count": 1,
   "metadata": {},
   "outputs": [
    {
     "name": "stderr",
     "output_type": "stream",
     "text": [
      "Using TensorFlow backend.\n"
     ]
    }
   ],
   "source": [
    "import keras\n",
    "import tensorflow as tf\n",
    "from keras.models import Sequential\n",
    "from keras.layers import Conv2D, MaxPooling2D, Flatten, Dense, Dropout, Activation\n",
    "from keras.layers.advanced_activations import PReLU, LeakyReLU\n",
    "from keras.regularizers import l2\n",
    "from keras.utils import np_utils\n",
    "from keras import optimizers\n",
    "from keras.preprocessing.image import ImageDataGenerator\n",
    "\n",
    "import numpy as np\n",
    "import pandas as pd\n",
    "from matplotlib import pyplot as plt"
   ]
  },
  {
   "cell_type": "code",
   "execution_count": 2,
   "metadata": {
    "scrolled": true
   },
   "outputs": [
    {
     "data": {
      "text/html": [
       "<div>\n",
       "<table border=\"1\" class=\"dataframe\">\n",
       "  <thead>\n",
       "    <tr style=\"text-align: right;\">\n",
       "      <th></th>\n",
       "      <th>emotion</th>\n",
       "      <th>pixels</th>\n",
       "      <th>Usage</th>\n",
       "    </tr>\n",
       "  </thead>\n",
       "  <tbody>\n",
       "    <tr>\n",
       "      <th>35882</th>\n",
       "      <td>6</td>\n",
       "      <td>50 36 17 22 23 29 33 39 34 37 37 37 39 43 48 5...</td>\n",
       "      <td>PrivateTest</td>\n",
       "    </tr>\n",
       "    <tr>\n",
       "      <th>35883</th>\n",
       "      <td>3</td>\n",
       "      <td>178 174 172 173 181 188 191 194 196 199 200 20...</td>\n",
       "      <td>PrivateTest</td>\n",
       "    </tr>\n",
       "    <tr>\n",
       "      <th>35884</th>\n",
       "      <td>0</td>\n",
       "      <td>17 17 16 23 28 22 19 17 25 26 20 24 31 19 27 9...</td>\n",
       "      <td>PrivateTest</td>\n",
       "    </tr>\n",
       "    <tr>\n",
       "      <th>35885</th>\n",
       "      <td>3</td>\n",
       "      <td>30 28 28 29 31 30 42 68 79 81 77 67 67 71 63 6...</td>\n",
       "      <td>PrivateTest</td>\n",
       "    </tr>\n",
       "    <tr>\n",
       "      <th>35886</th>\n",
       "      <td>2</td>\n",
       "      <td>19 13 14 12 13 16 21 33 50 57 71 84 97 108 122...</td>\n",
       "      <td>PrivateTest</td>\n",
       "    </tr>\n",
       "  </tbody>\n",
       "</table>\n",
       "</div>"
      ],
      "text/plain": [
       "       emotion                                             pixels        Usage\n",
       "35882        6  50 36 17 22 23 29 33 39 34 37 37 37 39 43 48 5...  PrivateTest\n",
       "35883        3  178 174 172 173 181 188 191 194 196 199 200 20...  PrivateTest\n",
       "35884        0  17 17 16 23 28 22 19 17 25 26 20 24 31 19 27 9...  PrivateTest\n",
       "35885        3  30 28 28 29 31 30 42 68 79 81 77 67 67 71 63 6...  PrivateTest\n",
       "35886        2  19 13 14 12 13 16 21 33 50 57 71 84 97 108 122...  PrivateTest"
      ]
     },
     "execution_count": 2,
     "metadata": {},
     "output_type": "execute_result"
    }
   ],
   "source": [
    "df = pd.read_csv('../dataset/face/fer2013.csv')\n",
    "df.tail()"
   ]
  },
  {
   "cell_type": "code",
   "execution_count": 3,
   "metadata": {
    "collapsed": true
   },
   "outputs": [],
   "source": [
    "train = df[df.Usage == 'Training']\n",
    "test = df[df.Usage == 'PrivateTest']\n",
    "val = df[df.Usage == 'PublicTest']"
   ]
  },
  {
   "cell_type": "code",
   "execution_count": 4,
   "metadata": {
    "collapsed": true
   },
   "outputs": [],
   "source": [
    "not_face = [59, 2059, 2809, 3262, 3931,4275, 5439, 5509, 5722, 5881, 6102, 6458, 6699, 7172,\n",
    " 7496, 7527, 7629, 8030, 8737, 8856, 9026, 9500, 9673, 9679, 9693, 9797, 10023,\n",
    " 10423, 10657, 11244, 11286, 11295, 11846, 12289, 12352, 13011, 13148, 13402, 13697,\n",
    " 13839, 13988, 14148, 14279, 15144, 15553, 15838, 15894, 16024, 16540, 17081, 17620,\n",
    " 18012, 18337, 19238, 19422, 19632, 20222, 20712, 20817, 21817, 22198,\n",
    " 22407, 22927, 23596, 23894, 24053, 24441, 14593, 24891, 25219, 25603, 25909, 26383,\n",
    " 26860, 26897, 28601, 19447]"
   ]
  },
  {
   "cell_type": "code",
   "execution_count": 5,
   "metadata": {
    "collapsed": true
   },
   "outputs": [],
   "source": [
    "train1 = train.drop(not_face, axis=0)"
   ]
  },
  {
   "cell_type": "code",
   "execution_count": 6,
   "metadata": {},
   "outputs": [
    {
     "name": "stdout",
     "output_type": "stream",
     "text": [
      "train: 28709\n",
      "train1: 28632\n",
      "test: 3589\n",
      "validation: 3589\n"
     ]
    }
   ],
   "source": [
    "print('train: {}'.format(len(train)))\n",
    "print('train1: {}'.format(len(train1)))\n",
    "print('test: {}'.format(len(test)))\n",
    "print('validation: {}'.format(len(val)))"
   ]
  },
  {
   "cell_type": "markdown",
   "metadata": {},
   "source": [
    "# Build X sets"
   ]
  },
  {
   "cell_type": "code",
   "execution_count": 7,
   "metadata": {
    "collapsed": true
   },
   "outputs": [],
   "source": [
    "def build_X(data):\n",
    "    res = np.zeros((len(data), 48, 48, 1)).astype('float32')\n",
    "\n",
    "    for i in range(len(data)):\n",
    "        pixl = data.iloc[i,:].pixels.split(' ')\n",
    "        pixels = np.array(pixl).astype('float32') / 255.\n",
    "        pixels = pixels.reshape(48, 48, 1)\n",
    "        res[i] = pixels\n",
    "    \n",
    "    return res"
   ]
  },
  {
   "cell_type": "code",
   "execution_count": 8,
   "metadata": {
    "collapsed": true
   },
   "outputs": [],
   "source": [
    "X_train = build_X(train)\n",
    "X_train1 = build_X(train1)\n",
    "X_test = build_X(test)\n",
    "X_val = build_X(val)"
   ]
  },
  {
   "cell_type": "markdown",
   "metadata": {},
   "source": [
    "# Build Y sets\n",
    "(0=Angry, 1=Disgust, 2=Fear, 3=Happy, 4=Sad, 5=Surprise, 6=Neutral)."
   ]
  },
  {
   "cell_type": "code",
   "execution_count": 9,
   "metadata": {
    "collapsed": true
   },
   "outputs": [],
   "source": [
    "# One Hot Encoding 7 categories\n",
    "Y_train = np_utils.to_categorical(train.emotion.values, 7)\n",
    "Y_train1 = np_utils.to_categorical(train1.emotion.values, 7)\n",
    "Y_test = np_utils.to_categorical(test.emotion.values, 7)\n",
    "Y_val = np_utils.to_categorical(val.emotion.values, 7)"
   ]
  },
  {
   "cell_type": "code",
   "execution_count": 10,
   "metadata": {},
   "outputs": [
    {
     "data": {
      "text/plain": [
       "array([[ 1.,  0.,  0.,  0.,  0.,  0.,  0.],\n",
       "       [ 1.,  0.,  0.,  0.,  0.,  0.,  0.],\n",
       "       [ 0.,  0.,  1.,  0.,  0.,  0.,  0.]])"
      ]
     },
     "execution_count": 10,
     "metadata": {},
     "output_type": "execute_result"
    }
   ],
   "source": [
    "Y_train[:3]"
   ]
  },
  {
   "cell_type": "markdown",
   "metadata": {},
   "source": [
    "# Print Images"
   ]
  },
  {
   "cell_type": "code",
   "execution_count": 11,
   "metadata": {
    "collapsed": true
   },
   "outputs": [],
   "source": [
    "def print_img(row, col, target, idx):\n",
    "    fig = plt.figure(figsize=(col*2.5, row*2.5))\n",
    "    \n",
    "    for i in range(len(idx)):\n",
    "        plt.subplot(row, col, (i+1))\n",
    "        plt.imshow(target[idx[i]].reshape((48, 48)), cmap='gray')\n",
    "        plt.grid(False); plt.xticks([]); plt.yticks([]);\n",
    "    \n",
    "    plt.show()"
   ]
  },
  {
   "cell_type": "code",
   "execution_count": 12,
   "metadata": {},
   "outputs": [
    {
     "data": {
      "image/png": "[encoded data removed]",
      "text/plain": [
       "<matplotlib.figure.Figure at 0x7f514570e750>"
      ]
     },
     "metadata": {},
     "output_type": "display_data"
    }
   ],
   "source": [
    "print_img(row=2, col=4, target=X_test, idx=[0, 1, 2, 3, 10, 11, 12, 13])"
   ]
  },
  {
   "cell_type": "markdown",
   "metadata": {},
   "source": [
    "# Build Pipeline"
   ]
  },
  {
   "cell_type": "code",
   "execution_count": 11,
   "metadata": {
    "collapsed": true
   },
   "outputs": [],
   "source": [
    "model1 = keras.models.load_model(\"../models/face_M_s1.hdf5\")"
   ]
  },
  {
   "cell_type": "code",
   "execution_count": 12,
   "metadata": {},
   "outputs": [
    {
     "name": "stdout",
     "output_type": "stream",
     "text": [
      "3584/3589 [============================>.] - ETA: 0s"
     ]
    }
   ],
   "source": [
    "proba_pred = model1.predict(X_test)\n",
    "Y_pred = model1.predict_classes(X_test)"
   ]
  },
  {
   "cell_type": "code",
   "execution_count": 13,
   "metadata": {
    "collapsed": true
   },
   "outputs": [],
   "source": [
    "dfRes = pd.DataFrame(Y_pred, columns=['pred'])"
   ]
  },
  {
   "cell_type": "code",
   "execution_count": 14,
   "metadata": {
    "collapsed": true
   },
   "outputs": [],
   "source": [
    "dfRes['origin'] = test.emotion.values\n",
    "dfRes['result'] = Y_pred == test.emotion.values\n",
    "dfRes['p0'] = proba_pred[:, 0]\n",
    "dfRes['p1'] = proba_pred[:, 1]\n",
    "dfRes['p2'] = proba_pred[:, 2]\n",
    "dfRes['p3'] = proba_pred[:, 3]\n",
    "dfRes['p4'] = proba_pred[:, 4]\n",
    "dfRes['p5'] = proba_pred[:, 5]\n",
    "dfRes['p6'] = proba_pred[:, 6]"
   ]
  },
  {
   "cell_type": "code",
   "execution_count": 15,
   "metadata": {},
   "outputs": [
    {
     "data": {
      "text/html": [
       "<div>\n",
       "<table border=\"1\" class=\"dataframe\">\n",
       "  <thead>\n",
       "    <tr style=\"text-align: right;\">\n",
       "      <th></th>\n",
       "      <th>pred</th>\n",
       "      <th>origin</th>\n",
       "      <th>result</th>\n",
       "      <th>p0</th>\n",
       "      <th>p1</th>\n",
       "      <th>p2</th>\n",
       "      <th>p3</th>\n",
       "      <th>p4</th>\n",
       "      <th>p5</th>\n",
       "      <th>p6</th>\n",
       "    </tr>\n",
       "  </thead>\n",
       "  <tbody>\n",
       "    <tr>\n",
       "      <th>0</th>\n",
       "      <td>1</td>\n",
       "      <td>0</td>\n",
       "      <td>False</td>\n",
       "      <td>0.031025</td>\n",
       "      <td>9.249825e-01</td>\n",
       "      <td>0.021350</td>\n",
       "      <td>0.000021</td>\n",
       "      <td>0.021445</td>\n",
       "      <td>0.000438</td>\n",
       "      <td>0.000739</td>\n",
       "    </tr>\n",
       "    <tr>\n",
       "      <th>1</th>\n",
       "      <td>4</td>\n",
       "      <td>5</td>\n",
       "      <td>False</td>\n",
       "      <td>0.122550</td>\n",
       "      <td>3.189882e-03</td>\n",
       "      <td>0.116838</td>\n",
       "      <td>0.008866</td>\n",
       "      <td>0.689354</td>\n",
       "      <td>0.002836</td>\n",
       "      <td>0.056367</td>\n",
       "    </tr>\n",
       "    <tr>\n",
       "      <th>2</th>\n",
       "      <td>2</td>\n",
       "      <td>6</td>\n",
       "      <td>False</td>\n",
       "      <td>0.037250</td>\n",
       "      <td>4.269669e-04</td>\n",
       "      <td>0.891100</td>\n",
       "      <td>0.000153</td>\n",
       "      <td>0.068474</td>\n",
       "      <td>0.001894</td>\n",
       "      <td>0.000702</td>\n",
       "    </tr>\n",
       "    <tr>\n",
       "      <th>3</th>\n",
       "      <td>4</td>\n",
       "      <td>4</td>\n",
       "      <td>True</td>\n",
       "      <td>0.222432</td>\n",
       "      <td>4.796853e-02</td>\n",
       "      <td>0.059570</td>\n",
       "      <td>0.000398</td>\n",
       "      <td>0.602916</td>\n",
       "      <td>0.001248</td>\n",
       "      <td>0.065468</td>\n",
       "    </tr>\n",
       "    <tr>\n",
       "      <th>4</th>\n",
       "      <td>0</td>\n",
       "      <td>2</td>\n",
       "      <td>False</td>\n",
       "      <td>0.282585</td>\n",
       "      <td>2.662550e-01</td>\n",
       "      <td>0.192798</td>\n",
       "      <td>0.000271</td>\n",
       "      <td>0.098072</td>\n",
       "      <td>0.139780</td>\n",
       "      <td>0.020239</td>\n",
       "    </tr>\n",
       "    <tr>\n",
       "      <th>5</th>\n",
       "      <td>0</td>\n",
       "      <td>0</td>\n",
       "      <td>True</td>\n",
       "      <td>0.651639</td>\n",
       "      <td>1.696520e-02</td>\n",
       "      <td>0.307104</td>\n",
       "      <td>0.000236</td>\n",
       "      <td>0.021952</td>\n",
       "      <td>0.001842</td>\n",
       "      <td>0.000262</td>\n",
       "    </tr>\n",
       "    <tr>\n",
       "      <th>6</th>\n",
       "      <td>2</td>\n",
       "      <td>4</td>\n",
       "      <td>False</td>\n",
       "      <td>0.045593</td>\n",
       "      <td>6.206274e-05</td>\n",
       "      <td>0.507899</td>\n",
       "      <td>0.019260</td>\n",
       "      <td>0.208117</td>\n",
       "      <td>0.001534</td>\n",
       "      <td>0.217536</td>\n",
       "    </tr>\n",
       "    <tr>\n",
       "      <th>7</th>\n",
       "      <td>3</td>\n",
       "      <td>3</td>\n",
       "      <td>True</td>\n",
       "      <td>0.000001</td>\n",
       "      <td>2.448323e-10</td>\n",
       "      <td>0.000002</td>\n",
       "      <td>0.999924</td>\n",
       "      <td>0.000001</td>\n",
       "      <td>0.000014</td>\n",
       "      <td>0.000058</td>\n",
       "    </tr>\n",
       "    <tr>\n",
       "      <th>8</th>\n",
       "      <td>3</td>\n",
       "      <td>0</td>\n",
       "      <td>False</td>\n",
       "      <td>0.094211</td>\n",
       "      <td>1.841337e-02</td>\n",
       "      <td>0.143292</td>\n",
       "      <td>0.482603</td>\n",
       "      <td>0.024179</td>\n",
       "      <td>0.145674</td>\n",
       "      <td>0.091627</td>\n",
       "    </tr>\n",
       "    <tr>\n",
       "      <th>9</th>\n",
       "      <td>3</td>\n",
       "      <td>3</td>\n",
       "      <td>True</td>\n",
       "      <td>0.013017</td>\n",
       "      <td>1.242004e-04</td>\n",
       "      <td>0.001324</td>\n",
       "      <td>0.973209</td>\n",
       "      <td>0.001321</td>\n",
       "      <td>0.007692</td>\n",
       "      <td>0.003312</td>\n",
       "    </tr>\n",
       "  </tbody>\n",
       "</table>\n",
       "</div>"
      ],
      "text/plain": [
       "   pred  origin result        p0            p1        p2        p3        p4  \\\n",
       "0     1       0  False  0.031025  9.249825e-01  0.021350  0.000021  0.021445   \n",
       "1     4       5  False  0.122550  3.189882e-03  0.116838  0.008866  0.689354   \n",
       "2     2       6  False  0.037250  4.269669e-04  0.891100  0.000153  0.068474   \n",
       "3     4       4   True  0.222432  4.796853e-02  0.059570  0.000398  0.602916   \n",
       "4     0       2  False  0.282585  2.662550e-01  0.192798  0.000271  0.098072   \n",
       "5     0       0   True  0.651639  1.696520e-02  0.307104  0.000236  0.021952   \n",
       "6     2       4  False  0.045593  6.206274e-05  0.507899  0.019260  0.208117   \n",
       "7     3       3   True  0.000001  2.448323e-10  0.000002  0.999924  0.000001   \n",
       "8     3       0  False  0.094211  1.841337e-02  0.143292  0.482603  0.024179   \n",
       "9     3       3   True  0.013017  1.242004e-04  0.001324  0.973209  0.001321   \n",
       "\n",
       "         p5        p6  \n",
       "0  0.000438  0.000739  \n",
       "1  0.002836  0.056367  \n",
       "2  0.001894  0.000702  \n",
       "3  0.001248  0.065468  \n",
       "4  0.139780  0.020239  \n",
       "5  0.001842  0.000262  \n",
       "6  0.001534  0.217536  \n",
       "7  0.000014  0.000058  \n",
       "8  0.145674  0.091627  \n",
       "9  0.007692  0.003312  "
      ]
     },
     "execution_count": 15,
     "metadata": {},
     "output_type": "execute_result"
    }
   ],
   "source": [
    "dfRes.head(10)"
   ]
  },
  {
   "cell_type": "code",
   "execution_count": 16,
   "metadata": {
    "scrolled": true
   },
   "outputs": [
    {
     "data": {
      "text/plain": [
       "0.6349958205628309"
      ]
     },
     "execution_count": 16,
     "metadata": {},
     "output_type": "execute_result"
    }
   ],
   "source": [
    "# Total Accuracy\n",
    "acc = float((dfRes['result'] == True).sum()) / len(dfRes['result'])\n",
    "acc"
   ]
  },
  {
   "cell_type": "code",
   "execution_count": 17,
   "metadata": {
    "collapsed": true
   },
   "outputs": [],
   "source": [
    "idx_train = pd.DataFrame(train.emotion.values, columns=['label'])\n",
    "idx_test = pd.DataFrame(test.emotion.values, columns=['label'])"
   ]
  },
  {
   "cell_type": "markdown",
   "metadata": {},
   "source": [
    "# Model7 (Angry : Disgust : Fear : Sad : Neutral)"
   ]
  },
  {
   "cell_type": "code",
   "execution_count": 225,
   "metadata": {
    "collapsed": true
   },
   "outputs": [],
   "source": [
    "X_train7 = np.vstack((X_train[idx_train[idx_train['label'] == 0].index], X_train[idx_train[idx_train['label'] == 1].index], X_train[idx_train[idx_train['label'] == 2].index], X_train[idx_train[idx_train['label'] == 4].index], X_train[idx_train[idx_train['label'] == 6].index]))\n",
    "Y_train7 = np.vstack((Y_train[idx_train[idx_train['label'] == 0].index], Y_train[idx_train[idx_train['label'] == 1].index], Y_train[idx_train[idx_train['label'] == 2].index], Y_train[idx_train[idx_train['label'] == 4].index], Y_train[idx_train[idx_train['label'] == 6].index]))[:,[0,1,2,4,6]]\n",
    "\n",
    "X_test7 = np.vstack((X_test[idx_test[idx_test['label'] == 0].index], X_test[idx_test[idx_test['label'] == 1].index], X_test[idx_test[idx_test['label'] == 2].index], X_test[idx_test[idx_test['label'] == 4].index], X_test[idx_test[idx_test['label'] == 6].index]))\n",
    "Y_test7 = np.vstack((Y_test[idx_test[idx_test['label'] == 0].index], Y_test[idx_test[idx_test['label'] == 1].index], Y_test[idx_test[idx_test['label'] == 2].index], Y_test[idx_test[idx_test['label'] == 4].index], Y_test[idx_test[idx_test['label'] == 6].index]))[:,[0,1,2,4,6]]"
   ]
  },
  {
   "cell_type": "code",
   "execution_count": 226,
   "metadata": {},
   "outputs": [
    {
     "name": "stdout",
     "output_type": "stream",
     "text": [
      "X_train: (18323, 48, 48, 1)\n",
      "Y_train: (18323, 5)\n",
      "X_test: (2294, 48, 48, 1)\n",
      "Y_test: (2294, 5)\n"
     ]
    }
   ],
   "source": [
    "print('X_train: {}'.format(X_train7.shape))\n",
    "print('Y_train: {}'.format(Y_train7.shape))\n",
    "print('X_test: {}'.format(X_test7.shape))\n",
    "print('Y_test: {}'.format(Y_test7.shape))"
   ]
  },
  {
   "cell_type": "code",
   "execution_count": 238,
   "metadata": {},
   "outputs": [
    {
     "data": {
      "text/plain": [
       "array([[ 1.,  0.,  0.,  0.,  0.],\n",
       "       [ 1.,  0.,  0.,  0.,  0.],\n",
       "       [ 1.,  0.,  0.,  0.,  0.],\n",
       "       ..., \n",
       "       [ 0.,  0.,  0.,  0.,  1.],\n",
       "       [ 0.,  0.,  0.,  0.,  1.],\n",
       "       [ 0.,  0.,  0.,  0.,  1.]])"
      ]
     },
     "execution_count": 238,
     "metadata": {},
     "output_type": "execute_result"
    }
   ],
   "source": [
    "Y_train7"
   ]
  },
  {
   "cell_type": "code",
   "execution_count": 229,
   "metadata": {
    "collapsed": true
   },
   "outputs": [],
   "source": [
    "np.random.seed(0)\n",
    "\n",
    "model07 = Sequential()\n",
    "\n",
    "model07.add(Conv2D(64, (5, 5), activation='relu', input_shape=(48, 48, 1), padding='same', kernel_regularizer=l2(0.001)))\n",
    "model07.add(Conv2D(64, (5, 5), activation='relu', padding='same'))\n",
    "model07.add(MaxPooling2D())\n",
    "model07.add(Dropout(0.3))\n",
    "\n",
    "model07.add(Conv2D(128, (5, 5), activation='relu', padding='same', kernel_regularizer=l2(0.001)))\n",
    "model07.add(Conv2D(128, (5, 5), activation='relu', padding='same', kernel_regularizer=l2(0.001)))\n",
    "model07.add(MaxPooling2D())\n",
    "model07.add(Dropout(0.4))\n",
    "\n",
    "model07.add(Conv2D(256, (5, 5), activation='relu', padding='same', kernel_regularizer=l2(0.001)))\n",
    "model07.add(Conv2D(256, (5, 5), activation='relu', padding='same', kernel_regularizer=l2(0.001)))\n",
    "model07.add(MaxPooling2D())\n",
    "model07.add(Dropout(0.4))\n",
    "\n",
    "model07.add(Flatten())\n",
    "model07.add(Dense(512, activation='relu', kernel_regularizer=l2(0.001)))\n",
    "model07.add(Dropout(0.5))\n",
    "model07.add(Dense(5, activation='softmax'))\n",
    "\n",
    "opt = optimizers.Adadelta()\n",
    "model07.compile(loss='categorical_crossentropy', optimizer=opt, metrics=['accuracy'])"
   ]
  },
  {
   "cell_type": "code",
   "execution_count": 231,
   "metadata": {
    "scrolled": true
   },
   "outputs": [
    {
     "name": "stdout",
     "output_type": "stream",
     "text": [
      "Train on 18323 samples, validate on 2294 samples\n",
      "Epoch 1/50\n",
      "38s - loss: 1.2350 - acc: 0.5361 - val_loss: 1.2629 - val_acc: 0.5126\n",
      "Epoch 2/50\n",
      "38s - loss: 1.2246 - acc: 0.5412 - val_loss: 1.2710 - val_acc: 0.4943\n",
      "Epoch 3/50\n",
      "39s - loss: 1.2131 - acc: 0.5511 - val_loss: 1.3315 - val_acc: 0.4891\n",
      "Epoch 4/50\n",
      "39s - loss: 1.2102 - acc: 0.5573 - val_loss: 1.4210 - val_acc: 0.4612\n",
      "Epoch 5/50\n",
      "39s - loss: 1.2026 - acc: 0.5656 - val_loss: 1.2890 - val_acc: 0.5131\n",
      "Epoch 6/50\n",
      "39s - loss: 1.1884 - acc: 0.5714 - val_loss: 1.3423 - val_acc: 0.4804\n",
      "Epoch 7/50\n",
      "39s - loss: 1.1810 - acc: 0.5753 - val_loss: 1.3032 - val_acc: 0.5144\n",
      "Epoch 8/50\n",
      "39s - loss: 1.1727 - acc: 0.5860 - val_loss: 1.3166 - val_acc: 0.5026\n",
      "Epoch 9/50\n",
      "39s - loss: 1.1616 - acc: 0.5931 - val_loss: 1.3269 - val_acc: 0.5070\n",
      "Epoch 10/50\n",
      "39s - loss: 1.1471 - acc: 0.6050 - val_loss: 1.3396 - val_acc: 0.5052\n",
      "Epoch 11/50\n",
      "39s - loss: 1.1430 - acc: 0.6105 - val_loss: 1.4058 - val_acc: 0.5166\n",
      "Epoch 12/50\n",
      "39s - loss: 1.1324 - acc: 0.6174 - val_loss: 1.3117 - val_acc: 0.5310\n",
      "Epoch 13/50\n",
      "39s - loss: 1.1217 - acc: 0.6235 - val_loss: 1.3693 - val_acc: 0.5139\n",
      "Epoch 14/50\n",
      "39s - loss: 1.1123 - acc: 0.6321 - val_loss: 1.3826 - val_acc: 0.5170\n",
      "Epoch 15/50\n",
      "39s - loss: 1.1074 - acc: 0.6421 - val_loss: 1.3575 - val_acc: 0.5414\n",
      "Epoch 16/50\n",
      "39s - loss: 1.0929 - acc: 0.6509 - val_loss: 1.3151 - val_acc: 0.5344\n",
      "Epoch 17/50\n",
      "39s - loss: 1.0856 - acc: 0.6546 - val_loss: 1.4372 - val_acc: 0.5292\n",
      "Epoch 18/50\n",
      "39s - loss: 1.0750 - acc: 0.6648 - val_loss: 1.3827 - val_acc: 0.5170\n",
      "Epoch 19/50\n",
      "39s - loss: 1.0617 - acc: 0.6757 - val_loss: 1.3537 - val_acc: 0.5432\n",
      "Epoch 20/50\n",
      "39s - loss: 1.0508 - acc: 0.6807 - val_loss: 1.3538 - val_acc: 0.5480\n",
      "Epoch 21/50\n",
      "39s - loss: 1.0397 - acc: 0.6910 - val_loss: 1.5346 - val_acc: 0.5192\n",
      "Epoch 22/50\n",
      "39s - loss: 1.0283 - acc: 0.6967 - val_loss: 1.4665 - val_acc: 0.5375\n",
      "Epoch 23/50\n",
      "39s - loss: 1.0161 - acc: 0.7106 - val_loss: 1.4164 - val_acc: 0.5440\n",
      "Epoch 24/50\n",
      "39s - loss: 1.0047 - acc: 0.7207 - val_loss: 1.4566 - val_acc: 0.5588\n",
      "Epoch 25/50\n",
      "39s - loss: 0.9915 - acc: 0.7276 - val_loss: 1.4890 - val_acc: 0.5440\n",
      "Epoch 26/50\n",
      "39s - loss: 0.9809 - acc: 0.7326 - val_loss: 1.5024 - val_acc: 0.5645\n",
      "Epoch 27/50\n",
      "39s - loss: 0.9746 - acc: 0.7389 - val_loss: 1.5244 - val_acc: 0.5671\n",
      "Epoch 28/50\n",
      "39s - loss: 0.9591 - acc: 0.7518 - val_loss: 1.4854 - val_acc: 0.5780\n",
      "Epoch 29/50\n",
      "39s - loss: 0.9504 - acc: 0.7616 - val_loss: 1.5236 - val_acc: 0.5519\n",
      "Epoch 30/50\n",
      "39s - loss: 0.9323 - acc: 0.7723 - val_loss: 1.6283 - val_acc: 0.5575\n",
      "Epoch 31/50\n",
      "39s - loss: 0.9258 - acc: 0.7807 - val_loss: 1.5823 - val_acc: 0.5541\n",
      "Epoch 32/50\n",
      "39s - loss: 0.9051 - acc: 0.7860 - val_loss: 1.6285 - val_acc: 0.5292\n",
      "Epoch 33/50\n",
      "39s - loss: 0.9022 - acc: 0.7930 - val_loss: 1.5372 - val_acc: 0.5732\n",
      "Epoch 34/50\n",
      "39s - loss: 0.8752 - acc: 0.8018 - val_loss: 1.6562 - val_acc: 0.5432\n",
      "Epoch 35/50\n",
      "39s - loss: 0.8733 - acc: 0.8089 - val_loss: 1.6891 - val_acc: 0.5706\n",
      "Epoch 36/50\n",
      "39s - loss: 0.8652 - acc: 0.8159 - val_loss: 1.7033 - val_acc: 0.5706\n",
      "Epoch 37/50\n",
      "39s - loss: 0.8457 - acc: 0.8272 - val_loss: 1.6957 - val_acc: 0.5684\n",
      "Epoch 38/50\n",
      "39s - loss: 0.8363 - acc: 0.8293 - val_loss: 1.7106 - val_acc: 0.5645\n",
      "Epoch 39/50\n",
      "39s - loss: 0.8389 - acc: 0.8347 - val_loss: 1.8068 - val_acc: 0.5693\n",
      "Epoch 40/50\n",
      "39s - loss: 0.8258 - acc: 0.8416 - val_loss: 1.7963 - val_acc: 0.5719\n",
      "Epoch 41/50\n",
      "38s - loss: 0.8225 - acc: 0.8448 - val_loss: 1.7798 - val_acc: 0.5562\n",
      "Epoch 42/50\n",
      "38s - loss: 0.8030 - acc: 0.8543 - val_loss: 1.8383 - val_acc: 0.5610\n",
      "Epoch 43/50\n",
      "38s - loss: 0.7940 - acc: 0.8597 - val_loss: 1.9040 - val_acc: 0.5706\n",
      "Epoch 44/50\n",
      "38s - loss: 0.7871 - acc: 0.8606 - val_loss: 1.8616 - val_acc: 0.5654\n",
      "Epoch 45/50\n",
      "39s - loss: 0.7829 - acc: 0.8640 - val_loss: 1.8902 - val_acc: 0.5684\n",
      "Epoch 46/50\n",
      "39s - loss: 0.7769 - acc: 0.8661 - val_loss: 2.0113 - val_acc: 0.5711\n",
      "Epoch 47/50\n",
      "39s - loss: 0.7775 - acc: 0.8699 - val_loss: 2.0262 - val_acc: 0.5833\n",
      "Epoch 48/50\n",
      "39s - loss: 0.7564 - acc: 0.8792 - val_loss: 2.0236 - val_acc: 0.5689\n",
      "Epoch 49/50\n",
      "39s - loss: 0.7616 - acc: 0.8758 - val_loss: 1.9554 - val_acc: 0.5575\n",
      "Epoch 50/50\n",
      "39s - loss: 0.7473 - acc: 0.8831 - val_loss: 2.0546 - val_acc: 0.5493\n",
      "CPU times: user 21min 2s, sys: 2min 28s, total: 23min 31s\n",
      "Wall time: 32min 31s\n"
     ]
    }
   ],
   "source": [
    "%%time\n",
    "hist07 = model07.fit(X_train7, Y_train7, epochs=50, batch_size=100, validation_data=(X_test7, Y_test7), verbose=2)"
   ]
  },
  {
   "cell_type": "code",
   "execution_count": 232,
   "metadata": {
    "collapsed": true
   },
   "outputs": [],
   "source": [
    "model07.save(\"../models/face_M07.hdf5\")"
   ]
  },
  {
   "cell_type": "markdown",
   "metadata": {},
   "source": [
    "# Model 8(Angry : All)"
   ]
  },
  {
   "cell_type": "code",
   "execution_count": 31,
   "metadata": {
    "collapsed": true
   },
   "outputs": [],
   "source": [
    "Y_train_rmfo = np_utils.to_categorical((train.emotion.values != 0).astype(int), 2)\n",
    "Y_test_rmfo = np_utils.to_categorical((test.emotion.values != 0).astype(int), 2)\n",
    "Y_val_rmfo = np_utils.to_categorical((val.emotion.values != 0).astype(int), 2)"
   ]
  },
  {
   "cell_type": "code",
   "execution_count": 32,
   "metadata": {},
   "outputs": [
    {
     "data": {
      "text/plain": [
       "array([[ 1.,  0.],\n",
       "       [ 1.,  0.],\n",
       "       [ 0.,  1.],\n",
       "       [ 0.,  1.],\n",
       "       [ 0.,  1.]])"
      ]
     },
     "execution_count": 32,
     "metadata": {},
     "output_type": "execute_result"
    }
   ],
   "source": [
    "Y_train_rmfo[:5]"
   ]
  },
  {
   "cell_type": "code",
   "execution_count": 43,
   "metadata": {
    "collapsed": true
   },
   "outputs": [],
   "source": [
    "np.random.seed(0)\n",
    "\n",
    "model08 = Sequential()\n",
    "\n",
    "model08.add(Conv2D(64, (5, 5), activation='relu', input_shape=(48, 48, 1), padding='same', kernel_regularizer=l2(0.001)))\n",
    "model08.add(Conv2D(64, (5, 5), activation='relu', padding='same'))\n",
    "model08.add(MaxPooling2D())\n",
    "model08.add(Dropout(0.3))\n",
    "\n",
    "model08.add(Conv2D(128, (5, 5), activation='relu', padding='same', kernel_regularizer=l2(0.001)))\n",
    "model08.add(Conv2D(128, (5, 5), activation='relu', padding='same', kernel_regularizer=l2(0.001)))\n",
    "model08.add(MaxPooling2D())\n",
    "model08.add(Dropout(0.4))\n",
    "\n",
    "model08.add(Conv2D(256, (5, 5), activation='relu', padding='same', kernel_regularizer=l2(0.001)))\n",
    "model08.add(Conv2D(256, (5, 5), activation='relu', padding='same', kernel_regularizer=l2(0.001)))\n",
    "model08.add(MaxPooling2D())\n",
    "model08.add(Dropout(0.4))\n",
    "\n",
    "model08.add(Flatten())\n",
    "model08.add(Dense(512, activation='relu', kernel_regularizer=l2(0.001)))\n",
    "model08.add(Dropout(0.5))\n",
    "model08.add(Dense(2, activation='softmax'))\n",
    "\n",
    "opt = optimizers.Adadelta()\n",
    "model08.compile(loss='categorical_crossentropy', optimizer=opt, metrics=['accuracy'])"
   ]
  },
  {
   "cell_type": "code",
   "execution_count": 44,
   "metadata": {
    "scrolled": true
   },
   "outputs": [
    {
     "name": "stdout",
     "output_type": "stream",
     "text": [
      "Train on 28709 samples, validate on 3589 samples\n",
      "Epoch 1/50\n",
      "58s - loss: 1.4595 - acc: 0.8588 - val_loss: 1.0188 - val_acc: 0.8632\n",
      "Epoch 2/50\n",
      "57s - loss: 0.7556 - acc: 0.8608 - val_loss: 0.5993 - val_acc: 0.8632\n",
      "Epoch 3/50\n",
      "57s - loss: 0.5206 - acc: 0.8608 - val_loss: 0.4641 - val_acc: 0.8632\n",
      "Epoch 4/50\n",
      "57s - loss: 0.4424 - acc: 0.8608 - val_loss: 0.4571 - val_acc: 0.8632\n",
      "Epoch 5/50\n",
      "57s - loss: 0.4147 - acc: 0.8608 - val_loss: 0.4243 - val_acc: 0.8632\n",
      "Epoch 6/50\n",
      "57s - loss: 0.4024 - acc: 0.8608 - val_loss: 0.4091 - val_acc: 0.8632\n",
      "Epoch 7/50\n",
      "57s - loss: 0.3962 - acc: 0.8608 - val_loss: 0.3970 - val_acc: 0.8632\n",
      "Epoch 8/50\n"
     ]
    },
    {
     "ename": "KeyboardInterrupt",
     "evalue": "",
     "output_type": "error",
     "traceback": [
      "\u001b[0;31m---------------------------------------------------------------------------\u001b[0m",
      "\u001b[0;31mKeyboardInterrupt\u001b[0m                         Traceback (most recent call last)",
      "\u001b[0;32m<ipython-input-44-9a79495ae143>\u001b[0m in \u001b[0;36m<module>\u001b[0;34m()\u001b[0m\n\u001b[0;32m----> 1\u001b[0;31m \u001b[0mget_ipython\u001b[0m\u001b[0;34m(\u001b[0m\u001b[0;34m)\u001b[0m\u001b[0;34m.\u001b[0m\u001b[0mrun_cell_magic\u001b[0m\u001b[0;34m(\u001b[0m\u001b[0;34mu'time'\u001b[0m\u001b[0;34m,\u001b[0m \u001b[0;34mu''\u001b[0m\u001b[0;34m,\u001b[0m \u001b[0;34mu'hist08 = model08.fit(X_train, Y_train_rmfo, epochs=50, batch_size=100, validation_data=(X_test, Y_test_rmfo), verbose=2)'\u001b[0m\u001b[0;34m)\u001b[0m\u001b[0;34m\u001b[0m\u001b[0m\n\u001b[0m",
      "\u001b[0;32m/usr/lib/python2.7/dist-packages/IPython/core/interactiveshell.pyc\u001b[0m in \u001b[0;36mrun_cell_magic\u001b[0;34m(self, magic_name, line, cell)\u001b[0m\n\u001b[1;32m   2113\u001b[0m             \u001b[0mmagic_arg_s\u001b[0m \u001b[0;34m=\u001b[0m \u001b[0mself\u001b[0m\u001b[0;34m.\u001b[0m\u001b[0mvar_expand\u001b[0m\u001b[0;34m(\u001b[0m\u001b[0mline\u001b[0m\u001b[0;34m,\u001b[0m \u001b[0mstack_depth\u001b[0m\u001b[0;34m)\u001b[0m\u001b[0;34m\u001b[0m\u001b[0m\n\u001b[1;32m   2114\u001b[0m             \u001b[0;32mwith\u001b[0m \u001b[0mself\u001b[0m\u001b[0;34m.\u001b[0m\u001b[0mbuiltin_trap\u001b[0m\u001b[0;34m:\u001b[0m\u001b[0;34m\u001b[0m\u001b[0m\n\u001b[0;32m-> 2115\u001b[0;31m                 \u001b[0mresult\u001b[0m \u001b[0;34m=\u001b[0m \u001b[0mfn\u001b[0m\u001b[0;34m(\u001b[0m\u001b[0mmagic_arg_s\u001b[0m\u001b[0;34m,\u001b[0m \u001b[0mcell\u001b[0m\u001b[0;34m)\u001b[0m\u001b[0;34m\u001b[0m\u001b[0m\n\u001b[0m\u001b[1;32m   2116\u001b[0m             \u001b[0;32mreturn\u001b[0m \u001b[0mresult\u001b[0m\u001b[0;34m\u001b[0m\u001b[0m\n\u001b[1;32m   2117\u001b[0m \u001b[0;34m\u001b[0m\u001b[0m\n",
      "\u001b[0;32m<decorator-gen-59>\u001b[0m in \u001b[0;36mtime\u001b[0;34m(self, line, cell, local_ns)\u001b[0m\n",
      "\u001b[0;32m/usr/lib/python2.7/dist-packages/IPython/core/magic.pyc\u001b[0m in \u001b[0;36m<lambda>\u001b[0;34m(f, *a, **k)\u001b[0m\n\u001b[1;32m    186\u001b[0m     \u001b[0;31m# but it's overkill for just that one bit of state.\u001b[0m\u001b[0;34m\u001b[0m\u001b[0;34m\u001b[0m\u001b[0m\n\u001b[1;32m    187\u001b[0m     \u001b[0;32mdef\u001b[0m \u001b[0mmagic_deco\u001b[0m\u001b[0;34m(\u001b[0m\u001b[0marg\u001b[0m\u001b[0;34m)\u001b[0m\u001b[0;34m:\u001b[0m\u001b[0;34m\u001b[0m\u001b[0m\n\u001b[0;32m--> 188\u001b[0;31m         \u001b[0mcall\u001b[0m \u001b[0;34m=\u001b[0m \u001b[0;32mlambda\u001b[0m \u001b[0mf\u001b[0m\u001b[0;34m,\u001b[0m \u001b[0;34m*\u001b[0m\u001b[0ma\u001b[0m\u001b[0;34m,\u001b[0m \u001b[0;34m**\u001b[0m\u001b[0mk\u001b[0m\u001b[0;34m:\u001b[0m \u001b[0mf\u001b[0m\u001b[0;34m(\u001b[0m\u001b[0;34m*\u001b[0m\u001b[0ma\u001b[0m\u001b[0;34m,\u001b[0m \u001b[0;34m**\u001b[0m\u001b[0mk\u001b[0m\u001b[0;34m)\u001b[0m\u001b[0;34m\u001b[0m\u001b[0m\n\u001b[0m\u001b[1;32m    189\u001b[0m \u001b[0;34m\u001b[0m\u001b[0m\n\u001b[1;32m    190\u001b[0m         \u001b[0;32mif\u001b[0m \u001b[0mcallable\u001b[0m\u001b[0;34m(\u001b[0m\u001b[0marg\u001b[0m\u001b[0;34m)\u001b[0m\u001b[0;34m:\u001b[0m\u001b[0;34m\u001b[0m\u001b[0m\n",
      "\u001b[0;32m/usr/lib/python2.7/dist-packages/IPython/core/magics/execution.pyc\u001b[0m in \u001b[0;36mtime\u001b[0;34m(self, line, cell, local_ns)\u001b[0m\n\u001b[1;32m   1183\u001b[0m         \u001b[0;32melse\u001b[0m\u001b[0;34m:\u001b[0m\u001b[0;34m\u001b[0m\u001b[0m\n\u001b[1;32m   1184\u001b[0m             \u001b[0mst\u001b[0m \u001b[0;34m=\u001b[0m \u001b[0mclock2\u001b[0m\u001b[0;34m(\u001b[0m\u001b[0;34m)\u001b[0m\u001b[0;34m\u001b[0m\u001b[0m\n\u001b[0;32m-> 1185\u001b[0;31m             \u001b[0;32mexec\u001b[0m\u001b[0;34m(\u001b[0m\u001b[0mcode\u001b[0m\u001b[0;34m,\u001b[0m \u001b[0mglob\u001b[0m\u001b[0;34m,\u001b[0m \u001b[0mlocal_ns\u001b[0m\u001b[0;34m)\u001b[0m\u001b[0;34m\u001b[0m\u001b[0m\n\u001b[0m\u001b[1;32m   1186\u001b[0m             \u001b[0mend\u001b[0m \u001b[0;34m=\u001b[0m \u001b[0mclock2\u001b[0m\u001b[0;34m(\u001b[0m\u001b[0;34m)\u001b[0m\u001b[0;34m\u001b[0m\u001b[0m\n\u001b[1;32m   1187\u001b[0m             \u001b[0mout\u001b[0m \u001b[0;34m=\u001b[0m \u001b[0mNone\u001b[0m\u001b[0;34m\u001b[0m\u001b[0m\n",
      "\u001b[0;32m<timed exec>\u001b[0m in \u001b[0;36m<module>\u001b[0;34m()\u001b[0m\n",
      "\u001b[0;32m/usr/local/lib64/python2.7/site-packages/keras/models.pyc\u001b[0m in \u001b[0;36mfit\u001b[0;34m(self, x, y, batch_size, epochs, verbose, callbacks, validation_split, validation_data, shuffle, class_weight, sample_weight, initial_epoch, **kwargs)\u001b[0m\n\u001b[1;32m    854\u001b[0m                               \u001b[0mclass_weight\u001b[0m\u001b[0;34m=\u001b[0m\u001b[0mclass_weight\u001b[0m\u001b[0;34m,\u001b[0m\u001b[0;34m\u001b[0m\u001b[0m\n\u001b[1;32m    855\u001b[0m                               \u001b[0msample_weight\u001b[0m\u001b[0;34m=\u001b[0m\u001b[0msample_weight\u001b[0m\u001b[0;34m,\u001b[0m\u001b[0;34m\u001b[0m\u001b[0m\n\u001b[0;32m--> 856\u001b[0;31m                               initial_epoch=initial_epoch)\n\u001b[0m\u001b[1;32m    857\u001b[0m \u001b[0;34m\u001b[0m\u001b[0m\n\u001b[1;32m    858\u001b[0m     def evaluate(self, x, y, batch_size=32, verbose=1,\n",
      "\u001b[0;32m/usr/local/lib64/python2.7/site-packages/keras/engine/training.pyc\u001b[0m in \u001b[0;36mfit\u001b[0;34m(self, x, y, batch_size, epochs, verbose, callbacks, validation_split, validation_data, shuffle, class_weight, sample_weight, initial_epoch, **kwargs)\u001b[0m\n\u001b[1;32m   1496\u001b[0m                               \u001b[0mval_f\u001b[0m\u001b[0;34m=\u001b[0m\u001b[0mval_f\u001b[0m\u001b[0;34m,\u001b[0m \u001b[0mval_ins\u001b[0m\u001b[0;34m=\u001b[0m\u001b[0mval_ins\u001b[0m\u001b[0;34m,\u001b[0m \u001b[0mshuffle\u001b[0m\u001b[0;34m=\u001b[0m\u001b[0mshuffle\u001b[0m\u001b[0;34m,\u001b[0m\u001b[0;34m\u001b[0m\u001b[0m\n\u001b[1;32m   1497\u001b[0m                               \u001b[0mcallback_metrics\u001b[0m\u001b[0;34m=\u001b[0m\u001b[0mcallback_metrics\u001b[0m\u001b[0;34m,\u001b[0m\u001b[0;34m\u001b[0m\u001b[0m\n\u001b[0;32m-> 1498\u001b[0;31m                               initial_epoch=initial_epoch)\n\u001b[0m\u001b[1;32m   1499\u001b[0m \u001b[0;34m\u001b[0m\u001b[0m\n\u001b[1;32m   1500\u001b[0m     \u001b[0;32mdef\u001b[0m \u001b[0mevaluate\u001b[0m\u001b[0;34m(\u001b[0m\u001b[0mself\u001b[0m\u001b[0;34m,\u001b[0m \u001b[0mx\u001b[0m\u001b[0;34m,\u001b[0m \u001b[0my\u001b[0m\u001b[0;34m,\u001b[0m \u001b[0mbatch_size\u001b[0m\u001b[0;34m=\u001b[0m\u001b[0;36m32\u001b[0m\u001b[0;34m,\u001b[0m \u001b[0mverbose\u001b[0m\u001b[0;34m=\u001b[0m\u001b[0;36m1\u001b[0m\u001b[0;34m,\u001b[0m \u001b[0msample_weight\u001b[0m\u001b[0;34m=\u001b[0m\u001b[0mNone\u001b[0m\u001b[0;34m)\u001b[0m\u001b[0;34m:\u001b[0m\u001b[0;34m\u001b[0m\u001b[0m\n",
      "\u001b[0;32m/usr/local/lib64/python2.7/site-packages/keras/engine/training.pyc\u001b[0m in \u001b[0;36m_fit_loop\u001b[0;34m(self, f, ins, out_labels, batch_size, epochs, verbose, callbacks, val_f, val_ins, shuffle, callback_metrics, initial_epoch)\u001b[0m\n\u001b[1;32m   1150\u001b[0m                 \u001b[0mbatch_logs\u001b[0m\u001b[0;34m[\u001b[0m\u001b[0;34m'size'\u001b[0m\u001b[0;34m]\u001b[0m \u001b[0;34m=\u001b[0m \u001b[0mlen\u001b[0m\u001b[0;34m(\u001b[0m\u001b[0mbatch_ids\u001b[0m\u001b[0;34m)\u001b[0m\u001b[0;34m\u001b[0m\u001b[0m\n\u001b[1;32m   1151\u001b[0m                 \u001b[0mcallbacks\u001b[0m\u001b[0;34m.\u001b[0m\u001b[0mon_batch_begin\u001b[0m\u001b[0;34m(\u001b[0m\u001b[0mbatch_index\u001b[0m\u001b[0;34m,\u001b[0m \u001b[0mbatch_logs\u001b[0m\u001b[0;34m)\u001b[0m\u001b[0;34m\u001b[0m\u001b[0m\n\u001b[0;32m-> 1152\u001b[0;31m                 \u001b[0mouts\u001b[0m \u001b[0;34m=\u001b[0m \u001b[0mf\u001b[0m\u001b[0;34m(\u001b[0m\u001b[0mins_batch\u001b[0m\u001b[0;34m)\u001b[0m\u001b[0;34m\u001b[0m\u001b[0m\n\u001b[0m\u001b[1;32m   1153\u001b[0m                 \u001b[0;32mif\u001b[0m \u001b[0;32mnot\u001b[0m \u001b[0misinstance\u001b[0m\u001b[0;34m(\u001b[0m\u001b[0mouts\u001b[0m\u001b[0;34m,\u001b[0m \u001b[0mlist\u001b[0m\u001b[0;34m)\u001b[0m\u001b[0;34m:\u001b[0m\u001b[0;34m\u001b[0m\u001b[0m\n\u001b[1;32m   1154\u001b[0m                     \u001b[0mouts\u001b[0m \u001b[0;34m=\u001b[0m \u001b[0;34m[\u001b[0m\u001b[0mouts\u001b[0m\u001b[0;34m]\u001b[0m\u001b[0;34m\u001b[0m\u001b[0m\n",
      "\u001b[0;32m/usr/local/lib64/python2.7/site-packages/keras/backend/tensorflow_backend.pyc\u001b[0m in \u001b[0;36m__call__\u001b[0;34m(self, inputs)\u001b[0m\n\u001b[1;32m   2227\u001b[0m         \u001b[0msession\u001b[0m \u001b[0;34m=\u001b[0m \u001b[0mget_session\u001b[0m\u001b[0;34m(\u001b[0m\u001b[0;34m)\u001b[0m\u001b[0;34m\u001b[0m\u001b[0m\n\u001b[1;32m   2228\u001b[0m         updated = session.run(self.outputs + [self.updates_op],\n\u001b[0;32m-> 2229\u001b[0;31m                               feed_dict=feed_dict)\n\u001b[0m\u001b[1;32m   2230\u001b[0m         \u001b[0;32mreturn\u001b[0m \u001b[0mupdated\u001b[0m\u001b[0;34m[\u001b[0m\u001b[0;34m:\u001b[0m\u001b[0mlen\u001b[0m\u001b[0;34m(\u001b[0m\u001b[0mself\u001b[0m\u001b[0;34m.\u001b[0m\u001b[0moutputs\u001b[0m\u001b[0;34m)\u001b[0m\u001b[0;34m]\u001b[0m\u001b[0;34m\u001b[0m\u001b[0m\n\u001b[1;32m   2231\u001b[0m \u001b[0;34m\u001b[0m\u001b[0m\n",
      "\u001b[0;32m/usr/lib/python2.7/dist-packages/tensorflow/python/client/session.pyc\u001b[0m in \u001b[0;36mrun\u001b[0;34m(self, fetches, feed_dict, options, run_metadata)\u001b[0m\n\u001b[1;32m    765\u001b[0m     \u001b[0;32mtry\u001b[0m\u001b[0;34m:\u001b[0m\u001b[0;34m\u001b[0m\u001b[0m\n\u001b[1;32m    766\u001b[0m       result = self._run(None, fetches, feed_dict, options_ptr,\n\u001b[0;32m--> 767\u001b[0;31m                          run_metadata_ptr)\n\u001b[0m\u001b[1;32m    768\u001b[0m       \u001b[0;32mif\u001b[0m \u001b[0mrun_metadata\u001b[0m\u001b[0;34m:\u001b[0m\u001b[0;34m\u001b[0m\u001b[0m\n\u001b[1;32m    769\u001b[0m         \u001b[0mproto_data\u001b[0m \u001b[0;34m=\u001b[0m \u001b[0mtf_session\u001b[0m\u001b[0;34m.\u001b[0m\u001b[0mTF_GetBuffer\u001b[0m\u001b[0;34m(\u001b[0m\u001b[0mrun_metadata_ptr\u001b[0m\u001b[0;34m)\u001b[0m\u001b[0;34m\u001b[0m\u001b[0m\n",
      "\u001b[0;32m/usr/lib/python2.7/dist-packages/tensorflow/python/client/session.pyc\u001b[0m in \u001b[0;36m_run\u001b[0;34m(self, handle, fetches, feed_dict, options, run_metadata)\u001b[0m\n\u001b[1;32m    963\u001b[0m     \u001b[0;32mif\u001b[0m \u001b[0mfinal_fetches\u001b[0m \u001b[0;32mor\u001b[0m \u001b[0mfinal_targets\u001b[0m\u001b[0;34m:\u001b[0m\u001b[0;34m\u001b[0m\u001b[0m\n\u001b[1;32m    964\u001b[0m       results = self._do_run(handle, final_targets, final_fetches,\n\u001b[0;32m--> 965\u001b[0;31m                              feed_dict_string, options, run_metadata)\n\u001b[0m\u001b[1;32m    966\u001b[0m     \u001b[0;32melse\u001b[0m\u001b[0;34m:\u001b[0m\u001b[0;34m\u001b[0m\u001b[0m\n\u001b[1;32m    967\u001b[0m       \u001b[0mresults\u001b[0m \u001b[0;34m=\u001b[0m \u001b[0;34m[\u001b[0m\u001b[0;34m]\u001b[0m\u001b[0;34m\u001b[0m\u001b[0m\n",
      "\u001b[0;32m/usr/lib/python2.7/dist-packages/tensorflow/python/client/session.pyc\u001b[0m in \u001b[0;36m_do_run\u001b[0;34m(self, handle, target_list, fetch_list, feed_dict, options, run_metadata)\u001b[0m\n\u001b[1;32m   1013\u001b[0m     \u001b[0;32mif\u001b[0m \u001b[0mhandle\u001b[0m \u001b[0;32mis\u001b[0m \u001b[0mNone\u001b[0m\u001b[0;34m:\u001b[0m\u001b[0;34m\u001b[0m\u001b[0m\n\u001b[1;32m   1014\u001b[0m       return self._do_call(_run_fn, self._session, feed_dict, fetch_list,\n\u001b[0;32m-> 1015\u001b[0;31m                            target_list, options, run_metadata)\n\u001b[0m\u001b[1;32m   1016\u001b[0m     \u001b[0;32melse\u001b[0m\u001b[0;34m:\u001b[0m\u001b[0;34m\u001b[0m\u001b[0m\n\u001b[1;32m   1017\u001b[0m       return self._do_call(_prun_fn, self._session, handle, feed_dict,\n",
      "\u001b[0;32m/usr/lib/python2.7/dist-packages/tensorflow/python/client/session.pyc\u001b[0m in \u001b[0;36m_do_call\u001b[0;34m(self, fn, *args)\u001b[0m\n\u001b[1;32m   1020\u001b[0m   \u001b[0;32mdef\u001b[0m \u001b[0m_do_call\u001b[0m\u001b[0;34m(\u001b[0m\u001b[0mself\u001b[0m\u001b[0;34m,\u001b[0m \u001b[0mfn\u001b[0m\u001b[0;34m,\u001b[0m \u001b[0;34m*\u001b[0m\u001b[0margs\u001b[0m\u001b[0;34m)\u001b[0m\u001b[0;34m:\u001b[0m\u001b[0;34m\u001b[0m\u001b[0m\n\u001b[1;32m   1021\u001b[0m     \u001b[0;32mtry\u001b[0m\u001b[0;34m:\u001b[0m\u001b[0;34m\u001b[0m\u001b[0m\n\u001b[0;32m-> 1022\u001b[0;31m       \u001b[0;32mreturn\u001b[0m \u001b[0mfn\u001b[0m\u001b[0;34m(\u001b[0m\u001b[0;34m*\u001b[0m\u001b[0margs\u001b[0m\u001b[0;34m)\u001b[0m\u001b[0;34m\u001b[0m\u001b[0m\n\u001b[0m\u001b[1;32m   1023\u001b[0m     \u001b[0;32mexcept\u001b[0m \u001b[0merrors\u001b[0m\u001b[0;34m.\u001b[0m\u001b[0mOpError\u001b[0m \u001b[0;32mas\u001b[0m \u001b[0me\u001b[0m\u001b[0;34m:\u001b[0m\u001b[0;34m\u001b[0m\u001b[0m\n\u001b[1;32m   1024\u001b[0m       \u001b[0mmessage\u001b[0m \u001b[0;34m=\u001b[0m \u001b[0mcompat\u001b[0m\u001b[0;34m.\u001b[0m\u001b[0mas_text\u001b[0m\u001b[0;34m(\u001b[0m\u001b[0me\u001b[0m\u001b[0;34m.\u001b[0m\u001b[0mmessage\u001b[0m\u001b[0;34m)\u001b[0m\u001b[0;34m\u001b[0m\u001b[0m\n",
      "\u001b[0;32m/usr/lib/python2.7/dist-packages/tensorflow/python/client/session.pyc\u001b[0m in \u001b[0;36m_run_fn\u001b[0;34m(session, feed_dict, fetch_list, target_list, options, run_metadata)\u001b[0m\n\u001b[1;32m   1002\u001b[0m         return tf_session.TF_Run(session, options,\n\u001b[1;32m   1003\u001b[0m                                  \u001b[0mfeed_dict\u001b[0m\u001b[0;34m,\u001b[0m \u001b[0mfetch_list\u001b[0m\u001b[0;34m,\u001b[0m \u001b[0mtarget_list\u001b[0m\u001b[0;34m,\u001b[0m\u001b[0;34m\u001b[0m\u001b[0m\n\u001b[0;32m-> 1004\u001b[0;31m                                  status, run_metadata)\n\u001b[0m\u001b[1;32m   1005\u001b[0m \u001b[0;34m\u001b[0m\u001b[0m\n\u001b[1;32m   1006\u001b[0m     \u001b[0;32mdef\u001b[0m \u001b[0m_prun_fn\u001b[0m\u001b[0;34m(\u001b[0m\u001b[0msession\u001b[0m\u001b[0;34m,\u001b[0m \u001b[0mhandle\u001b[0m\u001b[0;34m,\u001b[0m \u001b[0mfeed_dict\u001b[0m\u001b[0;34m,\u001b[0m \u001b[0mfetch_list\u001b[0m\u001b[0;34m)\u001b[0m\u001b[0;34m:\u001b[0m\u001b[0;34m\u001b[0m\u001b[0m\n",
      "\u001b[0;31mKeyboardInterrupt\u001b[0m: "
     ]
    }
   ],
   "source": [
    "%%time\n",
    "hist08 = model08.fit(X_train, Y_train_rmfo, epochs=50, batch_size=100, validation_data=(X_test, Y_test_rmfo), verbose=2)"
   ]
  },
  {
   "cell_type": "markdown",
   "metadata": {
    "collapsed": true
   },
   "source": [
    "# Model9 (Angry : Fear : Sad : Neutral)"
   ]
  },
  {
   "cell_type": "code",
   "execution_count": 33,
   "metadata": {
    "collapsed": true
   },
   "outputs": [],
   "source": [
    "X_train9 = np.vstack((X_train[idx_train[idx_train['label'] == 0].index], X_train[idx_train[idx_train['label'] == 2].index], X_train[idx_train[idx_train['label'] == 4].index], X_train[idx_train[idx_train['label'] == 6].index]))\n",
    "Y_train9 = np.vstack((Y_train[idx_train[idx_train['label'] == 0].index], Y_train[idx_train[idx_train['label'] == 2].index], Y_train[idx_train[idx_train['label'] == 4].index], Y_train[idx_train[idx_train['label'] == 6].index]))[:,[0,2,4,6]]\n",
    "\n",
    "X_test9 = np.vstack((X_test[idx_test[idx_test['label'] == 0].index], X_test[idx_test[idx_test['label'] == 2].index], X_test[idx_test[idx_test['label'] == 4].index], X_test[idx_test[idx_test['label'] == 6].index]))\n",
    "Y_test9 = np.vstack((Y_test[idx_test[idx_test['label'] == 0].index], Y_test[idx_test[idx_test['label'] == 2].index], Y_test[idx_test[idx_test['label'] == 4].index], Y_test[idx_test[idx_test['label'] == 6].index]))[:,[0,2,4,6]]"
   ]
  },
  {
   "cell_type": "code",
   "execution_count": 35,
   "metadata": {},
   "outputs": [
    {
     "name": "stdout",
     "output_type": "stream",
     "text": [
      "X_train: (17887, 48, 48, 1)\n",
      "Y_train: (17887, 4)\n",
      "X_test: (2239, 48, 48, 1)\n",
      "Y_test: (2239, 4)\n"
     ]
    }
   ],
   "source": [
    "print('X_train: {}'.format(X_train9.shape))\n",
    "print('Y_train: {}'.format(Y_train9.shape))\n",
    "print('X_test: {}'.format(X_test9.shape))\n",
    "print('Y_test: {}'.format(Y_test9.shape))"
   ]
  },
  {
   "cell_type": "code",
   "execution_count": 36,
   "metadata": {},
   "outputs": [
    {
     "data": {
      "text/plain": [
       "array([[ 1.,  0.,  0.,  0.],\n",
       "       [ 1.,  0.,  0.,  0.],\n",
       "       [ 1.,  0.,  0.,  0.],\n",
       "       ..., \n",
       "       [ 0.,  0.,  0.,  1.],\n",
       "       [ 0.,  0.,  0.,  1.],\n",
       "       [ 0.,  0.,  0.,  1.]])"
      ]
     },
     "execution_count": 36,
     "metadata": {},
     "output_type": "execute_result"
    }
   ],
   "source": [
    "Y_train9"
   ]
  },
  {
   "cell_type": "code",
   "execution_count": 37,
   "metadata": {
    "collapsed": true
   },
   "outputs": [],
   "source": [
    "np.random.seed(0)\n",
    "\n",
    "model09 = Sequential()\n",
    "\n",
    "model09.add(Conv2D(64, (5, 5), activation='relu', input_shape=(48, 48, 1), padding='same', kernel_regularizer=l2(0.001)))\n",
    "model09.add(Conv2D(64, (5, 5), activation='relu', padding='same'))\n",
    "model09.add(MaxPooling2D())\n",
    "model09.add(Dropout(0.3))\n",
    "\n",
    "model09.add(Conv2D(128, (5, 5), activation='relu', padding='same', kernel_regularizer=l2(0.001)))\n",
    "model09.add(Conv2D(128, (5, 5), activation='relu', padding='same', kernel_regularizer=l2(0.001)))\n",
    "model09.add(MaxPooling2D())\n",
    "model09.add(Dropout(0.4))\n",
    "\n",
    "model09.add(Conv2D(256, (5, 5), activation='relu', padding='same', kernel_regularizer=l2(0.001)))\n",
    "model09.add(Conv2D(256, (5, 5), activation='relu', padding='same', kernel_regularizer=l2(0.001)))\n",
    "model09.add(MaxPooling2D())\n",
    "model09.add(Dropout(0.4))\n",
    "\n",
    "model09.add(Flatten())\n",
    "model09.add(Dense(512, activation='relu', kernel_regularizer=l2(0.001)))\n",
    "model09.add(Dropout(0.5))\n",
    "model09.add(Dense(4, activation='softmax'))\n",
    "\n",
    "opt = optimizers.Adadelta()\n",
    "model09.compile(loss='categorical_crossentropy', optimizer=opt, metrics=['accuracy'])"
   ]
  },
  {
   "cell_type": "code",
   "execution_count": 38,
   "metadata": {
    "scrolled": true
   },
   "outputs": [
    {
     "name": "stdout",
     "output_type": "stream",
     "text": [
      "Train on 17887 samples, validate on 2239 samples\n",
      "Epoch 1/50\n",
      "39s - loss: 2.5593 - acc: 0.2762 - val_loss: 2.1876 - val_acc: 0.2760\n",
      "Epoch 2/50\n",
      "35s - loss: 1.9628 - acc: 0.2915 - val_loss: 1.7767 - val_acc: 0.3109\n",
      "Epoch 3/50\n",
      "35s - loss: 1.6651 - acc: 0.3223 - val_loss: 1.5682 - val_acc: 0.3430\n",
      "Epoch 4/50\n",
      "35s - loss: 1.5129 - acc: 0.3361 - val_loss: 1.4530 - val_acc: 0.3631\n",
      "Epoch 5/50\n",
      "35s - loss: 1.4289 - acc: 0.3613 - val_loss: 1.3882 - val_acc: 0.3899\n",
      "Epoch 6/50\n",
      "35s - loss: 1.3805 - acc: 0.3772 - val_loss: 1.3867 - val_acc: 0.3711\n",
      "Epoch 7/50\n",
      "35s - loss: 1.3521 - acc: 0.3939 - val_loss: 1.3133 - val_acc: 0.4176\n",
      "Epoch 8/50\n",
      "35s - loss: 1.3284 - acc: 0.4107 - val_loss: 1.3046 - val_acc: 0.4292\n",
      "Epoch 9/50\n",
      "35s - loss: 1.3118 - acc: 0.4196 - val_loss: 1.2880 - val_acc: 0.4314\n",
      "Epoch 10/50\n",
      "35s - loss: 1.2980 - acc: 0.4335 - val_loss: 1.2850 - val_acc: 0.4422\n",
      "Epoch 11/50\n",
      "35s - loss: 1.2800 - acc: 0.4500 - val_loss: 1.2715 - val_acc: 0.4569\n",
      "Epoch 12/50\n",
      "35s - loss: 1.2648 - acc: 0.4684 - val_loss: 1.2672 - val_acc: 0.4645\n",
      "Epoch 13/50\n",
      "35s - loss: 1.2540 - acc: 0.4726 - val_loss: 1.2692 - val_acc: 0.4685\n",
      "Epoch 14/50\n",
      "35s - loss: 1.2379 - acc: 0.4932 - val_loss: 1.2446 - val_acc: 0.4788\n",
      "Epoch 15/50\n",
      "35s - loss: 1.2220 - acc: 0.5038 - val_loss: 1.2269 - val_acc: 0.5020\n",
      "Epoch 16/50\n",
      "35s - loss: 1.2126 - acc: 0.5141 - val_loss: 1.2218 - val_acc: 0.5069\n",
      "Epoch 17/50\n",
      "35s - loss: 1.2029 - acc: 0.5222 - val_loss: 1.2400 - val_acc: 0.5002\n",
      "Epoch 18/50\n",
      "35s - loss: 1.1891 - acc: 0.5421 - val_loss: 1.2181 - val_acc: 0.5136\n",
      "Epoch 19/50\n",
      "35s - loss: 1.1762 - acc: 0.5490 - val_loss: 1.2414 - val_acc: 0.5083\n",
      "Epoch 20/50\n",
      "35s - loss: 1.1715 - acc: 0.5548 - val_loss: 1.2387 - val_acc: 0.5167\n",
      "Epoch 21/50\n",
      "35s - loss: 1.1544 - acc: 0.5727 - val_loss: 1.2282 - val_acc: 0.5391\n",
      "Epoch 22/50\n",
      "35s - loss: 1.1437 - acc: 0.5832 - val_loss: 1.2685 - val_acc: 0.5306\n",
      "Epoch 23/50\n",
      "35s - loss: 1.1339 - acc: 0.5942 - val_loss: 1.2754 - val_acc: 0.5279\n",
      "Epoch 24/50\n",
      "35s - loss: 1.1151 - acc: 0.6074 - val_loss: 1.2560 - val_acc: 0.5306\n",
      "Epoch 25/50\n",
      "35s - loss: 1.1032 - acc: 0.6159 - val_loss: 1.2813 - val_acc: 0.5382\n",
      "Epoch 26/50\n",
      "35s - loss: 1.0833 - acc: 0.6310 - val_loss: 1.2993 - val_acc: 0.5368\n",
      "Epoch 27/50\n",
      "35s - loss: 1.0690 - acc: 0.6433 - val_loss: 1.2667 - val_acc: 0.5619\n",
      "Epoch 28/50\n",
      "35s - loss: 1.0496 - acc: 0.6616 - val_loss: 1.2938 - val_acc: 0.5547\n",
      "Epoch 29/50\n",
      "35s - loss: 1.0388 - acc: 0.6694 - val_loss: 1.2923 - val_acc: 0.5467\n",
      "Epoch 30/50\n",
      "35s - loss: 1.0164 - acc: 0.6819 - val_loss: 1.3366 - val_acc: 0.5525\n",
      "Epoch 31/50\n",
      "35s - loss: 0.9939 - acc: 0.6997 - val_loss: 1.3320 - val_acc: 0.5507\n",
      "Epoch 32/50\n",
      "35s - loss: 0.9666 - acc: 0.7169 - val_loss: 1.4246 - val_acc: 0.5543\n",
      "Epoch 33/50\n",
      "35s - loss: 0.9528 - acc: 0.7285 - val_loss: 1.3577 - val_acc: 0.5480\n",
      "Epoch 34/50\n",
      "35s - loss: 0.9247 - acc: 0.7475 - val_loss: 1.4407 - val_acc: 0.5592\n",
      "Epoch 35/50\n",
      "35s - loss: 0.9027 - acc: 0.7559 - val_loss: 1.4579 - val_acc: 0.5427\n",
      "Epoch 36/50\n",
      "35s - loss: 0.8809 - acc: 0.7676 - val_loss: 1.4816 - val_acc: 0.5538\n",
      "Epoch 37/50\n",
      "35s - loss: 0.8694 - acc: 0.7808 - val_loss: 1.4743 - val_acc: 0.5543\n",
      "Epoch 38/50\n",
      "35s - loss: 0.8490 - acc: 0.7873 - val_loss: 1.4942 - val_acc: 0.5592\n",
      "Epoch 39/50\n",
      "35s - loss: 0.8349 - acc: 0.7969 - val_loss: 1.5800 - val_acc: 0.5587\n",
      "Epoch 40/50\n",
      "35s - loss: 0.8097 - acc: 0.8098 - val_loss: 1.5472 - val_acc: 0.5663\n",
      "Epoch 41/50\n",
      "35s - loss: 0.8044 - acc: 0.8165 - val_loss: 1.5513 - val_acc: 0.5650\n",
      "Epoch 42/50\n",
      "35s - loss: 0.7932 - acc: 0.8253 - val_loss: 1.5742 - val_acc: 0.5552\n",
      "Epoch 43/50\n",
      "35s - loss: 0.7730 - acc: 0.8356 - val_loss: 1.5902 - val_acc: 0.5592\n",
      "Epoch 44/50\n",
      "35s - loss: 0.7582 - acc: 0.8396 - val_loss: 1.6049 - val_acc: 0.5614\n",
      "Epoch 45/50\n",
      "35s - loss: 0.7539 - acc: 0.8450 - val_loss: 1.7331 - val_acc: 0.5538\n",
      "Epoch 46/50\n",
      "35s - loss: 0.7468 - acc: 0.8515 - val_loss: 1.7466 - val_acc: 0.5668\n",
      "Epoch 47/50\n",
      "35s - loss: 0.7346 - acc: 0.8553 - val_loss: 1.7652 - val_acc: 0.5565\n",
      "Epoch 48/50\n",
      "35s - loss: 0.7331 - acc: 0.8590 - val_loss: 1.8377 - val_acc: 0.5690\n",
      "Epoch 49/50\n",
      "35s - loss: 0.7171 - acc: 0.8646 - val_loss: 1.8212 - val_acc: 0.5610\n",
      "Epoch 50/50\n",
      "35s - loss: 0.7074 - acc: 0.8705 - val_loss: 1.8431 - val_acc: 0.5636\n",
      "CPU times: user 19min 29s, sys: 2min 13s, total: 21min 42s\n",
      "Wall time: 29min 52s\n"
     ]
    }
   ],
   "source": [
    "%%time\n",
    "hist09 = model09.fit(X_train9, Y_train9, epochs=50, batch_size=100, validation_data=(X_test9, Y_test9), verbose=2)"
   ]
  },
  {
   "cell_type": "code",
   "execution_count": 39,
   "metadata": {
    "collapsed": true
   },
   "outputs": [],
   "source": [
    "model09.save(\"../models/face_M09.hdf5\")"
   ]
  },
  {
   "cell_type": "markdown",
   "metadata": {},
   "source": [
    "# Model 11 (Happy vs Surprise vs Others)"
   ]
  },
  {
   "cell_type": "code",
   "execution_count": 211,
   "metadata": {
    "collapsed": true
   },
   "outputs": [],
   "source": [
    "temp = train.emotion.values.copy()"
   ]
  },
  {
   "cell_type": "code",
   "execution_count": 195,
   "metadata": {
    "collapsed": true
   },
   "outputs": [],
   "source": [
    "Y_train_temp = train.emotion.values\n",
    "Y_train_temp[temp == 3] = 0 # Happy\n",
    "Y_train_temp[temp == 5] = 1 # Surprise\n",
    "Y_train_temp[(temp == 0) | (temp== 1) | (temp == 2) | (temp== 4) | (temp == 6)] = 2 # Angry, Fear, Sad, Neutral"
   ]
  },
  {
   "cell_type": "code",
   "execution_count": 206,
   "metadata": {},
   "outputs": [
    {
     "data": {
      "text/plain": [
       "array([2, 2, 2, 2, 2, 2, 2, 0, 0, 2, 2, 2, 2, 2, 0, 1, 0, 2, 2, 2])"
      ]
     },
     "execution_count": 206,
     "metadata": {},
     "output_type": "execute_result"
    }
   ],
   "source": [
    "Y_train_temp[:20]"
   ]
  },
  {
   "cell_type": "code",
   "execution_count": 208,
   "metadata": {
    "collapsed": true
   },
   "outputs": [],
   "source": [
    "temp = test.emotion.values.copy()"
   ]
  },
  {
   "cell_type": "code",
   "execution_count": 209,
   "metadata": {
    "collapsed": true
   },
   "outputs": [],
   "source": [
    "Y_test_temp = test.emotion.values\n",
    "Y_test_temp[temp == 3] = 0 # Happy\n",
    "Y_test_temp[temp == 5] = 1 # Surprise\n",
    "Y_test_temp[(temp == 0) | (temp== 1) | (temp == 2) | (temp== 4) | (temp == 6)] = 2 # Angry, Fear, Sad, Neutral"
   ]
  },
  {
   "cell_type": "code",
   "execution_count": 210,
   "metadata": {},
   "outputs": [
    {
     "data": {
      "text/plain": [
       "array([2, 1, 2, 2, 2, 2, 2, 0, 2, 0, 1, 0, 2, 2, 2, 2, 2, 1, 2, 2])"
      ]
     },
     "execution_count": 210,
     "metadata": {},
     "output_type": "execute_result"
    }
   ],
   "source": [
    "Y_test_temp[:20]"
   ]
  },
  {
   "cell_type": "code",
   "execution_count": 217,
   "metadata": {
    "collapsed": true
   },
   "outputs": [],
   "source": [
    "Y_train11 = np_utils.to_categorical(Y_train_temp, 3)\n",
    "Y_test11 = np_utils.to_categorical(Y_test_temp, 3)"
   ]
  },
  {
   "cell_type": "code",
   "execution_count": 218,
   "metadata": {},
   "outputs": [
    {
     "data": {
      "text/plain": [
       "(28709, 3)"
      ]
     },
     "execution_count": 218,
     "metadata": {},
     "output_type": "execute_result"
    }
   ],
   "source": [
    "Y_train11.shape"
   ]
  },
  {
   "cell_type": "code",
   "execution_count": 219,
   "metadata": {},
   "outputs": [
    {
     "data": {
      "text/plain": [
       "(3589, 3)"
      ]
     },
     "execution_count": 219,
     "metadata": {},
     "output_type": "execute_result"
    }
   ],
   "source": [
    "Y_test11.shape"
   ]
  },
  {
   "cell_type": "code",
   "execution_count": 222,
   "metadata": {
    "collapsed": true
   },
   "outputs": [],
   "source": [
    "np.random.seed(0)\n",
    "\n",
    "model11 = Sequential()\n",
    "\n",
    "model11.add(Conv2D(64, (5, 5), activation='relu', input_shape=(48, 48, 1), padding='same', kernel_regularizer=l2(0.001)))\n",
    "model11.add(Conv2D(64, (5, 5), activation='relu', padding='same'))\n",
    "model11.add(MaxPooling2D())\n",
    "model11.add(Dropout(0.3))\n",
    "\n",
    "model11.add(Conv2D(128, (5, 5), activation='relu', padding='same', kernel_regularizer=l2(0.001)))\n",
    "model11.add(Conv2D(128, (5, 5), activation='relu', padding='same', kernel_regularizer=l2(0.001)))\n",
    "model11.add(MaxPooling2D())\n",
    "model11.add(Dropout(0.4))\n",
    "\n",
    "model11.add(Conv2D(256, (5, 5), activation='relu', padding='same', kernel_regularizer=l2(0.001)))\n",
    "model11.add(Conv2D(256, (5, 5), activation='relu', padding='same', kernel_regularizer=l2(0.001)))\n",
    "model11.add(MaxPooling2D())\n",
    "model11.add(Dropout(0.4))\n",
    "\n",
    "model11.add(Flatten())\n",
    "model11.add(Dense(512, activation='relu', kernel_regularizer=l2(0.001)))\n",
    "model11.add(Dropout(0.5))\n",
    "model11.add(Dense(3, activation='softmax'))\n",
    "\n",
    "opt = optimizers.Adadelta()\n",
    "model11.compile(loss='categorical_crossentropy', optimizer=opt, metrics=['accuracy'])"
   ]
  },
  {
   "cell_type": "code",
   "execution_count": 225,
   "metadata": {
    "scrolled": true
   },
   "outputs": [
    {
     "name": "stdout",
     "output_type": "stream",
     "text": [
      "Train on 28709 samples, validate on 3589 samples\n",
      "Epoch 1/50\n",
      "57s - loss: 1.3308 - acc: 0.6382 - val_loss: 1.1099 - val_acc: 0.6392\n",
      "Epoch 2/50\n",
      "57s - loss: 0.9569 - acc: 0.6584 - val_loss: 0.9965 - val_acc: 0.6439\n",
      "Epoch 3/50\n",
      "57s - loss: 0.7259 - acc: 0.7475 - val_loss: 0.6373 - val_acc: 0.7790\n",
      "Epoch 4/50\n",
      "57s - loss: 0.6188 - acc: 0.7890 - val_loss: 0.6612 - val_acc: 0.7710\n",
      "Epoch 5/50\n",
      "57s - loss: 0.5623 - acc: 0.8094 - val_loss: 0.6948 - val_acc: 0.7459\n",
      "Epoch 6/50\n",
      "57s - loss: 0.5352 - acc: 0.8232 - val_loss: 0.5838 - val_acc: 0.7966\n",
      "Epoch 7/50\n",
      "57s - loss: 0.5117 - acc: 0.8336 - val_loss: 0.5236 - val_acc: 0.8303\n",
      "Epoch 8/50\n",
      "57s - loss: 0.4961 - acc: 0.8415 - val_loss: 0.5697 - val_acc: 0.8105\n",
      "Epoch 9/50\n",
      "57s - loss: 0.4804 - acc: 0.8485 - val_loss: 0.8070 - val_acc: 0.6826\n",
      "Epoch 10/50\n",
      "57s - loss: 0.4661 - acc: 0.8566 - val_loss: 0.5153 - val_acc: 0.8367\n",
      "Epoch 11/50\n",
      "57s - loss: 0.4580 - acc: 0.8608 - val_loss: 0.5067 - val_acc: 0.8378\n",
      "Epoch 12/50\n",
      "57s - loss: 0.4471 - acc: 0.8647 - val_loss: 0.5363 - val_acc: 0.8245\n",
      "Epoch 13/50\n",
      "57s - loss: 0.4381 - acc: 0.8692 - val_loss: 0.4888 - val_acc: 0.8473\n",
      "Epoch 14/50\n",
      "57s - loss: 0.4269 - acc: 0.8751 - val_loss: 0.6151 - val_acc: 0.7888\n",
      "Epoch 15/50\n",
      "57s - loss: 0.4160 - acc: 0.8809 - val_loss: 0.5218 - val_acc: 0.8323\n",
      "Epoch 16/50\n",
      "57s - loss: 0.4098 - acc: 0.8834 - val_loss: 0.4888 - val_acc: 0.8635\n",
      "Epoch 17/50\n",
      "57s - loss: 0.4032 - acc: 0.8877 - val_loss: 0.5515 - val_acc: 0.8529\n",
      "Epoch 18/50\n",
      "57s - loss: 0.3919 - acc: 0.8926 - val_loss: 0.4684 - val_acc: 0.8582\n",
      "Epoch 19/50\n",
      "57s - loss: 0.3861 - acc: 0.8959 - val_loss: 0.4812 - val_acc: 0.8582\n",
      "Epoch 20/50\n",
      "57s - loss: 0.3756 - acc: 0.9017 - val_loss: 0.4497 - val_acc: 0.8763\n",
      "Epoch 21/50\n",
      "57s - loss: 0.3691 - acc: 0.9053 - val_loss: 0.5105 - val_acc: 0.8632\n",
      "Epoch 22/50\n",
      "57s - loss: 0.3593 - acc: 0.9100 - val_loss: 0.5454 - val_acc: 0.8300\n",
      "Epoch 23/50\n",
      "57s - loss: 0.3517 - acc: 0.9124 - val_loss: 0.5299 - val_acc: 0.8571\n",
      "Epoch 24/50\n",
      "57s - loss: 0.3473 - acc: 0.9154 - val_loss: 0.5928 - val_acc: 0.8364\n",
      "Epoch 25/50\n",
      "57s - loss: 0.3365 - acc: 0.9205 - val_loss: 0.4590 - val_acc: 0.8849\n",
      "Epoch 26/50\n",
      "57s - loss: 0.3322 - acc: 0.9239 - val_loss: 0.6156 - val_acc: 0.8108\n",
      "Epoch 27/50\n",
      "57s - loss: 0.3254 - acc: 0.9269 - val_loss: 0.7392 - val_acc: 0.8086\n",
      "Epoch 28/50\n",
      "57s - loss: 0.3191 - acc: 0.9307 - val_loss: 0.4738 - val_acc: 0.8860\n",
      "Epoch 29/50\n",
      "57s - loss: 0.3120 - acc: 0.9329 - val_loss: 0.6366 - val_acc: 0.8317\n",
      "Epoch 30/50\n",
      "57s - loss: 0.3053 - acc: 0.9367 - val_loss: 0.6709 - val_acc: 0.8409\n",
      "Epoch 31/50\n",
      "57s - loss: 0.3031 - acc: 0.9370 - val_loss: 0.5514 - val_acc: 0.8568\n",
      "Epoch 32/50\n",
      "57s - loss: 0.2980 - acc: 0.9408 - val_loss: 0.6545 - val_acc: 0.7997\n",
      "Epoch 33/50\n",
      "57s - loss: 0.2901 - acc: 0.9435 - val_loss: 0.4967 - val_acc: 0.8877\n",
      "Epoch 34/50\n",
      "57s - loss: 0.2904 - acc: 0.9444 - val_loss: 0.5276 - val_acc: 0.8763\n",
      "Epoch 35/50\n",
      "57s - loss: 0.2850 - acc: 0.9470 - val_loss: 0.5998 - val_acc: 0.8504\n",
      "Epoch 36/50\n",
      "57s - loss: 0.2817 - acc: 0.9478 - val_loss: 0.5810 - val_acc: 0.8727\n",
      "Epoch 37/50\n",
      "57s - loss: 0.2781 - acc: 0.9507 - val_loss: 0.5923 - val_acc: 0.8799\n",
      "Epoch 38/50\n",
      "57s - loss: 0.2768 - acc: 0.9510 - val_loss: 0.5758 - val_acc: 0.8596\n",
      "Epoch 39/50\n",
      "57s - loss: 0.2762 - acc: 0.9508 - val_loss: 0.5645 - val_acc: 0.8899\n",
      "Epoch 40/50\n",
      "57s - loss: 0.2702 - acc: 0.9539 - val_loss: 0.5589 - val_acc: 0.8846\n",
      "Epoch 41/50\n",
      "57s - loss: 0.2741 - acc: 0.9514 - val_loss: 0.5759 - val_acc: 0.8782\n",
      "Epoch 42/50\n",
      "57s - loss: 0.2655 - acc: 0.9545 - val_loss: 0.5961 - val_acc: 0.8568\n",
      "Epoch 43/50\n",
      "57s - loss: 0.2663 - acc: 0.9554 - val_loss: 0.5498 - val_acc: 0.8899\n",
      "Epoch 44/50\n",
      "57s - loss: 0.2618 - acc: 0.9568 - val_loss: 0.6473 - val_acc: 0.8791\n",
      "Epoch 45/50\n",
      "57s - loss: 0.2590 - acc: 0.9582 - val_loss: 0.5990 - val_acc: 0.8763\n",
      "Epoch 46/50\n",
      "57s - loss: 0.2593 - acc: 0.9589 - val_loss: 0.5921 - val_acc: 0.8657\n",
      "Epoch 47/50\n",
      "57s - loss: 0.2552 - acc: 0.9606 - val_loss: 0.6107 - val_acc: 0.8671\n",
      "Epoch 48/50\n",
      "57s - loss: 0.2530 - acc: 0.9616 - val_loss: 0.5683 - val_acc: 0.8807\n",
      "Epoch 49/50\n",
      "57s - loss: 0.2524 - acc: 0.9613 - val_loss: 0.5472 - val_acc: 0.8777\n",
      "Epoch 50/50\n",
      "57s - loss: 0.2479 - acc: 0.9641 - val_loss: 0.5346 - val_acc: 0.8872\n",
      "CPU times: user 31min 10s, sys: 3min 34s, total: 34min 44s\n",
      "Wall time: 47min 50s\n"
     ]
    }
   ],
   "source": [
    "%%time\n",
    "hist11 = model11.fit(X_train, Y_train11, epochs=50, batch_size=100, validation_data=(X_test, Y_test11), verbose=2)"
   ]
  },
  {
   "cell_type": "code",
   "execution_count": 227,
   "metadata": {},
   "outputs": [
    {
     "data": {
      "image/png": "[encoded data removed]",
      "text/plain": [
       "<matplotlib.figure.Figure at 0x7f41d6899dd0>"
      ]
     },
     "metadata": {},
     "output_type": "display_data"
    }
   ],
   "source": [
    "fig = plt.figure(figsize=(10, 4))\n",
    "\n",
    "ax1 = fig.add_subplot(1, 2, 1)\n",
    "ax1.plot(hist11.history[\"acc\"], label='train_acc')\n",
    "ax1.plot(hist11.history[\"val_acc\"], label='test_acc')\n",
    "ax1.set_ylabel('accuracy')\n",
    "ax1.legend(loc='center right')\n",
    "\n",
    "ax2 = fig.add_subplot(1, 2, 2)\n",
    "ax2.plot(hist11.history[\"loss\"], label='train_loss')\n",
    "ax2.plot(hist11.history[\"val_loss\"], label='test_loss')\n",
    "ax2.set_ylabel('loss')\n",
    "ax2.legend(loc='center right')\n",
    "\n",
    "fig.tight_layout()\n",
    "plt.show()"
   ]
  },
  {
   "cell_type": "code",
   "execution_count": 226,
   "metadata": {
    "collapsed": true
   },
   "outputs": [],
   "source": [
    "model11.save(\"../models/face_M11.hdf5\")"
   ]
  },
  {
   "cell_type": "code",
   "execution_count": 228,
   "metadata": {
    "collapsed": true
   },
   "outputs": [],
   "source": [
    "model11 = keras.models.load_model(\"../models/face_M11.hdf5\")"
   ]
  },
  {
   "cell_type": "code",
   "execution_count": 246,
   "metadata": {},
   "outputs": [
    {
     "name": "stdout",
     "output_type": "stream",
     "text": [
      "3584/3589 [============================>.] - ETA: 0s"
     ]
    }
   ],
   "source": [
    "proba_pred = model11.predict(X_test)\n",
    "Y_pred = model11.predict_classes(X_test)"
   ]
  },
  {
   "cell_type": "code",
   "execution_count": 247,
   "metadata": {
    "collapsed": true
   },
   "outputs": [],
   "source": [
    "dfRes1 = pd.DataFrame(Y_pred, columns=['pred'])\n",
    "dfRes1['origin'] = test.emotion.values\n",
    "dfRes1['result'] = Y_pred == Y_test_temp\n",
    "dfRes1['p0'] = proba_pred[:, 0]\n",
    "dfRes1['p1'] = proba_pred[:, 1]\n",
    "dfRes1['p2'] = proba_pred[:, 2]"
   ]
  },
  {
   "cell_type": "code",
   "execution_count": 249,
   "metadata": {
    "collapsed": true
   },
   "outputs": [],
   "source": [
    "dfRes10 = dfRes1.loc[dfRes1['origin'] == 0]\n",
    "dfRes11 = dfRes1.loc[dfRes1['origin'] == 1]\n",
    "dfRes12 = dfRes1.loc[dfRes1['origin'] == 2]"
   ]
  },
  {
   "cell_type": "code",
   "execution_count": 250,
   "metadata": {
    "collapsed": true
   },
   "outputs": [],
   "source": [
    "acc0 = float((dfRes10['result'] == True).sum()) / len(dfRes10['result'])\n",
    "acc1 = float((dfRes11['result'] == True).sum()) / len(dfRes11['result'])\n",
    "acc2 = float((dfRes12['result'] == True).sum()) / len(dfRes12['result'])"
   ]
  },
  {
   "cell_type": "code",
   "execution_count": 252,
   "metadata": {
    "scrolled": true
   },
   "outputs": [
    {
     "data": {
      "image/png": "[encoded data removed]",
      "text/plain": [
       "<matplotlib.figure.Figure at 0x7f41d5c0d290>"
      ]
     },
     "metadata": {},
     "output_type": "display_data"
    }
   ],
   "source": [
    "plt.figure(figsize=(15, 20))\n",
    "res = [dfRes10, dfRes11, dfRes12]\n",
    "title = ['Happy', 'Surprise', 'Unpleasant']\n",
    "acc_li = [acc0, acc1, acc2]\n",
    "x = [0, 1, 2]\n",
    "\n",
    "for i in range(len(res)):\n",
    "    plt.subplot(4, 2, (i+1))\n",
    "    y = []\n",
    "\n",
    "    for j in range(3):\n",
    "        y.append((res[i]['pred'] == j).sum())\n",
    "        \n",
    "    plt.bar(left=x, height=y)\n",
    "    plt.xticks(x, ['Happy(0)', 'Surprise(1)', 'Unpleasant(2)'])\n",
    "    plt.title('Predict({}): {}'.format(title[i], acc_li[i]))\n",
    "\n",
    "plt.show()"
   ]
  },
  {
   "cell_type": "code",
   "execution_count": null,
   "metadata": {
    "collapsed": true
   },
   "outputs": [],
   "source": []
  },
  {
   "cell_type": "markdown",
   "metadata": {},
   "source": [
    "# Model12"
   ]
  },
  {
   "cell_type": "code",
   "execution_count": 18,
   "metadata": {
    "collapsed": true
   },
   "outputs": [],
   "source": [
    "np.random.seed(10)\n",
    "\n",
    "model1 = Sequential()\n",
    "\n",
    "model1.add(Conv2D(64, (5, 5), activation='relu', input_shape=(48, 48, 1), padding='same', kernel_regularizer=l2(0.001)))\n",
    "model1.add(Conv2D(64, (5, 5), activation='relu', padding='same'))\n",
    "model1.add(MaxPooling2D())\n",
    "model1.add(Dropout(0.5))\n",
    "\n",
    "model1.add(Conv2D(128, (5, 5), activation=PReLU(), padding='same', kernel_regularizer=l2(0.001)))\n",
    "model1.add(Conv2D(128, (5, 5), activation=PReLU(), padding='same', kernel_regularizer=l2(0.001)))\n",
    "model1.add(MaxPooling2D())\n",
    "model1.add(Dropout(0.5))\n",
    "\n",
    "model1.add(Conv2D(128, (5, 5), activation=PReLU(), padding='same', kernel_regularizer=l2(0.001)))\n",
    "model1.add(Conv2D(128, (5, 5), activation=PReLU(), padding='same', kernel_regularizer=l2(0.001)))\n",
    "model1.add(MaxPooling2D())\n",
    "model1.add(Dropout(0.5))\n",
    "\n",
    "model1.add(Conv2D(256, (5, 5), activation=PReLU(), padding='same', kernel_regularizer=l2(0.001)))\n",
    "model1.add(Conv2D(256, (5, 5), activation=PReLU(), padding='same', kernel_regularizer=l2(0.001)))\n",
    "model1.add(MaxPooling2D())\n",
    "model1.add(Dropout(0.5))\n",
    "\n",
    "model1.add(Flatten())\n",
    "model1.add(Dense(512, activation=PReLU(), kernel_regularizer=l2(0.001)))\n",
    "model1.add(Dropout(0.5))\n",
    "model1.add(Dense(7, activation='softmax'))\n",
    "\n",
    "opt = optimizers.Adadelta()\n",
    "model1.compile(loss='categorical_crossentropy', optimizer=opt, metrics=['accuracy'])"
   ]
  },
  {
   "cell_type": "code",
   "execution_count": null,
   "metadata": {
    "scrolled": false
   },
   "outputs": [
    {
     "name": "stdout",
     "output_type": "stream",
     "text": [
      "Train on 28709 samples, validate on 3589 samples\n",
      "Epoch 1/100\n",
      "68s - loss: 3.0376 - acc: 0.2433 - val_loss: 2.5311 - val_acc: 0.2449\n",
      "Epoch 2/100\n"
     ]
    }
   ],
   "source": [
    "%%time\n",
    "hist1 = model1.fit(X_train, Y_train, epochs=100, batch_size=100, validation_data=(X_test, Y_test), verbose=2)"
   ]
  },
  {
   "cell_type": "code",
   "execution_count": 159,
   "metadata": {
    "scrolled": true
   },
   "outputs": [
    {
     "ename": "AttributeError",
     "evalue": "'PReLU' object has no attribute '__name__'",
     "output_type": "error",
     "traceback": [
      "\u001b[0;31m---------------------------------------------------------------------------\u001b[0m",
      "\u001b[0;31mAttributeError\u001b[0m                            Traceback (most recent call last)",
      "\u001b[0;32m<ipython-input-159-a4c0c7d27f9d>\u001b[0m in \u001b[0;36m<module>\u001b[0;34m()\u001b[0m\n\u001b[0;32m----> 1\u001b[0;31m \u001b[0mmodel1\u001b[0m\u001b[0;34m.\u001b[0m\u001b[0msave\u001b[0m\u001b[0;34m(\u001b[0m\u001b[0;34m\"../models/face_M_s11.hdf5\"\u001b[0m\u001b[0;34m)\u001b[0m\u001b[0;34m\u001b[0m\u001b[0m\n\u001b[0m",
      "\u001b[0;32m/usr/local/lib64/python2.7/site-packages/keras/engine/topology.pyc\u001b[0m in \u001b[0;36msave\u001b[0;34m(self, filepath, overwrite, include_optimizer)\u001b[0m\n\u001b[1;32m   2470\u001b[0m         \"\"\"\n\u001b[1;32m   2471\u001b[0m         \u001b[0;32mfrom\u001b[0m \u001b[0;34m.\u001b[0m\u001b[0;34m.\u001b[0m\u001b[0mmodels\u001b[0m \u001b[0;32mimport\u001b[0m \u001b[0msave_model\u001b[0m\u001b[0;34m\u001b[0m\u001b[0m\n\u001b[0;32m-> 2472\u001b[0;31m         \u001b[0msave_model\u001b[0m\u001b[0;34m(\u001b[0m\u001b[0mself\u001b[0m\u001b[0;34m,\u001b[0m \u001b[0mfilepath\u001b[0m\u001b[0;34m,\u001b[0m \u001b[0moverwrite\u001b[0m\u001b[0;34m,\u001b[0m \u001b[0minclude_optimizer\u001b[0m\u001b[0;34m)\u001b[0m\u001b[0;34m\u001b[0m\u001b[0m\n\u001b[0m\u001b[1;32m   2473\u001b[0m \u001b[0;34m\u001b[0m\u001b[0m\n\u001b[1;32m   2474\u001b[0m     \u001b[0;32mdef\u001b[0m \u001b[0msave_weights\u001b[0m\u001b[0;34m(\u001b[0m\u001b[0mself\u001b[0m\u001b[0;34m,\u001b[0m \u001b[0mfilepath\u001b[0m\u001b[0;34m,\u001b[0m \u001b[0moverwrite\u001b[0m\u001b[0;34m=\u001b[0m\u001b[0mTrue\u001b[0m\u001b[0;34m)\u001b[0m\u001b[0;34m:\u001b[0m\u001b[0;34m\u001b[0m\u001b[0m\n",
      "\u001b[0;32m/usr/local/lib64/python2.7/site-packages/keras/models.pyc\u001b[0m in \u001b[0;36msave_model\u001b[0;34m(model, filepath, overwrite, include_optimizer)\u001b[0m\n\u001b[1;32m    100\u001b[0m     f.attrs['model_config'] = json.dumps({\n\u001b[1;32m    101\u001b[0m         \u001b[0;34m'class_name'\u001b[0m\u001b[0;34m:\u001b[0m \u001b[0mmodel\u001b[0m\u001b[0;34m.\u001b[0m\u001b[0m__class__\u001b[0m\u001b[0;34m.\u001b[0m\u001b[0m__name__\u001b[0m\u001b[0;34m,\u001b[0m\u001b[0;34m\u001b[0m\u001b[0m\n\u001b[0;32m--> 102\u001b[0;31m         \u001b[0;34m'config'\u001b[0m\u001b[0;34m:\u001b[0m \u001b[0mmodel\u001b[0m\u001b[0;34m.\u001b[0m\u001b[0mget_config\u001b[0m\u001b[0;34m(\u001b[0m\u001b[0;34m)\u001b[0m\u001b[0;34m\u001b[0m\u001b[0m\n\u001b[0m\u001b[1;32m    103\u001b[0m     }, default=get_json_type).encode('utf8')\n\u001b[1;32m    104\u001b[0m \u001b[0;34m\u001b[0m\u001b[0m\n",
      "\u001b[0;32m/usr/local/lib64/python2.7/site-packages/keras/models.pyc\u001b[0m in \u001b[0;36mget_config\u001b[0;34m(self)\u001b[0m\n\u001b[1;32m   1190\u001b[0m         \u001b[0;32mfor\u001b[0m \u001b[0mlayer\u001b[0m \u001b[0;32min\u001b[0m \u001b[0mself\u001b[0m\u001b[0;34m.\u001b[0m\u001b[0mlayers\u001b[0m\u001b[0;34m:\u001b[0m\u001b[0;34m\u001b[0m\u001b[0m\n\u001b[1;32m   1191\u001b[0m             config.append({'class_name': layer.__class__.__name__,\n\u001b[0;32m-> 1192\u001b[0;31m                            'config': layer.get_config()})\n\u001b[0m\u001b[1;32m   1193\u001b[0m         \u001b[0;32mreturn\u001b[0m \u001b[0mcopy\u001b[0m\u001b[0;34m.\u001b[0m\u001b[0mdeepcopy\u001b[0m\u001b[0;34m(\u001b[0m\u001b[0mconfig\u001b[0m\u001b[0;34m)\u001b[0m\u001b[0;34m\u001b[0m\u001b[0m\n\u001b[1;32m   1194\u001b[0m \u001b[0;34m\u001b[0m\u001b[0m\n",
      "\u001b[0;32m/usr/local/lib64/python2.7/site-packages/keras/layers/convolutional.pyc\u001b[0m in \u001b[0;36mget_config\u001b[0;34m(self)\u001b[0m\n\u001b[1;32m    457\u001b[0m \u001b[0;34m\u001b[0m\u001b[0m\n\u001b[1;32m    458\u001b[0m     \u001b[0;32mdef\u001b[0m \u001b[0mget_config\u001b[0m\u001b[0;34m(\u001b[0m\u001b[0mself\u001b[0m\u001b[0;34m)\u001b[0m\u001b[0;34m:\u001b[0m\u001b[0;34m\u001b[0m\u001b[0m\n\u001b[0;32m--> 459\u001b[0;31m         \u001b[0mconfig\u001b[0m \u001b[0;34m=\u001b[0m \u001b[0msuper\u001b[0m\u001b[0;34m(\u001b[0m\u001b[0mConv2D\u001b[0m\u001b[0;34m,\u001b[0m \u001b[0mself\u001b[0m\u001b[0;34m)\u001b[0m\u001b[0;34m.\u001b[0m\u001b[0mget_config\u001b[0m\u001b[0;34m(\u001b[0m\u001b[0;34m)\u001b[0m\u001b[0;34m\u001b[0m\u001b[0m\n\u001b[0m\u001b[1;32m    460\u001b[0m         \u001b[0mconfig\u001b[0m\u001b[0;34m.\u001b[0m\u001b[0mpop\u001b[0m\u001b[0;34m(\u001b[0m\u001b[0;34m'rank'\u001b[0m\u001b[0;34m)\u001b[0m\u001b[0;34m\u001b[0m\u001b[0m\n\u001b[1;32m    461\u001b[0m         \u001b[0;32mreturn\u001b[0m \u001b[0mconfig\u001b[0m\u001b[0;34m\u001b[0m\u001b[0m\n",
      "\u001b[0;32m/usr/local/lib64/python2.7/site-packages/keras/layers/convolutional.pyc\u001b[0m in \u001b[0;36mget_config\u001b[0;34m(self)\u001b[0m\n\u001b[1;32m    217\u001b[0m             \u001b[0;34m'data_format'\u001b[0m\u001b[0;34m:\u001b[0m \u001b[0mself\u001b[0m\u001b[0;34m.\u001b[0m\u001b[0mdata_format\u001b[0m\u001b[0;34m,\u001b[0m\u001b[0;34m\u001b[0m\u001b[0m\n\u001b[1;32m    218\u001b[0m             \u001b[0;34m'dilation_rate'\u001b[0m\u001b[0;34m:\u001b[0m \u001b[0mself\u001b[0m\u001b[0;34m.\u001b[0m\u001b[0mdilation_rate\u001b[0m\u001b[0;34m,\u001b[0m\u001b[0;34m\u001b[0m\u001b[0m\n\u001b[0;32m--> 219\u001b[0;31m             \u001b[0;34m'activation'\u001b[0m\u001b[0;34m:\u001b[0m \u001b[0mactivations\u001b[0m\u001b[0;34m.\u001b[0m\u001b[0mserialize\u001b[0m\u001b[0;34m(\u001b[0m\u001b[0mself\u001b[0m\u001b[0;34m.\u001b[0m\u001b[0mactivation\u001b[0m\u001b[0;34m)\u001b[0m\u001b[0;34m,\u001b[0m\u001b[0;34m\u001b[0m\u001b[0m\n\u001b[0m\u001b[1;32m    220\u001b[0m             \u001b[0;34m'use_bias'\u001b[0m\u001b[0;34m:\u001b[0m \u001b[0mself\u001b[0m\u001b[0;34m.\u001b[0m\u001b[0muse_bias\u001b[0m\u001b[0;34m,\u001b[0m\u001b[0;34m\u001b[0m\u001b[0m\n\u001b[1;32m    221\u001b[0m             \u001b[0;34m'kernel_initializer'\u001b[0m\u001b[0;34m:\u001b[0m \u001b[0minitializers\u001b[0m\u001b[0;34m.\u001b[0m\u001b[0mserialize\u001b[0m\u001b[0;34m(\u001b[0m\u001b[0mself\u001b[0m\u001b[0;34m.\u001b[0m\u001b[0mkernel_initializer\u001b[0m\u001b[0;34m)\u001b[0m\u001b[0;34m,\u001b[0m\u001b[0;34m\u001b[0m\u001b[0m\n",
      "\u001b[0;32m/usr/local/lib64/python2.7/site-packages/keras/activations.pyc\u001b[0m in \u001b[0;36mserialize\u001b[0;34m(activation)\u001b[0m\n\u001b[1;32m     64\u001b[0m \u001b[0;34m\u001b[0m\u001b[0m\n\u001b[1;32m     65\u001b[0m \u001b[0;32mdef\u001b[0m \u001b[0mserialize\u001b[0m\u001b[0;34m(\u001b[0m\u001b[0mactivation\u001b[0m\u001b[0;34m)\u001b[0m\u001b[0;34m:\u001b[0m\u001b[0;34m\u001b[0m\u001b[0m\n\u001b[0;32m---> 66\u001b[0;31m     \u001b[0;32mreturn\u001b[0m \u001b[0mactivation\u001b[0m\u001b[0;34m.\u001b[0m\u001b[0m__name__\u001b[0m\u001b[0;34m\u001b[0m\u001b[0m\n\u001b[0m\u001b[1;32m     67\u001b[0m \u001b[0;34m\u001b[0m\u001b[0m\n\u001b[1;32m     68\u001b[0m \u001b[0;34m\u001b[0m\u001b[0m\n",
      "\u001b[0;31mAttributeError\u001b[0m: 'PReLU' object has no attribute '__name__'"
     ]
    }
   ],
   "source": [
    "model1.save(\"../models/face_M_s11.hdf5\")"
   ]
  },
  {
   "cell_type": "code",
   "execution_count": 144,
   "metadata": {},
   "outputs": [
    {
     "name": "stdout",
     "output_type": "stream",
     "text": [
      "_________________________________________________________________\n",
      "Layer (type)                 Output Shape              Param #   \n",
      "=================================================================\n",
      "conv2d_2 (Conv2D)            (None, 48, 48, 64)        1664      \n",
      "_________________________________________________________________\n",
      "conv2d_3 (Conv2D)            (None, 48, 48, 64)        102464    \n",
      "_________________________________________________________________\n",
      "max_pooling2d_1 (MaxPooling2 (None, 24, 24, 64)        0         \n",
      "_________________________________________________________________\n",
      "dropout_1 (Dropout)          (None, 24, 24, 64)        0         \n",
      "_________________________________________________________________\n",
      "conv2d_4 (Conv2D)            (None, 24, 24, 128)       204928    \n",
      "_________________________________________________________________\n",
      "conv2d_5 (Conv2D)            (None, 24, 24, 128)       409728    \n",
      "_________________________________________________________________\n",
      "max_pooling2d_2 (MaxPooling2 (None, 12, 12, 128)       0         \n",
      "_________________________________________________________________\n",
      "dropout_2 (Dropout)          (None, 12, 12, 128)       0         \n",
      "_________________________________________________________________\n",
      "conv2d_6 (Conv2D)            (None, 12, 12, 128)       409728    \n",
      "_________________________________________________________________\n",
      "conv2d_7 (Conv2D)            (None, 12, 12, 128)       409728    \n",
      "_________________________________________________________________\n",
      "max_pooling2d_3 (MaxPooling2 (None, 6, 6, 128)         0         \n",
      "_________________________________________________________________\n",
      "dropout_3 (Dropout)          (None, 6, 6, 128)         0         \n",
      "_________________________________________________________________\n",
      "conv2d_8 (Conv2D)            (None, 6, 6, 256)         819456    \n",
      "_________________________________________________________________\n",
      "conv2d_9 (Conv2D)            (None, 6, 6, 256)         1638656   \n",
      "_________________________________________________________________\n",
      "max_pooling2d_4 (MaxPooling2 (None, 3, 3, 256)         0         \n",
      "_________________________________________________________________\n",
      "dropout_4 (Dropout)          (None, 3, 3, 256)         0         \n",
      "_________________________________________________________________\n",
      "flatten_1 (Flatten)          (None, 2304)              0         \n",
      "_________________________________________________________________\n",
      "dense_1 (Dense)              (None, 512)               1180160   \n",
      "_________________________________________________________________\n",
      "dropout_5 (Dropout)          (None, 512)               0         \n",
      "_________________________________________________________________\n",
      "dense_2 (Dense)              (None, 7)                 3591      \n",
      "=================================================================\n",
      "Total params: 5,180,103\n",
      "Trainable params: 5,180,103\n",
      "Non-trainable params: 0\n",
      "_________________________________________________________________\n"
     ]
    }
   ],
   "source": [
    "model1.summary()"
   ]
  },
  {
   "cell_type": "markdown",
   "metadata": {},
   "source": [
    "# Model13"
   ]
  },
  {
   "cell_type": "code",
   "execution_count": 16,
   "metadata": {
    "collapsed": true
   },
   "outputs": [],
   "source": [
    "np.random.seed(0)\n",
    "\n",
    "model2 = Sequential()\n",
    "\n",
    "model2.add(Conv2D(64, (5, 5), input_shape=(48, 48, 1), padding='same', kernel_regularizer=l2(0.001)))\n",
    "model2.add(LeakyReLU(alpha=0.3))\n",
    "model2.add(Conv2D(64, (5, 5), padding='same'))\n",
    "model2.add(LeakyReLU(alpha=0.3))\n",
    "model2.add(MaxPooling2D())\n",
    "model2.add(Dropout(0.5))\n",
    "\n",
    "model2.add(Conv2D(128, (5, 5), padding='same', kernel_regularizer=l2(0.001)))\n",
    "model2.add(LeakyReLU(alpha=0.3))\n",
    "model2.add(Conv2D(128, (5, 5), padding='same', kernel_regularizer=l2(0.001)))\n",
    "model2.add(LeakyReLU(alpha=0.3))\n",
    "model2.add(MaxPooling2D())\n",
    "model2.add(Dropout(0.5))\n",
    "\n",
    "model2.add(Conv2D(128, (5, 5), padding='same', kernel_regularizer=l2(0.001)))\n",
    "model2.add(LeakyReLU(alpha=0.3))\n",
    "model2.add(Conv2D(128, (5, 5), padding='same', kernel_regularizer=l2(0.001)))\n",
    "model2.add(LeakyReLU(alpha=0.3))\n",
    "model2.add(MaxPooling2D())\n",
    "model2.add(Dropout(0.5))\n",
    "\n",
    "model2.add(Conv2D(256, (5, 5), padding='same', kernel_regularizer=l2(0.001)))\n",
    "model2.add(LeakyReLU(alpha=0.3))\n",
    "model2.add(Conv2D(256, (5, 5), padding='same', kernel_regularizer=l2(0.001)))\n",
    "model2.add(LeakyReLU(alpha=0.3))\n",
    "model2.add(MaxPooling2D())\n",
    "model2.add(Dropout(0.5))\n",
    "\n",
    "model2.add(Flatten())\n",
    "model2.add(Dense(512, kernel_regularizer=l2(0.001)))\n",
    "model2.add(LeakyReLU(alpha=0.3))\n",
    "model2.add(Dropout(0.5))\n",
    "model2.add(Dense(7, activation='softmax'))\n",
    "\n",
    "opt = optimizers.Adadelta()\n",
    "model2.compile(loss='categorical_crossentropy', optimizer=opt, metrics=['accuracy'])"
   ]
  },
  {
   "cell_type": "code",
   "execution_count": 16,
   "metadata": {
    "scrolled": true
   },
   "outputs": [
    {
     "name": "stdout",
     "output_type": "stream",
     "text": [
      "Train on 28632 samples, validate on 3589 samples\n",
      "Epoch 1/200\n",
      "71s - loss: 3.0734 - acc: 0.2414 - val_loss: 2.5589 - val_acc: 0.2449\n",
      "Epoch 2/200\n",
      "70s - loss: 2.2715 - acc: 0.2507 - val_loss: 2.0782 - val_acc: 0.2463\n",
      "Epoch 3/200\n",
      "70s - loss: 1.9675 - acc: 0.2557 - val_loss: 1.8880 - val_acc: 0.2446\n",
      "Epoch 4/200\n",
      "70s - loss: 1.8096 - acc: 0.2997 - val_loss: 1.6797 - val_acc: 0.3761\n",
      "Epoch 5/200\n"
     ]
    },
    {
     "ename": "KeyboardInterrupt",
     "evalue": "",
     "output_type": "error",
     "traceback": [
      "\u001b[0;31m---------------------------------------------------------------------------\u001b[0m",
      "\u001b[0;31mKeyboardInterrupt\u001b[0m                         Traceback (most recent call last)",
      "\u001b[0;32m<ipython-input-16-8468dbaad848>\u001b[0m in \u001b[0;36m<module>\u001b[0;34m()\u001b[0m\n\u001b[0;32m----> 1\u001b[0;31m \u001b[0mget_ipython\u001b[0m\u001b[0;34m(\u001b[0m\u001b[0;34m)\u001b[0m\u001b[0;34m.\u001b[0m\u001b[0mrun_cell_magic\u001b[0m\u001b[0;34m(\u001b[0m\u001b[0;34mu'time'\u001b[0m\u001b[0;34m,\u001b[0m \u001b[0;34mu''\u001b[0m\u001b[0;34m,\u001b[0m \u001b[0;34mu'hist2 = model2.fit(X_train1, Y_train1, epochs=200, batch_size=100, validation_data=(X_test, Y_test), verbose=2)'\u001b[0m\u001b[0;34m)\u001b[0m\u001b[0;34m\u001b[0m\u001b[0m\n\u001b[0m",
      "\u001b[0;32m/usr/lib/python2.7/dist-packages/IPython/core/interactiveshell.pyc\u001b[0m in \u001b[0;36mrun_cell_magic\u001b[0;34m(self, magic_name, line, cell)\u001b[0m\n\u001b[1;32m   2113\u001b[0m             \u001b[0mmagic_arg_s\u001b[0m \u001b[0;34m=\u001b[0m \u001b[0mself\u001b[0m\u001b[0;34m.\u001b[0m\u001b[0mvar_expand\u001b[0m\u001b[0;34m(\u001b[0m\u001b[0mline\u001b[0m\u001b[0;34m,\u001b[0m \u001b[0mstack_depth\u001b[0m\u001b[0;34m)\u001b[0m\u001b[0;34m\u001b[0m\u001b[0m\n\u001b[1;32m   2114\u001b[0m             \u001b[0;32mwith\u001b[0m \u001b[0mself\u001b[0m\u001b[0;34m.\u001b[0m\u001b[0mbuiltin_trap\u001b[0m\u001b[0;34m:\u001b[0m\u001b[0;34m\u001b[0m\u001b[0m\n\u001b[0;32m-> 2115\u001b[0;31m                 \u001b[0mresult\u001b[0m \u001b[0;34m=\u001b[0m \u001b[0mfn\u001b[0m\u001b[0;34m(\u001b[0m\u001b[0mmagic_arg_s\u001b[0m\u001b[0;34m,\u001b[0m \u001b[0mcell\u001b[0m\u001b[0;34m)\u001b[0m\u001b[0;34m\u001b[0m\u001b[0m\n\u001b[0m\u001b[1;32m   2116\u001b[0m             \u001b[0;32mreturn\u001b[0m \u001b[0mresult\u001b[0m\u001b[0;34m\u001b[0m\u001b[0m\n\u001b[1;32m   2117\u001b[0m \u001b[0;34m\u001b[0m\u001b[0m\n",
      "\u001b[0;32m<decorator-gen-59>\u001b[0m in \u001b[0;36mtime\u001b[0;34m(self, line, cell, local_ns)\u001b[0m\n",
      "\u001b[0;32m/usr/lib/python2.7/dist-packages/IPython/core/magic.pyc\u001b[0m in \u001b[0;36m<lambda>\u001b[0;34m(f, *a, **k)\u001b[0m\n\u001b[1;32m    186\u001b[0m     \u001b[0;31m# but it's overkill for just that one bit of state.\u001b[0m\u001b[0;34m\u001b[0m\u001b[0;34m\u001b[0m\u001b[0m\n\u001b[1;32m    187\u001b[0m     \u001b[0;32mdef\u001b[0m \u001b[0mmagic_deco\u001b[0m\u001b[0;34m(\u001b[0m\u001b[0marg\u001b[0m\u001b[0;34m)\u001b[0m\u001b[0;34m:\u001b[0m\u001b[0;34m\u001b[0m\u001b[0m\n\u001b[0;32m--> 188\u001b[0;31m         \u001b[0mcall\u001b[0m \u001b[0;34m=\u001b[0m \u001b[0;32mlambda\u001b[0m \u001b[0mf\u001b[0m\u001b[0;34m,\u001b[0m \u001b[0;34m*\u001b[0m\u001b[0ma\u001b[0m\u001b[0;34m,\u001b[0m \u001b[0;34m**\u001b[0m\u001b[0mk\u001b[0m\u001b[0;34m:\u001b[0m \u001b[0mf\u001b[0m\u001b[0;34m(\u001b[0m\u001b[0;34m*\u001b[0m\u001b[0ma\u001b[0m\u001b[0;34m,\u001b[0m \u001b[0;34m**\u001b[0m\u001b[0mk\u001b[0m\u001b[0;34m)\u001b[0m\u001b[0;34m\u001b[0m\u001b[0m\n\u001b[0m\u001b[1;32m    189\u001b[0m \u001b[0;34m\u001b[0m\u001b[0m\n\u001b[1;32m    190\u001b[0m         \u001b[0;32mif\u001b[0m \u001b[0mcallable\u001b[0m\u001b[0;34m(\u001b[0m\u001b[0marg\u001b[0m\u001b[0;34m)\u001b[0m\u001b[0;34m:\u001b[0m\u001b[0;34m\u001b[0m\u001b[0m\n",
      "\u001b[0;32m/usr/lib/python2.7/dist-packages/IPython/core/magics/execution.pyc\u001b[0m in \u001b[0;36mtime\u001b[0;34m(self, line, cell, local_ns)\u001b[0m\n\u001b[1;32m   1183\u001b[0m         \u001b[0;32melse\u001b[0m\u001b[0;34m:\u001b[0m\u001b[0;34m\u001b[0m\u001b[0m\n\u001b[1;32m   1184\u001b[0m             \u001b[0mst\u001b[0m \u001b[0;34m=\u001b[0m \u001b[0mclock2\u001b[0m\u001b[0;34m(\u001b[0m\u001b[0;34m)\u001b[0m\u001b[0;34m\u001b[0m\u001b[0m\n\u001b[0;32m-> 1185\u001b[0;31m             \u001b[0;32mexec\u001b[0m\u001b[0;34m(\u001b[0m\u001b[0mcode\u001b[0m\u001b[0;34m,\u001b[0m \u001b[0mglob\u001b[0m\u001b[0;34m,\u001b[0m \u001b[0mlocal_ns\u001b[0m\u001b[0;34m)\u001b[0m\u001b[0;34m\u001b[0m\u001b[0m\n\u001b[0m\u001b[1;32m   1186\u001b[0m             \u001b[0mend\u001b[0m \u001b[0;34m=\u001b[0m \u001b[0mclock2\u001b[0m\u001b[0;34m(\u001b[0m\u001b[0;34m)\u001b[0m\u001b[0;34m\u001b[0m\u001b[0m\n\u001b[1;32m   1187\u001b[0m             \u001b[0mout\u001b[0m \u001b[0;34m=\u001b[0m \u001b[0mNone\u001b[0m\u001b[0;34m\u001b[0m\u001b[0m\n",
      "\u001b[0;32m<timed exec>\u001b[0m in \u001b[0;36m<module>\u001b[0;34m()\u001b[0m\n",
      "\u001b[0;32m/usr/local/lib64/python2.7/site-packages/keras/models.pyc\u001b[0m in \u001b[0;36mfit\u001b[0;34m(self, x, y, batch_size, epochs, verbose, callbacks, validation_split, validation_data, shuffle, class_weight, sample_weight, initial_epoch, **kwargs)\u001b[0m\n\u001b[1;32m    854\u001b[0m                               \u001b[0mclass_weight\u001b[0m\u001b[0;34m=\u001b[0m\u001b[0mclass_weight\u001b[0m\u001b[0;34m,\u001b[0m\u001b[0;34m\u001b[0m\u001b[0m\n\u001b[1;32m    855\u001b[0m                               \u001b[0msample_weight\u001b[0m\u001b[0;34m=\u001b[0m\u001b[0msample_weight\u001b[0m\u001b[0;34m,\u001b[0m\u001b[0;34m\u001b[0m\u001b[0m\n\u001b[0;32m--> 856\u001b[0;31m                               initial_epoch=initial_epoch)\n\u001b[0m\u001b[1;32m    857\u001b[0m \u001b[0;34m\u001b[0m\u001b[0m\n\u001b[1;32m    858\u001b[0m     def evaluate(self, x, y, batch_size=32, verbose=1,\n",
      "\u001b[0;32m/usr/local/lib64/python2.7/site-packages/keras/engine/training.pyc\u001b[0m in \u001b[0;36mfit\u001b[0;34m(self, x, y, batch_size, epochs, verbose, callbacks, validation_split, validation_data, shuffle, class_weight, sample_weight, initial_epoch, **kwargs)\u001b[0m\n\u001b[1;32m   1496\u001b[0m                               \u001b[0mval_f\u001b[0m\u001b[0;34m=\u001b[0m\u001b[0mval_f\u001b[0m\u001b[0;34m,\u001b[0m \u001b[0mval_ins\u001b[0m\u001b[0;34m=\u001b[0m\u001b[0mval_ins\u001b[0m\u001b[0;34m,\u001b[0m \u001b[0mshuffle\u001b[0m\u001b[0;34m=\u001b[0m\u001b[0mshuffle\u001b[0m\u001b[0;34m,\u001b[0m\u001b[0;34m\u001b[0m\u001b[0m\n\u001b[1;32m   1497\u001b[0m                               \u001b[0mcallback_metrics\u001b[0m\u001b[0;34m=\u001b[0m\u001b[0mcallback_metrics\u001b[0m\u001b[0;34m,\u001b[0m\u001b[0;34m\u001b[0m\u001b[0m\n\u001b[0;32m-> 1498\u001b[0;31m                               initial_epoch=initial_epoch)\n\u001b[0m\u001b[1;32m   1499\u001b[0m \u001b[0;34m\u001b[0m\u001b[0m\n\u001b[1;32m   1500\u001b[0m     \u001b[0;32mdef\u001b[0m \u001b[0mevaluate\u001b[0m\u001b[0;34m(\u001b[0m\u001b[0mself\u001b[0m\u001b[0;34m,\u001b[0m \u001b[0mx\u001b[0m\u001b[0;34m,\u001b[0m \u001b[0my\u001b[0m\u001b[0;34m,\u001b[0m \u001b[0mbatch_size\u001b[0m\u001b[0;34m=\u001b[0m\u001b[0;36m32\u001b[0m\u001b[0;34m,\u001b[0m \u001b[0mverbose\u001b[0m\u001b[0;34m=\u001b[0m\u001b[0;36m1\u001b[0m\u001b[0;34m,\u001b[0m \u001b[0msample_weight\u001b[0m\u001b[0;34m=\u001b[0m\u001b[0mNone\u001b[0m\u001b[0;34m)\u001b[0m\u001b[0;34m:\u001b[0m\u001b[0;34m\u001b[0m\u001b[0m\n",
      "\u001b[0;32m/usr/local/lib64/python2.7/site-packages/keras/engine/training.pyc\u001b[0m in \u001b[0;36m_fit_loop\u001b[0;34m(self, f, ins, out_labels, batch_size, epochs, verbose, callbacks, val_f, val_ins, shuffle, callback_metrics, initial_epoch)\u001b[0m\n\u001b[1;32m   1150\u001b[0m                 \u001b[0mbatch_logs\u001b[0m\u001b[0;34m[\u001b[0m\u001b[0;34m'size'\u001b[0m\u001b[0;34m]\u001b[0m \u001b[0;34m=\u001b[0m \u001b[0mlen\u001b[0m\u001b[0;34m(\u001b[0m\u001b[0mbatch_ids\u001b[0m\u001b[0;34m)\u001b[0m\u001b[0;34m\u001b[0m\u001b[0m\n\u001b[1;32m   1151\u001b[0m                 \u001b[0mcallbacks\u001b[0m\u001b[0;34m.\u001b[0m\u001b[0mon_batch_begin\u001b[0m\u001b[0;34m(\u001b[0m\u001b[0mbatch_index\u001b[0m\u001b[0;34m,\u001b[0m \u001b[0mbatch_logs\u001b[0m\u001b[0;34m)\u001b[0m\u001b[0;34m\u001b[0m\u001b[0m\n\u001b[0;32m-> 1152\u001b[0;31m                 \u001b[0mouts\u001b[0m \u001b[0;34m=\u001b[0m \u001b[0mf\u001b[0m\u001b[0;34m(\u001b[0m\u001b[0mins_batch\u001b[0m\u001b[0;34m)\u001b[0m\u001b[0;34m\u001b[0m\u001b[0m\n\u001b[0m\u001b[1;32m   1153\u001b[0m                 \u001b[0;32mif\u001b[0m \u001b[0;32mnot\u001b[0m \u001b[0misinstance\u001b[0m\u001b[0;34m(\u001b[0m\u001b[0mouts\u001b[0m\u001b[0;34m,\u001b[0m \u001b[0mlist\u001b[0m\u001b[0;34m)\u001b[0m\u001b[0;34m:\u001b[0m\u001b[0;34m\u001b[0m\u001b[0m\n\u001b[1;32m   1154\u001b[0m                     \u001b[0mouts\u001b[0m \u001b[0;34m=\u001b[0m \u001b[0;34m[\u001b[0m\u001b[0mouts\u001b[0m\u001b[0;34m]\u001b[0m\u001b[0;34m\u001b[0m\u001b[0m\n",
      "\u001b[0;32m/usr/local/lib64/python2.7/site-packages/keras/backend/tensorflow_backend.pyc\u001b[0m in \u001b[0;36m__call__\u001b[0;34m(self, inputs)\u001b[0m\n\u001b[1;32m   2227\u001b[0m         \u001b[0msession\u001b[0m \u001b[0;34m=\u001b[0m \u001b[0mget_session\u001b[0m\u001b[0;34m(\u001b[0m\u001b[0;34m)\u001b[0m\u001b[0;34m\u001b[0m\u001b[0m\n\u001b[1;32m   2228\u001b[0m         updated = session.run(self.outputs + [self.updates_op],\n\u001b[0;32m-> 2229\u001b[0;31m                               feed_dict=feed_dict)\n\u001b[0m\u001b[1;32m   2230\u001b[0m         \u001b[0;32mreturn\u001b[0m \u001b[0mupdated\u001b[0m\u001b[0;34m[\u001b[0m\u001b[0;34m:\u001b[0m\u001b[0mlen\u001b[0m\u001b[0;34m(\u001b[0m\u001b[0mself\u001b[0m\u001b[0;34m.\u001b[0m\u001b[0moutputs\u001b[0m\u001b[0;34m)\u001b[0m\u001b[0;34m]\u001b[0m\u001b[0;34m\u001b[0m\u001b[0m\n\u001b[1;32m   2231\u001b[0m \u001b[0;34m\u001b[0m\u001b[0m\n",
      "\u001b[0;32m/usr/lib/python2.7/dist-packages/tensorflow/python/client/session.pyc\u001b[0m in \u001b[0;36mrun\u001b[0;34m(self, fetches, feed_dict, options, run_metadata)\u001b[0m\n\u001b[1;32m    765\u001b[0m     \u001b[0;32mtry\u001b[0m\u001b[0;34m:\u001b[0m\u001b[0;34m\u001b[0m\u001b[0m\n\u001b[1;32m    766\u001b[0m       result = self._run(None, fetches, feed_dict, options_ptr,\n\u001b[0;32m--> 767\u001b[0;31m                          run_metadata_ptr)\n\u001b[0m\u001b[1;32m    768\u001b[0m       \u001b[0;32mif\u001b[0m \u001b[0mrun_metadata\u001b[0m\u001b[0;34m:\u001b[0m\u001b[0;34m\u001b[0m\u001b[0m\n\u001b[1;32m    769\u001b[0m         \u001b[0mproto_data\u001b[0m \u001b[0;34m=\u001b[0m \u001b[0mtf_session\u001b[0m\u001b[0;34m.\u001b[0m\u001b[0mTF_GetBuffer\u001b[0m\u001b[0;34m(\u001b[0m\u001b[0mrun_metadata_ptr\u001b[0m\u001b[0;34m)\u001b[0m\u001b[0;34m\u001b[0m\u001b[0m\n",
      "\u001b[0;32m/usr/lib/python2.7/dist-packages/tensorflow/python/client/session.pyc\u001b[0m in \u001b[0;36m_run\u001b[0;34m(self, handle, fetches, feed_dict, options, run_metadata)\u001b[0m\n\u001b[1;32m    963\u001b[0m     \u001b[0;32mif\u001b[0m \u001b[0mfinal_fetches\u001b[0m \u001b[0;32mor\u001b[0m \u001b[0mfinal_targets\u001b[0m\u001b[0;34m:\u001b[0m\u001b[0;34m\u001b[0m\u001b[0m\n\u001b[1;32m    964\u001b[0m       results = self._do_run(handle, final_targets, final_fetches,\n\u001b[0;32m--> 965\u001b[0;31m                              feed_dict_string, options, run_metadata)\n\u001b[0m\u001b[1;32m    966\u001b[0m     \u001b[0;32melse\u001b[0m\u001b[0;34m:\u001b[0m\u001b[0;34m\u001b[0m\u001b[0m\n\u001b[1;32m    967\u001b[0m       \u001b[0mresults\u001b[0m \u001b[0;34m=\u001b[0m \u001b[0;34m[\u001b[0m\u001b[0;34m]\u001b[0m\u001b[0;34m\u001b[0m\u001b[0m\n",
      "\u001b[0;32m/usr/lib/python2.7/dist-packages/tensorflow/python/client/session.pyc\u001b[0m in \u001b[0;36m_do_run\u001b[0;34m(self, handle, target_list, fetch_list, feed_dict, options, run_metadata)\u001b[0m\n\u001b[1;32m   1013\u001b[0m     \u001b[0;32mif\u001b[0m \u001b[0mhandle\u001b[0m \u001b[0;32mis\u001b[0m \u001b[0mNone\u001b[0m\u001b[0;34m:\u001b[0m\u001b[0;34m\u001b[0m\u001b[0m\n\u001b[1;32m   1014\u001b[0m       return self._do_call(_run_fn, self._session, feed_dict, fetch_list,\n\u001b[0;32m-> 1015\u001b[0;31m                            target_list, options, run_metadata)\n\u001b[0m\u001b[1;32m   1016\u001b[0m     \u001b[0;32melse\u001b[0m\u001b[0;34m:\u001b[0m\u001b[0;34m\u001b[0m\u001b[0m\n\u001b[1;32m   1017\u001b[0m       return self._do_call(_prun_fn, self._session, handle, feed_dict,\n",
      "\u001b[0;32m/usr/lib/python2.7/dist-packages/tensorflow/python/client/session.pyc\u001b[0m in \u001b[0;36m_do_call\u001b[0;34m(self, fn, *args)\u001b[0m\n\u001b[1;32m   1020\u001b[0m   \u001b[0;32mdef\u001b[0m \u001b[0m_do_call\u001b[0m\u001b[0;34m(\u001b[0m\u001b[0mself\u001b[0m\u001b[0;34m,\u001b[0m \u001b[0mfn\u001b[0m\u001b[0;34m,\u001b[0m \u001b[0;34m*\u001b[0m\u001b[0margs\u001b[0m\u001b[0;34m)\u001b[0m\u001b[0;34m:\u001b[0m\u001b[0;34m\u001b[0m\u001b[0m\n\u001b[1;32m   1021\u001b[0m     \u001b[0;32mtry\u001b[0m\u001b[0;34m:\u001b[0m\u001b[0;34m\u001b[0m\u001b[0m\n\u001b[0;32m-> 1022\u001b[0;31m       \u001b[0;32mreturn\u001b[0m \u001b[0mfn\u001b[0m\u001b[0;34m(\u001b[0m\u001b[0;34m*\u001b[0m\u001b[0margs\u001b[0m\u001b[0;34m)\u001b[0m\u001b[0;34m\u001b[0m\u001b[0m\n\u001b[0m\u001b[1;32m   1023\u001b[0m     \u001b[0;32mexcept\u001b[0m \u001b[0merrors\u001b[0m\u001b[0;34m.\u001b[0m\u001b[0mOpError\u001b[0m \u001b[0;32mas\u001b[0m \u001b[0me\u001b[0m\u001b[0;34m:\u001b[0m\u001b[0;34m\u001b[0m\u001b[0m\n\u001b[1;32m   1024\u001b[0m       \u001b[0mmessage\u001b[0m \u001b[0;34m=\u001b[0m \u001b[0mcompat\u001b[0m\u001b[0;34m.\u001b[0m\u001b[0mas_text\u001b[0m\u001b[0;34m(\u001b[0m\u001b[0me\u001b[0m\u001b[0;34m.\u001b[0m\u001b[0mmessage\u001b[0m\u001b[0;34m)\u001b[0m\u001b[0;34m\u001b[0m\u001b[0m\n",
      "\u001b[0;32m/usr/lib/python2.7/dist-packages/tensorflow/python/client/session.pyc\u001b[0m in \u001b[0;36m_run_fn\u001b[0;34m(session, feed_dict, fetch_list, target_list, options, run_metadata)\u001b[0m\n\u001b[1;32m   1002\u001b[0m         return tf_session.TF_Run(session, options,\n\u001b[1;32m   1003\u001b[0m                                  \u001b[0mfeed_dict\u001b[0m\u001b[0;34m,\u001b[0m \u001b[0mfetch_list\u001b[0m\u001b[0;34m,\u001b[0m \u001b[0mtarget_list\u001b[0m\u001b[0;34m,\u001b[0m\u001b[0;34m\u001b[0m\u001b[0m\n\u001b[0;32m-> 1004\u001b[0;31m                                  status, run_metadata)\n\u001b[0m\u001b[1;32m   1005\u001b[0m \u001b[0;34m\u001b[0m\u001b[0m\n\u001b[1;32m   1006\u001b[0m     \u001b[0;32mdef\u001b[0m \u001b[0m_prun_fn\u001b[0m\u001b[0;34m(\u001b[0m\u001b[0msession\u001b[0m\u001b[0;34m,\u001b[0m \u001b[0mhandle\u001b[0m\u001b[0;34m,\u001b[0m \u001b[0mfeed_dict\u001b[0m\u001b[0;34m,\u001b[0m \u001b[0mfetch_list\u001b[0m\u001b[0;34m)\u001b[0m\u001b[0;34m:\u001b[0m\u001b[0;34m\u001b[0m\u001b[0m\n",
      "\u001b[0;31mKeyboardInterrupt\u001b[0m: "
     ]
    }
   ],
   "source": [
    "%%time\n",
    "hist2 = model2.fit(X_train1, Y_train1, epochs=200, batch_size=100, validation_data=(X_test, Y_test), verbose=2)"
   ]
  },
  {
   "cell_type": "code",
   "execution_count": 133,
   "metadata": {
    "collapsed": true
   },
   "outputs": [],
   "source": [
    "model2.save(\"../models/face_M_s3.hdf5\")"
   ]
  },
  {
   "cell_type": "code",
   "execution_count": 17,
   "metadata": {},
   "outputs": [
    {
     "name": "stdout",
     "output_type": "stream",
     "text": [
      "_________________________________________________________________\n",
      "Layer (type)                 Output Shape              Param #   \n",
      "=================================================================\n",
      "conv2d_17 (Conv2D)           (None, 48, 48, 64)        1664      \n",
      "_________________________________________________________________\n",
      "leaky_re_lu_1 (LeakyReLU)    (None, 48, 48, 64)        0         \n",
      "_________________________________________________________________\n",
      "conv2d_18 (Conv2D)           (None, 48, 48, 64)        102464    \n",
      "_________________________________________________________________\n",
      "leaky_re_lu_2 (LeakyReLU)    (None, 48, 48, 64)        0         \n",
      "_________________________________________________________________\n",
      "max_pooling2d_9 (MaxPooling2 (None, 24, 24, 64)        0         \n",
      "_________________________________________________________________\n",
      "dropout_11 (Dropout)         (None, 24, 24, 64)        0         \n",
      "_________________________________________________________________\n",
      "conv2d_19 (Conv2D)           (None, 24, 24, 128)       204928    \n",
      "_________________________________________________________________\n",
      "leaky_re_lu_3 (LeakyReLU)    (None, 24, 24, 128)       0         \n",
      "_________________________________________________________________\n",
      "conv2d_20 (Conv2D)           (None, 24, 24, 128)       409728    \n",
      "_________________________________________________________________\n",
      "leaky_re_lu_4 (LeakyReLU)    (None, 24, 24, 128)       0         \n",
      "_________________________________________________________________\n",
      "max_pooling2d_10 (MaxPooling (None, 12, 12, 128)       0         \n",
      "_________________________________________________________________\n",
      "dropout_12 (Dropout)         (None, 12, 12, 128)       0         \n",
      "_________________________________________________________________\n",
      "conv2d_21 (Conv2D)           (None, 12, 12, 128)       409728    \n",
      "_________________________________________________________________\n",
      "leaky_re_lu_5 (LeakyReLU)    (None, 12, 12, 128)       0         \n",
      "_________________________________________________________________\n",
      "conv2d_22 (Conv2D)           (None, 12, 12, 128)       409728    \n",
      "_________________________________________________________________\n",
      "leaky_re_lu_6 (LeakyReLU)    (None, 12, 12, 128)       0         \n",
      "_________________________________________________________________\n",
      "max_pooling2d_11 (MaxPooling (None, 6, 6, 128)         0         \n",
      "_________________________________________________________________\n",
      "dropout_13 (Dropout)         (None, 6, 6, 128)         0         \n",
      "_________________________________________________________________\n",
      "conv2d_23 (Conv2D)           (None, 6, 6, 256)         819456    \n",
      "_________________________________________________________________\n",
      "leaky_re_lu_7 (LeakyReLU)    (None, 6, 6, 256)         0         \n",
      "_________________________________________________________________\n",
      "conv2d_24 (Conv2D)           (None, 6, 6, 256)         1638656   \n",
      "_________________________________________________________________\n",
      "leaky_re_lu_8 (LeakyReLU)    (None, 6, 6, 256)         0         \n",
      "_________________________________________________________________\n",
      "max_pooling2d_12 (MaxPooling (None, 3, 3, 256)         0         \n",
      "_________________________________________________________________\n",
      "dropout_14 (Dropout)         (None, 3, 3, 256)         0         \n",
      "_________________________________________________________________\n",
      "flatten_3 (Flatten)          (None, 2304)              0         \n",
      "_________________________________________________________________\n",
      "dense_5 (Dense)              (None, 512)               1180160   \n",
      "_________________________________________________________________\n",
      "leaky_re_lu_9 (LeakyReLU)    (None, 512)               0         \n",
      "_________________________________________________________________\n",
      "dropout_15 (Dropout)         (None, 512)               0         \n",
      "_________________________________________________________________\n",
      "dense_6 (Dense)              (None, 7)                 3591      \n",
      "=================================================================\n",
      "Total params: 5,180,103\n",
      "Trainable params: 5,180,103\n",
      "Non-trainable params: 0\n",
      "_________________________________________________________________\n"
     ]
    }
   ],
   "source": [
    "model2.summary()"
   ]
  },
  {
   "cell_type": "markdown",
   "metadata": {},
   "source": [
    "# Model14"
   ]
  },
  {
   "cell_type": "code",
   "execution_count": 72,
   "metadata": {},
   "outputs": [],
   "source": [
    "np.random.seed(0)\n",
    "\n",
    "model3 = Sequential()\n",
    "\n",
    "model3.add(Conv2D(64, (5, 5), input_shape=(48, 48, 1), padding='same', kernel_regularizer=l2(0.001)))\n",
    "model3.add(PReLU(alpha_initializer='zeros'))\n",
    "model3.add(Conv2D(64, (5, 5), padding='same'))\n",
    "model3.add(PReLU(alpha_initializer='zeros'))\n",
    "model3.add(MaxPooling2D())\n",
    "model3.add(Dropout(0.5))\n",
    "\n",
    "model3.add(Conv2D(128, (5, 5), padding='same', kernel_regularizer=l2(0.001)))\n",
    "model3.add(PReLU(alpha_initializer='zeros'))\n",
    "model3.add(Conv2D(128, (5, 5), padding='same', kernel_regularizer=l2(0.001)))\n",
    "model3.add(PReLU(alpha_initializer='zeros'))\n",
    "model3.add(MaxPooling2D())\n",
    "model3.add(Dropout(0.5))\n",
    "\n",
    "model3.add(Conv2D(128, (5, 5), padding='same', kernel_regularizer=l2(0.001)))\n",
    "model3.add(PReLU(alpha_initializer='zeros'))\n",
    "model3.add(Conv2D(128, (5, 5), padding='same', kernel_regularizer=l2(0.001)))\n",
    "model3.add(PReLU(alpha_initializer='zeros'))\n",
    "model3.add(MaxPooling2D())\n",
    "model3.add(Dropout(0.5))\n",
    "\n",
    "model3.add(Conv2D(256, (5, 5), padding='same', kernel_regularizer=l2(0.001)))\n",
    "model3.add(PReLU(alpha_initializer='zeros'))\n",
    "model3.add(Conv2D(256, (5, 5), padding='same', kernel_regularizer=l2(0.001)))\n",
    "model3.add(PReLU(alpha_initializer='zeros'))\n",
    "model3.add(MaxPooling2D())\n",
    "model3.add(Dropout(0.5))\n",
    "\n",
    "model3.add(Flatten())\n",
    "model3.add(Dense(512, kernel_regularizer=l2(0.001)))\n",
    "model3.add(PReLU(alpha_initializer='zeros'))\n",
    "model3.add(Dropout(0.5))\n",
    "model3.add(Dense(7, activation='softmax'))\n",
    "\n",
    "opt = optimizers.Adadelta()\n",
    "model3.compile(loss='categorical_crossentropy', optimizer=opt, metrics=['accuracy'])"
   ]
  },
  {
   "cell_type": "code",
   "execution_count": 73,
   "metadata": {
    "scrolled": true
   },
   "outputs": [
    {
     "name": "stdout",
     "output_type": "stream",
     "text": [
      "_________________________________________________________________\n",
      "Layer (type)                 Output Shape              Param #   \n",
      "=================================================================\n",
      "conv2d_80 (Conv2D)           (None, 48, 48, 64)        1664      \n",
      "_________________________________________________________________\n",
      "p_re_lu_84 (PReLU)           (None, 48, 48, 64)        147456    \n",
      "_________________________________________________________________\n",
      "conv2d_81 (Conv2D)           (None, 48, 48, 64)        102464    \n",
      "_________________________________________________________________\n",
      "p_re_lu_85 (PReLU)           (None, 48, 48, 64)        147456    \n",
      "_________________________________________________________________\n",
      "max_pooling2d_38 (MaxPooling (None, 24, 24, 64)        0         \n",
      "_________________________________________________________________\n",
      "dropout_46 (Dropout)         (None, 24, 24, 64)        0         \n",
      "_________________________________________________________________\n",
      "conv2d_82 (Conv2D)           (None, 24, 24, 128)       204928    \n",
      "_________________________________________________________________\n",
      "p_re_lu_86 (PReLU)           (None, 24, 24, 128)       73728     \n",
      "_________________________________________________________________\n",
      "conv2d_83 (Conv2D)           (None, 24, 24, 128)       409728    \n",
      "_________________________________________________________________\n",
      "p_re_lu_87 (PReLU)           (None, 24, 24, 128)       73728     \n",
      "_________________________________________________________________\n",
      "max_pooling2d_39 (MaxPooling (None, 12, 12, 128)       0         \n",
      "_________________________________________________________________\n",
      "dropout_47 (Dropout)         (None, 12, 12, 128)       0         \n",
      "_________________________________________________________________\n",
      "conv2d_84 (Conv2D)           (None, 12, 12, 128)       409728    \n",
      "_________________________________________________________________\n",
      "p_re_lu_88 (PReLU)           (None, 12, 12, 128)       18432     \n",
      "_________________________________________________________________\n",
      "conv2d_85 (Conv2D)           (None, 12, 12, 128)       409728    \n",
      "_________________________________________________________________\n",
      "p_re_lu_89 (PReLU)           (None, 12, 12, 128)       18432     \n",
      "_________________________________________________________________\n",
      "max_pooling2d_40 (MaxPooling (None, 6, 6, 128)         0         \n",
      "_________________________________________________________________\n",
      "dropout_48 (Dropout)         (None, 6, 6, 128)         0         \n",
      "_________________________________________________________________\n",
      "conv2d_86 (Conv2D)           (None, 6, 6, 256)         819456    \n",
      "_________________________________________________________________\n",
      "p_re_lu_90 (PReLU)           (None, 6, 6, 256)         9216      \n",
      "_________________________________________________________________\n",
      "conv2d_87 (Conv2D)           (None, 6, 6, 256)         1638656   \n",
      "_________________________________________________________________\n",
      "p_re_lu_91 (PReLU)           (None, 6, 6, 256)         9216      \n",
      "_________________________________________________________________\n",
      "max_pooling2d_41 (MaxPooling (None, 3, 3, 256)         0         \n",
      "_________________________________________________________________\n",
      "dropout_49 (Dropout)         (None, 3, 3, 256)         0         \n",
      "_________________________________________________________________\n",
      "flatten_10 (Flatten)         (None, 2304)              0         \n",
      "_________________________________________________________________\n",
      "dense_18 (Dense)             (None, 512)               1180160   \n",
      "_________________________________________________________________\n",
      "p_re_lu_92 (PReLU)           (None, 512)               512       \n",
      "_________________________________________________________________\n",
      "dropout_50 (Dropout)         (None, 512)               0         \n",
      "_________________________________________________________________\n",
      "dense_19 (Dense)             (None, 7)                 3591      \n",
      "=================================================================\n",
      "Total params: 5,678,279\n",
      "Trainable params: 5,678,279\n",
      "Non-trainable params: 0\n",
      "_________________________________________________________________\n"
     ]
    }
   ],
   "source": [
    "model3.summary()"
   ]
  },
  {
   "cell_type": "code",
   "execution_count": 74,
   "metadata": {
    "scrolled": true
   },
   "outputs": [
    {
     "name": "stdout",
     "output_type": "stream",
     "text": [
      "Train on 28632 samples, validate on 3589 samples\n",
      "Epoch 1/200\n",
      "74s - loss: 2.9865 - acc: 0.2427 - val_loss: 2.4855 - val_acc: 0.2449\n",
      "Epoch 2/200\n",
      "73s - loss: 2.2237 - acc: 0.2513 - val_loss: 2.0396 - val_acc: 0.2449\n",
      "Epoch 3/200\n",
      "73s - loss: 1.9516 - acc: 0.2500 - val_loss: 1.8820 - val_acc: 0.2438\n",
      "Epoch 4/200\n",
      "73s - loss: 1.8508 - acc: 0.2517 - val_loss: 1.8324 - val_acc: 0.2449\n",
      "Epoch 5/200\n",
      "73s - loss: 1.8148 - acc: 0.2525 - val_loss: 1.8023 - val_acc: 0.2488\n",
      "Epoch 6/200\n",
      "73s - loss: 1.8003 - acc: 0.2529 - val_loss: 1.7896 - val_acc: 0.2480\n",
      "Epoch 7/200\n",
      "73s - loss: 1.7871 - acc: 0.2635 - val_loss: 1.7868 - val_acc: 0.2471\n",
      "Epoch 8/200\n",
      "73s - loss: 1.7434 - acc: 0.3001 - val_loss: 1.7393 - val_acc: 0.2956\n",
      "Epoch 9/200\n",
      "73s - loss: 1.6798 - acc: 0.3458 - val_loss: 1.6673 - val_acc: 0.3530\n",
      "Epoch 10/200\n",
      "73s - loss: 1.6108 - acc: 0.3877 - val_loss: 1.5649 - val_acc: 0.4126\n",
      "Epoch 11/200\n",
      "73s - loss: 1.5721 - acc: 0.4039 - val_loss: 1.5268 - val_acc: 0.4255\n",
      "Epoch 12/200\n",
      "73s - loss: 1.5353 - acc: 0.4225 - val_loss: 1.4788 - val_acc: 0.4436\n",
      "Epoch 13/200\n",
      "73s - loss: 1.4917 - acc: 0.4413 - val_loss: 1.5199 - val_acc: 0.4244\n",
      "Epoch 14/200\n",
      "73s - loss: 1.4548 - acc: 0.4564 - val_loss: 1.4659 - val_acc: 0.4500\n",
      "Epoch 15/200\n",
      "73s - loss: 1.4236 - acc: 0.4737 - val_loss: 1.5443 - val_acc: 0.4235\n",
      "Epoch 16/200\n",
      "73s - loss: 1.3968 - acc: 0.4854 - val_loss: 1.4205 - val_acc: 0.4745\n",
      "Epoch 17/200\n",
      "73s - loss: 1.3741 - acc: 0.5022 - val_loss: 1.3832 - val_acc: 0.4921\n",
      "Epoch 18/200\n",
      "73s - loss: 1.3564 - acc: 0.5105 - val_loss: 1.3519 - val_acc: 0.5043\n",
      "Epoch 19/200\n",
      "73s - loss: 1.3336 - acc: 0.5231 - val_loss: 1.3802 - val_acc: 0.5021\n",
      "Epoch 20/200\n",
      "73s - loss: 1.3173 - acc: 0.5310 - val_loss: 1.2972 - val_acc: 0.5369\n",
      "Epoch 21/200\n",
      "73s - loss: 1.3026 - acc: 0.5380 - val_loss: 1.2978 - val_acc: 0.5339\n",
      "Epoch 22/200\n",
      "73s - loss: 1.2912 - acc: 0.5396 - val_loss: 1.3162 - val_acc: 0.5308\n",
      "Epoch 23/200\n",
      "73s - loss: 1.2764 - acc: 0.5501 - val_loss: 1.3657 - val_acc: 0.5196\n",
      "Epoch 24/200\n",
      "73s - loss: 1.2626 - acc: 0.5557 - val_loss: 1.3105 - val_acc: 0.5433\n",
      "Epoch 25/200\n",
      "73s - loss: 1.2518 - acc: 0.5657 - val_loss: 1.3242 - val_acc: 0.5146\n",
      "Epoch 26/200\n",
      "73s - loss: 1.2404 - acc: 0.5706 - val_loss: 1.2701 - val_acc: 0.5606\n",
      "Epoch 27/200\n",
      "73s - loss: 1.2275 - acc: 0.5781 - val_loss: 1.2559 - val_acc: 0.5595\n",
      "Epoch 28/200\n",
      "73s - loss: 1.2156 - acc: 0.5804 - val_loss: 1.2457 - val_acc: 0.5626\n",
      "Epoch 29/200\n",
      "73s - loss: 1.2045 - acc: 0.5881 - val_loss: 1.3532 - val_acc: 0.5478\n",
      "Epoch 30/200\n",
      "73s - loss: 1.1999 - acc: 0.5927 - val_loss: 1.3089 - val_acc: 0.5458\n",
      "Epoch 31/200\n",
      "73s - loss: 1.1892 - acc: 0.5963 - val_loss: 1.2900 - val_acc: 0.5444\n",
      "Epoch 32/200\n",
      "73s - loss: 1.1808 - acc: 0.6008 - val_loss: 1.3138 - val_acc: 0.5553\n",
      "Epoch 33/200\n",
      "73s - loss: 1.1742 - acc: 0.6025 - val_loss: 1.2138 - val_acc: 0.5821\n",
      "Epoch 34/200\n",
      "73s - loss: 1.1678 - acc: 0.6079 - val_loss: 1.3278 - val_acc: 0.5486\n",
      "Epoch 35/200\n",
      "72s - loss: 1.1583 - acc: 0.6102 - val_loss: 1.2191 - val_acc: 0.5865\n",
      "Epoch 36/200\n",
      "73s - loss: 1.1523 - acc: 0.6154 - val_loss: 1.2941 - val_acc: 0.5653\n",
      "Epoch 37/200\n",
      "73s - loss: 1.1396 - acc: 0.6203 - val_loss: 1.2502 - val_acc: 0.5846\n",
      "Epoch 38/200\n",
      "73s - loss: 1.1342 - acc: 0.6219 - val_loss: 1.2564 - val_acc: 0.5887\n",
      "Epoch 39/200\n",
      "73s - loss: 1.1277 - acc: 0.6257 - val_loss: 1.2372 - val_acc: 0.5871\n",
      "Epoch 40/200\n",
      "73s - loss: 1.1224 - acc: 0.6282 - val_loss: 1.2093 - val_acc: 0.5868\n",
      "Epoch 41/200\n",
      "73s - loss: 1.1162 - acc: 0.6313 - val_loss: 1.2753 - val_acc: 0.5770\n",
      "Epoch 42/200\n",
      "73s - loss: 1.1090 - acc: 0.6350 - val_loss: 1.2720 - val_acc: 0.5834\n",
      "Epoch 43/200\n",
      "72s - loss: 1.1018 - acc: 0.6361 - val_loss: 1.2691 - val_acc: 0.5676\n",
      "Epoch 44/200\n",
      "72s - loss: 1.0989 - acc: 0.6370 - val_loss: 1.2477 - val_acc: 0.5887\n",
      "Epoch 45/200\n",
      "73s - loss: 1.0879 - acc: 0.6455 - val_loss: 1.2310 - val_acc: 0.5971\n",
      "Epoch 46/200\n",
      "73s - loss: 1.0840 - acc: 0.6484 - val_loss: 1.2171 - val_acc: 0.6066\n",
      "Epoch 47/200\n",
      "73s - loss: 1.0764 - acc: 0.6516 - val_loss: 1.2392 - val_acc: 0.5938\n",
      "Epoch 48/200\n",
      "73s - loss: 1.0789 - acc: 0.6503 - val_loss: 1.1917 - val_acc: 0.6066\n",
      "Epoch 49/200\n",
      "73s - loss: 1.0660 - acc: 0.6550 - val_loss: 1.2960 - val_acc: 0.5804\n",
      "Epoch 50/200\n",
      "73s - loss: 1.0681 - acc: 0.6545 - val_loss: 1.2458 - val_acc: 0.5860\n",
      "Epoch 51/200\n",
      "73s - loss: 1.0548 - acc: 0.6615 - val_loss: 1.2349 - val_acc: 0.6010\n",
      "Epoch 52/200\n",
      "73s - loss: 1.0572 - acc: 0.6588 - val_loss: 1.2090 - val_acc: 0.6010\n",
      "Epoch 53/200\n",
      "73s - loss: 1.0517 - acc: 0.6624 - val_loss: 1.2305 - val_acc: 0.5952\n",
      "Epoch 54/200\n",
      "73s - loss: 1.0394 - acc: 0.6681 - val_loss: 1.2484 - val_acc: 0.6041\n",
      "Epoch 55/200\n",
      "73s - loss: 1.0407 - acc: 0.6682 - val_loss: 1.2130 - val_acc: 0.6080\n",
      "Epoch 56/200\n",
      "73s - loss: 1.0327 - acc: 0.6722 - val_loss: 1.2957 - val_acc: 0.5968\n",
      "Epoch 57/200\n",
      "73s - loss: 1.0304 - acc: 0.6755 - val_loss: 1.3176 - val_acc: 0.5890\n",
      "Epoch 58/200\n",
      "73s - loss: 1.0209 - acc: 0.6783 - val_loss: 1.2451 - val_acc: 0.5993\n",
      "Epoch 59/200\n",
      "73s - loss: 1.0159 - acc: 0.6761 - val_loss: 1.2589 - val_acc: 0.6121\n",
      "Epoch 60/200\n",
      "73s - loss: 1.0178 - acc: 0.6796 - val_loss: 1.3024 - val_acc: 0.5890\n",
      "Epoch 61/200\n",
      "73s - loss: 1.0121 - acc: 0.6815 - val_loss: 1.2617 - val_acc: 0.5963\n",
      "Epoch 62/200\n",
      "73s - loss: 1.0089 - acc: 0.6819 - val_loss: 1.2215 - val_acc: 0.6133\n",
      "Epoch 63/200\n",
      "72s - loss: 1.0059 - acc: 0.6844 - val_loss: 1.2387 - val_acc: 0.6149\n",
      "Epoch 64/200\n",
      "72s - loss: 0.9952 - acc: 0.6906 - val_loss: 1.2532 - val_acc: 0.6166\n",
      "Epoch 65/200\n",
      "72s - loss: 0.9918 - acc: 0.6921 - val_loss: 1.3169 - val_acc: 0.5946\n",
      "Epoch 66/200\n",
      "72s - loss: 0.9914 - acc: 0.6889 - val_loss: 1.2473 - val_acc: 0.6094\n",
      "Epoch 67/200\n",
      "72s - loss: 0.9946 - acc: 0.6911 - val_loss: 1.2508 - val_acc: 0.6060\n",
      "Epoch 68/200\n",
      "73s - loss: 0.9895 - acc: 0.6911 - val_loss: 1.2520 - val_acc: 0.6133\n",
      "Epoch 69/200\n",
      "73s - loss: 0.9843 - acc: 0.6948 - val_loss: 1.2516 - val_acc: 0.6127\n",
      "Epoch 70/200\n",
      "72s - loss: 0.9757 - acc: 0.7004 - val_loss: 1.2664 - val_acc: 0.6130\n",
      "Epoch 71/200\n",
      "72s - loss: 0.9756 - acc: 0.6972 - val_loss: 1.2601 - val_acc: 0.6035\n",
      "Epoch 72/200\n",
      "72s - loss: 0.9713 - acc: 0.6987 - val_loss: 1.2452 - val_acc: 0.6116\n",
      "Epoch 73/200\n",
      "72s - loss: 0.9695 - acc: 0.7019 - val_loss: 1.3184 - val_acc: 0.5963\n",
      "Epoch 74/200\n",
      "72s - loss: 0.9576 - acc: 0.7069 - val_loss: 1.2625 - val_acc: 0.6177\n",
      "Epoch 75/200\n",
      "72s - loss: 0.9574 - acc: 0.7051 - val_loss: 1.3251 - val_acc: 0.5893\n",
      "Epoch 76/200\n",
      "72s - loss: 0.9516 - acc: 0.7096 - val_loss: 1.3074 - val_acc: 0.6138\n",
      "Epoch 77/200\n",
      "72s - loss: 0.9475 - acc: 0.7118 - val_loss: 1.3386 - val_acc: 0.6060\n",
      "Epoch 78/200\n",
      "72s - loss: 0.9463 - acc: 0.7132 - val_loss: 1.2688 - val_acc: 0.6099\n",
      "Epoch 79/200\n",
      "73s - loss: 0.9451 - acc: 0.7123 - val_loss: 1.2664 - val_acc: 0.6186\n",
      "Epoch 80/200\n",
      "72s - loss: 0.9414 - acc: 0.7147 - val_loss: 1.2546 - val_acc: 0.6116\n",
      "Epoch 81/200\n",
      "72s - loss: 0.9374 - acc: 0.7187 - val_loss: 1.3054 - val_acc: 0.6035\n",
      "Epoch 82/200\n",
      "72s - loss: 0.9377 - acc: 0.7141 - val_loss: 1.3154 - val_acc: 0.6077\n",
      "Epoch 83/200\n",
      "72s - loss: 0.9383 - acc: 0.7174 - val_loss: 1.3001 - val_acc: 0.6099\n",
      "Epoch 84/200\n",
      "73s - loss: 0.9284 - acc: 0.7183 - val_loss: 1.3327 - val_acc: 0.5979\n",
      "Epoch 85/200\n",
      "73s - loss: 0.9286 - acc: 0.7203 - val_loss: 1.2771 - val_acc: 0.6222\n",
      "Epoch 86/200\n",
      "73s - loss: 0.9231 - acc: 0.7252 - val_loss: 1.3313 - val_acc: 0.6057\n",
      "Epoch 87/200\n",
      "72s - loss: 0.9184 - acc: 0.7238 - val_loss: 1.2837 - val_acc: 0.6236\n",
      "Epoch 88/200\n",
      "73s - loss: 0.9184 - acc: 0.7229 - val_loss: 1.2958 - val_acc: 0.6121\n",
      "Epoch 89/200\n",
      "72s - loss: 0.9117 - acc: 0.7301 - val_loss: 1.3391 - val_acc: 0.6021\n",
      "Epoch 90/200\n",
      "72s - loss: 0.9134 - acc: 0.7274 - val_loss: 1.3421 - val_acc: 0.6088\n",
      "Epoch 91/200\n",
      "72s - loss: 0.9056 - acc: 0.7307 - val_loss: 1.3221 - val_acc: 0.6135\n",
      "Epoch 92/200\n",
      "72s - loss: 0.9083 - acc: 0.7287 - val_loss: 1.3255 - val_acc: 0.6158\n",
      "Epoch 93/200\n",
      "72s - loss: 0.9033 - acc: 0.7312 - val_loss: 1.2858 - val_acc: 0.6046\n",
      "Epoch 94/200\n",
      "72s - loss: 0.9020 - acc: 0.7322 - val_loss: 1.3033 - val_acc: 0.6183\n",
      "Epoch 95/200\n",
      "72s - loss: 0.8966 - acc: 0.7341 - val_loss: 1.2856 - val_acc: 0.6096\n",
      "Epoch 96/200\n",
      "72s - loss: 0.8966 - acc: 0.7345 - val_loss: 1.3112 - val_acc: 0.6085\n",
      "Epoch 97/200\n",
      "72s - loss: 0.8929 - acc: 0.7395 - val_loss: 1.2792 - val_acc: 0.6216\n",
      "Epoch 98/200\n",
      "72s - loss: 0.9007 - acc: 0.7334 - val_loss: 1.2973 - val_acc: 0.6085\n",
      "Epoch 99/200\n",
      "72s - loss: 0.8891 - acc: 0.7381 - val_loss: 1.3232 - val_acc: 0.6135\n",
      "Epoch 100/200\n"
     ]
    },
    {
     "name": "stdout",
     "output_type": "stream",
     "text": [
      "72s - loss: 0.8921 - acc: 0.7387 - val_loss: 1.3347 - val_acc: 0.6085\n",
      "Epoch 101/200\n",
      "72s - loss: 0.8825 - acc: 0.7418 - val_loss: 1.3479 - val_acc: 0.6041\n",
      "Epoch 102/200\n",
      "73s - loss: 0.8798 - acc: 0.7397 - val_loss: 1.3649 - val_acc: 0.6166\n",
      "Epoch 103/200\n",
      "73s - loss: 0.8782 - acc: 0.7462 - val_loss: 1.3397 - val_acc: 0.6007\n",
      "Epoch 104/200\n",
      "72s - loss: 0.8808 - acc: 0.7437 - val_loss: 1.3220 - val_acc: 0.6188\n",
      "Epoch 105/200\n",
      "73s - loss: 0.8682 - acc: 0.7456 - val_loss: 1.3575 - val_acc: 0.6227\n",
      "Epoch 106/200\n",
      "72s - loss: 0.8724 - acc: 0.7485 - val_loss: 1.2830 - val_acc: 0.6174\n",
      "Epoch 107/200\n",
      "72s - loss: 0.8720 - acc: 0.7463 - val_loss: 1.3608 - val_acc: 0.6152\n",
      "Epoch 108/200\n",
      "72s - loss: 0.8715 - acc: 0.7451 - val_loss: 1.3229 - val_acc: 0.6216\n",
      "Epoch 109/200\n",
      "72s - loss: 0.8647 - acc: 0.7486 - val_loss: 1.3638 - val_acc: 0.6169\n",
      "Epoch 110/200\n",
      "72s - loss: 0.8616 - acc: 0.7512 - val_loss: 1.3013 - val_acc: 0.6222\n",
      "Epoch 111/200\n",
      "72s - loss: 0.8545 - acc: 0.7519 - val_loss: 1.3543 - val_acc: 0.6152\n",
      "Epoch 112/200\n",
      "72s - loss: 0.8593 - acc: 0.7548 - val_loss: 1.3660 - val_acc: 0.6149\n",
      "Epoch 113/200\n",
      "72s - loss: 0.8565 - acc: 0.7528 - val_loss: 1.3645 - val_acc: 0.6121\n",
      "Epoch 114/200\n",
      "72s - loss: 0.8526 - acc: 0.7561 - val_loss: 1.3306 - val_acc: 0.6166\n",
      "Epoch 115/200\n",
      "72s - loss: 0.8556 - acc: 0.7543 - val_loss: 1.3496 - val_acc: 0.6119\n",
      "Epoch 116/200\n",
      "72s - loss: 0.8496 - acc: 0.7541 - val_loss: 1.3996 - val_acc: 0.6024\n",
      "Epoch 117/200\n",
      "72s - loss: 0.8485 - acc: 0.7564 - val_loss: 1.3244 - val_acc: 0.6216\n",
      "Epoch 118/200\n",
      "72s - loss: 0.8502 - acc: 0.7575 - val_loss: 1.3675 - val_acc: 0.6177\n",
      "Epoch 119/200\n",
      "72s - loss: 0.8413 - acc: 0.7618 - val_loss: 1.4004 - val_acc: 0.6046\n",
      "Epoch 120/200\n",
      "72s - loss: 0.8410 - acc: 0.7623 - val_loss: 1.3599 - val_acc: 0.5977\n",
      "Epoch 121/200\n",
      "72s - loss: 0.8360 - acc: 0.7619 - val_loss: 1.3600 - val_acc: 0.6186\n",
      "Epoch 122/200\n",
      "72s - loss: 0.8445 - acc: 0.7594 - val_loss: 1.3726 - val_acc: 0.6199\n",
      "Epoch 123/200\n",
      "72s - loss: 0.8388 - acc: 0.7600 - val_loss: 1.3969 - val_acc: 0.6233\n",
      "Epoch 124/200\n",
      "72s - loss: 0.8347 - acc: 0.7627 - val_loss: 1.3493 - val_acc: 0.6222\n",
      "Epoch 125/200\n",
      "72s - loss: 0.8350 - acc: 0.7623 - val_loss: 1.3284 - val_acc: 0.6141\n",
      "Epoch 126/200\n",
      "72s - loss: 0.8357 - acc: 0.7622 - val_loss: 1.3211 - val_acc: 0.6149\n",
      "Epoch 127/200\n",
      "72s - loss: 0.8322 - acc: 0.7645 - val_loss: 1.3567 - val_acc: 0.6244\n",
      "Epoch 128/200\n",
      "72s - loss: 0.8313 - acc: 0.7651 - val_loss: 1.3620 - val_acc: 0.6225\n",
      "Epoch 129/200\n",
      "72s - loss: 0.8247 - acc: 0.7675 - val_loss: 1.4554 - val_acc: 0.6004\n",
      "Epoch 130/200\n",
      "72s - loss: 0.8253 - acc: 0.7675 - val_loss: 1.3402 - val_acc: 0.6247\n",
      "Epoch 131/200\n",
      "72s - loss: 0.8185 - acc: 0.7704 - val_loss: 1.3797 - val_acc: 0.6135\n",
      "Epoch 132/200\n",
      "72s - loss: 0.8160 - acc: 0.7710 - val_loss: 1.4786 - val_acc: 0.6035\n",
      "Epoch 133/200\n",
      "72s - loss: 0.8154 - acc: 0.7707 - val_loss: 1.3994 - val_acc: 0.6219\n",
      "Epoch 134/200\n",
      "72s - loss: 0.8088 - acc: 0.7755 - val_loss: 1.3444 - val_acc: 0.6197\n",
      "Epoch 135/200\n",
      "72s - loss: 0.8105 - acc: 0.7749 - val_loss: 1.4647 - val_acc: 0.6055\n",
      "Epoch 136/200\n",
      "73s - loss: 0.8136 - acc: 0.7748 - val_loss: 1.3714 - val_acc: 0.6222\n",
      "Epoch 137/200\n",
      "73s - loss: 0.8070 - acc: 0.7755 - val_loss: 1.3116 - val_acc: 0.6108\n",
      "Epoch 138/200\n",
      "73s - loss: 0.8042 - acc: 0.7767 - val_loss: 1.4186 - val_acc: 0.6222\n",
      "Epoch 139/200\n",
      "73s - loss: 0.8060 - acc: 0.7769 - val_loss: 1.3679 - val_acc: 0.6135\n",
      "Epoch 140/200\n",
      "73s - loss: 0.8034 - acc: 0.7755 - val_loss: 1.4110 - val_acc: 0.6071\n",
      "Epoch 141/200\n",
      "72s - loss: 0.7953 - acc: 0.7785 - val_loss: 1.4219 - val_acc: 0.6088\n",
      "Epoch 142/200\n",
      "72s - loss: 0.8012 - acc: 0.7761 - val_loss: 1.3285 - val_acc: 0.6250\n",
      "Epoch 143/200\n",
      "72s - loss: 0.7984 - acc: 0.7810 - val_loss: 1.3989 - val_acc: 0.6130\n",
      "Epoch 144/200\n",
      "72s - loss: 0.7933 - acc: 0.7819 - val_loss: 1.3518 - val_acc: 0.6225\n",
      "Epoch 145/200\n",
      "72s - loss: 0.8031 - acc: 0.7776 - val_loss: 1.3660 - val_acc: 0.6149\n",
      "Epoch 146/200\n",
      "72s - loss: 0.7857 - acc: 0.7841 - val_loss: 1.4430 - val_acc: 0.6152\n",
      "Epoch 147/200\n",
      "72s - loss: 0.7859 - acc: 0.7843 - val_loss: 1.4029 - val_acc: 0.6227\n",
      "Epoch 148/200\n",
      "72s - loss: 0.7868 - acc: 0.7832 - val_loss: 1.4216 - val_acc: 0.6052\n",
      "Epoch 149/200\n",
      "72s - loss: 0.7854 - acc: 0.7868 - val_loss: 1.3700 - val_acc: 0.6250\n",
      "Epoch 150/200\n",
      "72s - loss: 0.7853 - acc: 0.7828 - val_loss: 1.3895 - val_acc: 0.6094\n",
      "Epoch 151/200\n",
      "72s - loss: 0.7811 - acc: 0.7873 - val_loss: 1.4146 - val_acc: 0.6144\n",
      "Epoch 152/200\n",
      "72s - loss: 0.7791 - acc: 0.7853 - val_loss: 1.4360 - val_acc: 0.6291\n",
      "Epoch 153/200\n",
      "72s - loss: 0.7865 - acc: 0.7824 - val_loss: 1.3637 - val_acc: 0.6219\n",
      "Epoch 154/200\n",
      "72s - loss: 0.7761 - acc: 0.7875 - val_loss: 1.4549 - val_acc: 0.6082\n",
      "Epoch 155/200\n",
      "73s - loss: 0.7765 - acc: 0.7865 - val_loss: 1.4529 - val_acc: 0.6202\n",
      "Epoch 156/200\n",
      "73s - loss: 0.7770 - acc: 0.7887 - val_loss: 1.4498 - val_acc: 0.6158\n",
      "Epoch 157/200\n",
      "73s - loss: 0.7767 - acc: 0.7882 - val_loss: 1.4121 - val_acc: 0.6088\n",
      "Epoch 158/200\n",
      "73s - loss: 0.7685 - acc: 0.7921 - val_loss: 1.4275 - val_acc: 0.6099\n",
      "Epoch 159/200\n",
      "73s - loss: 0.7737 - acc: 0.7881 - val_loss: 1.4798 - val_acc: 0.6085\n",
      "Epoch 160/200\n",
      "73s - loss: 0.7667 - acc: 0.7927 - val_loss: 1.4250 - val_acc: 0.6074\n",
      "Epoch 161/200\n",
      "72s - loss: 0.7698 - acc: 0.7883 - val_loss: 1.4489 - val_acc: 0.6205\n",
      "Epoch 162/200\n",
      "72s - loss: 0.7635 - acc: 0.7924 - val_loss: 1.3883 - val_acc: 0.6158\n",
      "Epoch 163/200\n",
      "72s - loss: 0.7645 - acc: 0.7931 - val_loss: 1.5178 - val_acc: 0.6049\n",
      "Epoch 164/200\n",
      "72s - loss: 0.7611 - acc: 0.7944 - val_loss: 1.4325 - val_acc: 0.6219\n",
      "Epoch 165/200\n",
      "72s - loss: 0.7660 - acc: 0.7908 - val_loss: 1.4678 - val_acc: 0.6216\n",
      "Epoch 166/200\n",
      "72s - loss: 0.7603 - acc: 0.7932 - val_loss: 1.4615 - val_acc: 0.6163\n",
      "Epoch 167/200\n",
      "72s - loss: 0.7533 - acc: 0.7985 - val_loss: 1.4427 - val_acc: 0.6258\n",
      "Epoch 168/200\n",
      "72s - loss: 0.7515 - acc: 0.7984 - val_loss: 1.4614 - val_acc: 0.6174\n",
      "Epoch 169/200\n",
      "72s - loss: 0.7566 - acc: 0.7960 - val_loss: 1.5123 - val_acc: 0.6060\n",
      "Epoch 170/200\n",
      "72s - loss: 0.7554 - acc: 0.7947 - val_loss: 1.5083 - val_acc: 0.6049\n",
      "Epoch 171/200\n",
      "72s - loss: 0.7556 - acc: 0.7978 - val_loss: 1.4880 - val_acc: 0.6177\n",
      "Epoch 172/200\n",
      "72s - loss: 0.7529 - acc: 0.7946 - val_loss: 1.4800 - val_acc: 0.6066\n",
      "Epoch 173/200\n",
      "72s - loss: 0.7438 - acc: 0.8027 - val_loss: 1.3978 - val_acc: 0.6147\n",
      "Epoch 174/200\n",
      "72s - loss: 0.7490 - acc: 0.8004 - val_loss: 1.4833 - val_acc: 0.6135\n",
      "Epoch 175/200\n",
      "72s - loss: 0.7533 - acc: 0.7976 - val_loss: 1.4394 - val_acc: 0.6197\n",
      "Epoch 176/200\n",
      "72s - loss: 0.7459 - acc: 0.7989 - val_loss: 1.4002 - val_acc: 0.6138\n",
      "Epoch 177/200\n",
      "72s - loss: 0.7432 - acc: 0.8007 - val_loss: 1.4291 - val_acc: 0.6105\n",
      "Epoch 178/200\n",
      "72s - loss: 0.7444 - acc: 0.7989 - val_loss: 1.4455 - val_acc: 0.6141\n",
      "Epoch 179/200\n",
      "72s - loss: 0.7456 - acc: 0.7970 - val_loss: 1.4437 - val_acc: 0.6227\n",
      "Epoch 180/200\n",
      "72s - loss: 0.7379 - acc: 0.8046 - val_loss: 1.4262 - val_acc: 0.6180\n",
      "Epoch 181/200\n",
      "72s - loss: 0.7389 - acc: 0.8023 - val_loss: 1.4948 - val_acc: 0.6004\n",
      "Epoch 182/200\n",
      "72s - loss: 0.7321 - acc: 0.8046 - val_loss: 1.4432 - val_acc: 0.6138\n",
      "Epoch 183/200\n",
      "72s - loss: 0.7355 - acc: 0.8048 - val_loss: 1.4814 - val_acc: 0.6030\n",
      "Epoch 184/200\n",
      "72s - loss: 0.7320 - acc: 0.8058 - val_loss: 1.4306 - val_acc: 0.6057\n",
      "Epoch 185/200\n",
      "72s - loss: 0.7334 - acc: 0.8050 - val_loss: 1.5239 - val_acc: 0.6174\n",
      "Epoch 186/200\n",
      "72s - loss: 0.7299 - acc: 0.8077 - val_loss: 1.4263 - val_acc: 0.6160\n",
      "Epoch 187/200\n",
      "72s - loss: 0.7298 - acc: 0.8055 - val_loss: 1.4617 - val_acc: 0.6130\n",
      "Epoch 188/200\n",
      "72s - loss: 0.7304 - acc: 0.8077 - val_loss: 1.5052 - val_acc: 0.6121\n",
      "Epoch 189/200\n",
      "72s - loss: 0.7279 - acc: 0.8066 - val_loss: 1.4481 - val_acc: 0.6166\n",
      "Epoch 190/200\n",
      "72s - loss: 0.7181 - acc: 0.8108 - val_loss: 1.5019 - val_acc: 0.6060\n",
      "Epoch 191/200\n",
      "72s - loss: 0.7206 - acc: 0.8114 - val_loss: 1.4915 - val_acc: 0.6188\n",
      "Epoch 192/200\n",
      "72s - loss: 0.7263 - acc: 0.8080 - val_loss: 1.4516 - val_acc: 0.6105\n",
      "Epoch 193/200\n",
      "72s - loss: 0.7211 - acc: 0.8100 - val_loss: 1.3988 - val_acc: 0.6121\n",
      "Epoch 194/200\n",
      "72s - loss: 0.7213 - acc: 0.8098 - val_loss: 1.4905 - val_acc: 0.6133\n",
      "Epoch 195/200\n",
      "72s - loss: 0.7195 - acc: 0.8112 - val_loss: 1.5424 - val_acc: 0.6041\n",
      "Epoch 196/200\n",
      "72s - loss: 0.7251 - acc: 0.8094 - val_loss: 1.4479 - val_acc: 0.6041\n",
      "Epoch 197/200\n",
      "72s - loss: 0.7188 - acc: 0.8102 - val_loss: 1.5266 - val_acc: 0.6021\n",
      "Epoch 198/200\n"
     ]
    },
    {
     "name": "stdout",
     "output_type": "stream",
     "text": [
      "72s - loss: 0.7170 - acc: 0.8094 - val_loss: 1.4103 - val_acc: 0.6127\n",
      "Epoch 199/200\n",
      "72s - loss: 0.7123 - acc: 0.8138 - val_loss: 1.4440 - val_acc: 0.6110\n",
      "Epoch 200/200\n",
      "72s - loss: 0.7112 - acc: 0.8130 - val_loss: 1.5310 - val_acc: 0.6116\n",
      "CPU times: user 2h 35min 37s, sys: 16min 34s, total: 2h 52min 11s\n",
      "Wall time: 4h 3min 17s\n"
     ]
    }
   ],
   "source": [
    "%%time\n",
    "hist3 = model3.fit(X_train1, Y_train1, epochs=200, batch_size=100, validation_data=(X_test, Y_test), verbose=2)"
   ]
  },
  {
   "cell_type": "code",
   "execution_count": 75,
   "metadata": {
    "collapsed": true
   },
   "outputs": [],
   "source": [
    "model3.save(\"../models/face_M_s3.hdf5\")"
   ]
  },
  {
   "cell_type": "markdown",
   "metadata": {},
   "source": [
    "* ### Initializing"
   ]
  },
  {
   "cell_type": "code",
   "execution_count": 42,
   "metadata": {
    "collapsed": true
   },
   "outputs": [],
   "source": [
    "def init_pred(X):\n",
    "    Y_pred = model1.predict_classes(X)\n",
    "    proba_pred = model1.predict(X)\n",
    "\n",
    "    dfP = pd.DataFrame(Y_pred, columns=['pred0'])\n",
    "    dfP['pred1'] = Y_pred\n",
    "    dfP['0'] = proba_pred[:, 0]\n",
    "    dfP['1'] = proba_pred[:, 1]\n",
    "    dfP['2'] = proba_pred[:, 2]\n",
    "    dfP['3'] = proba_pred[:, 3]\n",
    "    dfP['4'] = proba_pred[:, 4]\n",
    "    dfP['5'] = proba_pred[:, 5]\n",
    "    dfP['6'] = proba_pred[:, 6]\n",
    "    \n",
    "    return dfP"
   ]
  },
  {
   "cell_type": "code",
   "execution_count": 19,
   "metadata": {},
   "outputs": [
    {
     "name": "stdout",
     "output_type": "stream",
     "text": [
      "3589/3589 [==============================] - 2s     \n"
     ]
    }
   ],
   "source": [
    "dfP = init_pred(X_test)"
   ]
  },
  {
   "cell_type": "code",
   "execution_count": 20,
   "metadata": {},
   "outputs": [
    {
     "data": {
      "text/html": [
       "<div>\n",
       "<table border=\"1\" class=\"dataframe\">\n",
       "  <thead>\n",
       "    <tr style=\"text-align: right;\">\n",
       "      <th></th>\n",
       "      <th>pred0</th>\n",
       "      <th>pred1</th>\n",
       "      <th>0</th>\n",
       "      <th>1</th>\n",
       "      <th>2</th>\n",
       "      <th>3</th>\n",
       "      <th>4</th>\n",
       "      <th>5</th>\n",
       "      <th>6</th>\n",
       "    </tr>\n",
       "  </thead>\n",
       "  <tbody>\n",
       "    <tr>\n",
       "      <th>3584</th>\n",
       "      <td>6</td>\n",
       "      <td>6</td>\n",
       "      <td>0.013984</td>\n",
       "      <td>0.000111</td>\n",
       "      <td>0.065083</td>\n",
       "      <td>0.000120</td>\n",
       "      <td>0.103709</td>\n",
       "      <td>0.000774</td>\n",
       "      <td>0.816219</td>\n",
       "    </tr>\n",
       "    <tr>\n",
       "      <th>3585</th>\n",
       "      <td>4</td>\n",
       "      <td>4</td>\n",
       "      <td>0.117561</td>\n",
       "      <td>0.011581</td>\n",
       "      <td>0.130993</td>\n",
       "      <td>0.194362</td>\n",
       "      <td>0.502526</td>\n",
       "      <td>0.003728</td>\n",
       "      <td>0.039248</td>\n",
       "    </tr>\n",
       "    <tr>\n",
       "      <th>3586</th>\n",
       "      <td>3</td>\n",
       "      <td>3</td>\n",
       "      <td>0.108249</td>\n",
       "      <td>0.000154</td>\n",
       "      <td>0.057606</td>\n",
       "      <td>0.549701</td>\n",
       "      <td>0.024520</td>\n",
       "      <td>0.074275</td>\n",
       "      <td>0.185496</td>\n",
       "    </tr>\n",
       "    <tr>\n",
       "      <th>3587</th>\n",
       "      <td>3</td>\n",
       "      <td>3</td>\n",
       "      <td>0.010776</td>\n",
       "      <td>0.000021</td>\n",
       "      <td>0.014361</td>\n",
       "      <td>0.873818</td>\n",
       "      <td>0.031663</td>\n",
       "      <td>0.004415</td>\n",
       "      <td>0.064946</td>\n",
       "    </tr>\n",
       "    <tr>\n",
       "      <th>3588</th>\n",
       "      <td>4</td>\n",
       "      <td>4</td>\n",
       "      <td>0.042891</td>\n",
       "      <td>0.001845</td>\n",
       "      <td>0.290667</td>\n",
       "      <td>0.000134</td>\n",
       "      <td>0.507809</td>\n",
       "      <td>0.002227</td>\n",
       "      <td>0.154426</td>\n",
       "    </tr>\n",
       "  </tbody>\n",
       "</table>\n",
       "</div>"
      ],
      "text/plain": [
       "      pred0  pred1         0         1         2         3         4  \\\n",
       "3584      6      6  0.013984  0.000111  0.065083  0.000120  0.103709   \n",
       "3585      4      4  0.117561  0.011581  0.130993  0.194362  0.502526   \n",
       "3586      3      3  0.108249  0.000154  0.057606  0.549701  0.024520   \n",
       "3587      3      3  0.010776  0.000021  0.014361  0.873818  0.031663   \n",
       "3588      4      4  0.042891  0.001845  0.290667  0.000134  0.507809   \n",
       "\n",
       "             5         6  \n",
       "3584  0.000774  0.816219  \n",
       "3585  0.003728  0.039248  \n",
       "3586  0.074275  0.185496  \n",
       "3587  0.004415  0.064946  \n",
       "3588  0.002227  0.154426  "
      ]
     },
     "execution_count": 20,
     "metadata": {},
     "output_type": "execute_result"
    }
   ],
   "source": [
    "dfP.tail()"
   ]
  },
  {
   "cell_type": "markdown",
   "metadata": {},
   "source": [
    " "
   ]
  },
  {
   "cell_type": "markdown",
   "metadata": {
    "collapsed": true
   },
   "source": [
    "* ### Pipeline 6"
   ]
  },
  {
   "cell_type": "code",
   "execution_count": 21,
   "metadata": {
    "collapsed": true
   },
   "outputs": [],
   "source": [
    "model11 = keras.models.load_model(\"../models/face_M11.hdf5\") # 1st\n",
    "model07 = keras.models.load_model(\"../models/face_M07.hdf5\") # 2nd"
   ]
  },
  {
   "cell_type": "code",
   "execution_count": 128,
   "metadata": {},
   "outputs": [
    {
     "name": "stdout",
     "output_type": "stream",
     "text": [
      "3584/3589 [============================>.] - ETA: 0s"
     ]
    }
   ],
   "source": [
    "dfP = init_pred(X_test)"
   ]
  },
  {
   "cell_type": "code",
   "execution_count": 133,
   "metadata": {},
   "outputs": [
    {
     "name": "stdout",
     "output_type": "stream",
     "text": [
      "3552/3589 [============================>.] - ETA: 0s"
     ]
    }
   ],
   "source": [
    "r1 = model11.predict_classes(X_test)"
   ]
  },
  {
   "cell_type": "code",
   "execution_count": 134,
   "metadata": {
    "collapsed": true
   },
   "outputs": [],
   "source": [
    "pred1 = np.zeros(len(r1), dtype=int)\n",
    "pred1[r1 == 0] = 3\n",
    "pred1[r1 == 1] = 5"
   ]
  },
  {
   "cell_type": "code",
   "execution_count": 135,
   "metadata": {},
   "outputs": [
    {
     "data": {
      "text/plain": [
       "array([0, 0, 0, 0, 0, 0, 0, 3, 0, 3, 5, 3, 0, 0, 0, 0, 0, 5, 0, 0, 3, 0, 0,\n",
       "       0, 3, 0, 5, 0, 0, 0, 0, 0, 0, 0, 0, 0, 5, 0, 0, 0, 0, 0, 0, 0, 0, 0,\n",
       "       3, 0, 3, 3, 0, 0, 3, 0, 0, 0, 3, 0, 0, 0, 0, 5, 0, 0, 0, 0, 3, 5, 0,\n",
       "       0, 0, 0, 5, 0, 3, 0, 0, 0, 5, 0, 5, 3, 5, 0, 3, 0, 0, 0, 3, 3, 3, 5,\n",
       "       0, 0, 0, 0, 0, 5, 3, 0])"
      ]
     },
     "execution_count": 135,
     "metadata": {},
     "output_type": "execute_result"
    }
   ],
   "source": [
    "pred1[:100]"
   ]
  },
  {
   "cell_type": "code",
   "execution_count": 136,
   "metadata": {
    "collapsed": true
   },
   "outputs": [],
   "source": [
    "dfP['pred1'] = pred1"
   ]
  },
  {
   "cell_type": "code",
   "execution_count": 141,
   "metadata": {
    "scrolled": true
   },
   "outputs": [
    {
     "data": {
      "text/html": [
       "<div>\n",
       "<table border=\"1\" class=\"dataframe\">\n",
       "  <thead>\n",
       "    <tr style=\"text-align: right;\">\n",
       "      <th></th>\n",
       "      <th>pred0</th>\n",
       "      <th>pred1</th>\n",
       "      <th>0</th>\n",
       "      <th>1</th>\n",
       "      <th>2</th>\n",
       "      <th>3</th>\n",
       "      <th>4</th>\n",
       "      <th>5</th>\n",
       "      <th>6</th>\n",
       "    </tr>\n",
       "  </thead>\n",
       "  <tbody>\n",
       "    <tr>\n",
       "      <th>0</th>\n",
       "      <td>1</td>\n",
       "      <td>0</td>\n",
       "      <td>0.031025</td>\n",
       "      <td>0.924982</td>\n",
       "      <td>0.021350</td>\n",
       "      <td>2.064812e-05</td>\n",
       "      <td>0.021445</td>\n",
       "      <td>0.000438</td>\n",
       "      <td>0.000739</td>\n",
       "    </tr>\n",
       "    <tr>\n",
       "      <th>1</th>\n",
       "      <td>4</td>\n",
       "      <td>0</td>\n",
       "      <td>0.122550</td>\n",
       "      <td>0.003190</td>\n",
       "      <td>0.116838</td>\n",
       "      <td>8.865876e-03</td>\n",
       "      <td>0.689354</td>\n",
       "      <td>0.002836</td>\n",
       "      <td>0.056367</td>\n",
       "    </tr>\n",
       "    <tr>\n",
       "      <th>2</th>\n",
       "      <td>2</td>\n",
       "      <td>0</td>\n",
       "      <td>0.037250</td>\n",
       "      <td>0.000427</td>\n",
       "      <td>0.891100</td>\n",
       "      <td>1.533847e-04</td>\n",
       "      <td>0.068474</td>\n",
       "      <td>0.001894</td>\n",
       "      <td>0.000702</td>\n",
       "    </tr>\n",
       "    <tr>\n",
       "      <th>3</th>\n",
       "      <td>4</td>\n",
       "      <td>0</td>\n",
       "      <td>0.222432</td>\n",
       "      <td>0.047969</td>\n",
       "      <td>0.059570</td>\n",
       "      <td>3.979919e-04</td>\n",
       "      <td>0.602916</td>\n",
       "      <td>0.001248</td>\n",
       "      <td>0.065468</td>\n",
       "    </tr>\n",
       "    <tr>\n",
       "      <th>4</th>\n",
       "      <td>0</td>\n",
       "      <td>0</td>\n",
       "      <td>0.282585</td>\n",
       "      <td>0.266255</td>\n",
       "      <td>0.192798</td>\n",
       "      <td>2.711944e-04</td>\n",
       "      <td>0.098072</td>\n",
       "      <td>0.139780</td>\n",
       "      <td>0.020239</td>\n",
       "    </tr>\n",
       "    <tr>\n",
       "      <th>5</th>\n",
       "      <td>0</td>\n",
       "      <td>0</td>\n",
       "      <td>0.651639</td>\n",
       "      <td>0.016965</td>\n",
       "      <td>0.307104</td>\n",
       "      <td>2.357264e-04</td>\n",
       "      <td>0.021952</td>\n",
       "      <td>0.001842</td>\n",
       "      <td>0.000262</td>\n",
       "    </tr>\n",
       "    <tr>\n",
       "      <th>6</th>\n",
       "      <td>2</td>\n",
       "      <td>0</td>\n",
       "      <td>0.045593</td>\n",
       "      <td>0.000062</td>\n",
       "      <td>0.507899</td>\n",
       "      <td>1.925978e-02</td>\n",
       "      <td>0.208117</td>\n",
       "      <td>0.001534</td>\n",
       "      <td>0.217536</td>\n",
       "    </tr>\n",
       "    <tr>\n",
       "      <th>8</th>\n",
       "      <td>3</td>\n",
       "      <td>0</td>\n",
       "      <td>0.094211</td>\n",
       "      <td>0.018413</td>\n",
       "      <td>0.143292</td>\n",
       "      <td>4.826029e-01</td>\n",
       "      <td>0.024179</td>\n",
       "      <td>0.145674</td>\n",
       "      <td>0.091627</td>\n",
       "    </tr>\n",
       "    <tr>\n",
       "      <th>12</th>\n",
       "      <td>6</td>\n",
       "      <td>0</td>\n",
       "      <td>0.006310</td>\n",
       "      <td>0.000098</td>\n",
       "      <td>0.274122</td>\n",
       "      <td>2.262046e-05</td>\n",
       "      <td>0.302519</td>\n",
       "      <td>0.003970</td>\n",
       "      <td>0.412958</td>\n",
       "    </tr>\n",
       "    <tr>\n",
       "      <th>13</th>\n",
       "      <td>4</td>\n",
       "      <td>0</td>\n",
       "      <td>0.031273</td>\n",
       "      <td>0.000657</td>\n",
       "      <td>0.219416</td>\n",
       "      <td>4.182806e-04</td>\n",
       "      <td>0.728898</td>\n",
       "      <td>0.002684</td>\n",
       "      <td>0.016653</td>\n",
       "    </tr>\n",
       "    <tr>\n",
       "      <th>14</th>\n",
       "      <td>4</td>\n",
       "      <td>0</td>\n",
       "      <td>0.023480</td>\n",
       "      <td>0.001206</td>\n",
       "      <td>0.134360</td>\n",
       "      <td>5.949299e-04</td>\n",
       "      <td>0.720633</td>\n",
       "      <td>0.003820</td>\n",
       "      <td>0.115906</td>\n",
       "    </tr>\n",
       "    <tr>\n",
       "      <th>15</th>\n",
       "      <td>4</td>\n",
       "      <td>0</td>\n",
       "      <td>0.029685</td>\n",
       "      <td>0.000143</td>\n",
       "      <td>0.049435</td>\n",
       "      <td>5.302129e-05</td>\n",
       "      <td>0.646176</td>\n",
       "      <td>0.000307</td>\n",
       "      <td>0.274201</td>\n",
       "    </tr>\n",
       "    <tr>\n",
       "      <th>16</th>\n",
       "      <td>2</td>\n",
       "      <td>0</td>\n",
       "      <td>0.156217</td>\n",
       "      <td>0.038615</td>\n",
       "      <td>0.649708</td>\n",
       "      <td>1.716939e-02</td>\n",
       "      <td>0.011496</td>\n",
       "      <td>0.124000</td>\n",
       "      <td>0.002795</td>\n",
       "    </tr>\n",
       "    <tr>\n",
       "      <th>18</th>\n",
       "      <td>4</td>\n",
       "      <td>0</td>\n",
       "      <td>0.030508</td>\n",
       "      <td>0.000265</td>\n",
       "      <td>0.304684</td>\n",
       "      <td>2.193019e-02</td>\n",
       "      <td>0.327805</td>\n",
       "      <td>0.018229</td>\n",
       "      <td>0.296578</td>\n",
       "    </tr>\n",
       "    <tr>\n",
       "      <th>19</th>\n",
       "      <td>2</td>\n",
       "      <td>0</td>\n",
       "      <td>0.239186</td>\n",
       "      <td>0.013870</td>\n",
       "      <td>0.644969</td>\n",
       "      <td>3.590013e-03</td>\n",
       "      <td>0.076632</td>\n",
       "      <td>0.010172</td>\n",
       "      <td>0.011580</td>\n",
       "    </tr>\n",
       "    <tr>\n",
       "      <th>21</th>\n",
       "      <td>4</td>\n",
       "      <td>0</td>\n",
       "      <td>0.004380</td>\n",
       "      <td>0.000105</td>\n",
       "      <td>0.010583</td>\n",
       "      <td>6.931380e-04</td>\n",
       "      <td>0.980104</td>\n",
       "      <td>0.000061</td>\n",
       "      <td>0.004074</td>\n",
       "    </tr>\n",
       "    <tr>\n",
       "      <th>22</th>\n",
       "      <td>0</td>\n",
       "      <td>0</td>\n",
       "      <td>0.815068</td>\n",
       "      <td>0.001477</td>\n",
       "      <td>0.022880</td>\n",
       "      <td>7.854905e-05</td>\n",
       "      <td>0.131417</td>\n",
       "      <td>0.000109</td>\n",
       "      <td>0.028970</td>\n",
       "    </tr>\n",
       "    <tr>\n",
       "      <th>23</th>\n",
       "      <td>6</td>\n",
       "      <td>0</td>\n",
       "      <td>0.021912</td>\n",
       "      <td>0.000070</td>\n",
       "      <td>0.006286</td>\n",
       "      <td>5.780815e-02</td>\n",
       "      <td>0.262442</td>\n",
       "      <td>0.000262</td>\n",
       "      <td>0.651220</td>\n",
       "    </tr>\n",
       "    <tr>\n",
       "      <th>25</th>\n",
       "      <td>2</td>\n",
       "      <td>0</td>\n",
       "      <td>0.020531</td>\n",
       "      <td>0.001775</td>\n",
       "      <td>0.573477</td>\n",
       "      <td>2.654100e-03</td>\n",
       "      <td>0.282405</td>\n",
       "      <td>0.112263</td>\n",
       "      <td>0.006896</td>\n",
       "    </tr>\n",
       "    <tr>\n",
       "      <th>27</th>\n",
       "      <td>4</td>\n",
       "      <td>0</td>\n",
       "      <td>0.114620</td>\n",
       "      <td>0.004240</td>\n",
       "      <td>0.201105</td>\n",
       "      <td>3.418711e-04</td>\n",
       "      <td>0.373878</td>\n",
       "      <td>0.008278</td>\n",
       "      <td>0.297537</td>\n",
       "    </tr>\n",
       "    <tr>\n",
       "      <th>28</th>\n",
       "      <td>6</td>\n",
       "      <td>0</td>\n",
       "      <td>0.003981</td>\n",
       "      <td>0.000030</td>\n",
       "      <td>0.004271</td>\n",
       "      <td>3.840539e-04</td>\n",
       "      <td>0.011088</td>\n",
       "      <td>0.000279</td>\n",
       "      <td>0.979967</td>\n",
       "    </tr>\n",
       "    <tr>\n",
       "      <th>29</th>\n",
       "      <td>6</td>\n",
       "      <td>0</td>\n",
       "      <td>0.020008</td>\n",
       "      <td>0.001184</td>\n",
       "      <td>0.203704</td>\n",
       "      <td>1.904863e-02</td>\n",
       "      <td>0.207808</td>\n",
       "      <td>0.097839</td>\n",
       "      <td>0.450409</td>\n",
       "    </tr>\n",
       "    <tr>\n",
       "      <th>30</th>\n",
       "      <td>4</td>\n",
       "      <td>0</td>\n",
       "      <td>0.019124</td>\n",
       "      <td>0.000495</td>\n",
       "      <td>0.138058</td>\n",
       "      <td>2.603005e-03</td>\n",
       "      <td>0.772057</td>\n",
       "      <td>0.002110</td>\n",
       "      <td>0.065554</td>\n",
       "    </tr>\n",
       "    <tr>\n",
       "      <th>31</th>\n",
       "      <td>3</td>\n",
       "      <td>0</td>\n",
       "      <td>0.009169</td>\n",
       "      <td>0.000366</td>\n",
       "      <td>0.012956</td>\n",
       "      <td>4.273196e-01</td>\n",
       "      <td>0.190092</td>\n",
       "      <td>0.002098</td>\n",
       "      <td>0.357999</td>\n",
       "    </tr>\n",
       "    <tr>\n",
       "      <th>32</th>\n",
       "      <td>0</td>\n",
       "      <td>0</td>\n",
       "      <td>0.440789</td>\n",
       "      <td>0.064560</td>\n",
       "      <td>0.065502</td>\n",
       "      <td>2.037835e-03</td>\n",
       "      <td>0.362206</td>\n",
       "      <td>0.002379</td>\n",
       "      <td>0.062527</td>\n",
       "    </tr>\n",
       "    <tr>\n",
       "      <th>33</th>\n",
       "      <td>2</td>\n",
       "      <td>0</td>\n",
       "      <td>0.033010</td>\n",
       "      <td>0.002313</td>\n",
       "      <td>0.474448</td>\n",
       "      <td>9.903515e-04</td>\n",
       "      <td>0.425115</td>\n",
       "      <td>0.018988</td>\n",
       "      <td>0.045136</td>\n",
       "    </tr>\n",
       "    <tr>\n",
       "      <th>34</th>\n",
       "      <td>1</td>\n",
       "      <td>0</td>\n",
       "      <td>0.004993</td>\n",
       "      <td>0.989385</td>\n",
       "      <td>0.002408</td>\n",
       "      <td>4.620347e-07</td>\n",
       "      <td>0.003074</td>\n",
       "      <td>0.000022</td>\n",
       "      <td>0.000117</td>\n",
       "    </tr>\n",
       "    <tr>\n",
       "      <th>35</th>\n",
       "      <td>6</td>\n",
       "      <td>0</td>\n",
       "      <td>0.059901</td>\n",
       "      <td>0.000134</td>\n",
       "      <td>0.046994</td>\n",
       "      <td>3.362681e-02</td>\n",
       "      <td>0.101081</td>\n",
       "      <td>0.000229</td>\n",
       "      <td>0.758034</td>\n",
       "    </tr>\n",
       "    <tr>\n",
       "      <th>37</th>\n",
       "      <td>4</td>\n",
       "      <td>0</td>\n",
       "      <td>0.148355</td>\n",
       "      <td>0.010176</td>\n",
       "      <td>0.160564</td>\n",
       "      <td>7.794324e-05</td>\n",
       "      <td>0.667776</td>\n",
       "      <td>0.000802</td>\n",
       "      <td>0.012249</td>\n",
       "    </tr>\n",
       "    <tr>\n",
       "      <th>38</th>\n",
       "      <td>0</td>\n",
       "      <td>0</td>\n",
       "      <td>0.857102</td>\n",
       "      <td>0.001281</td>\n",
       "      <td>0.015057</td>\n",
       "      <td>3.937059e-02</td>\n",
       "      <td>0.003367</td>\n",
       "      <td>0.003001</td>\n",
       "      <td>0.080821</td>\n",
       "    </tr>\n",
       "    <tr>\n",
       "      <th>...</th>\n",
       "      <td>...</td>\n",
       "      <td>...</td>\n",
       "      <td>...</td>\n",
       "      <td>...</td>\n",
       "      <td>...</td>\n",
       "      <td>...</td>\n",
       "      <td>...</td>\n",
       "      <td>...</td>\n",
       "      <td>...</td>\n",
       "    </tr>\n",
       "    <tr>\n",
       "      <th>3538</th>\n",
       "      <td>3</td>\n",
       "      <td>0</td>\n",
       "      <td>0.144399</td>\n",
       "      <td>0.010794</td>\n",
       "      <td>0.051471</td>\n",
       "      <td>5.025062e-01</td>\n",
       "      <td>0.210683</td>\n",
       "      <td>0.000144</td>\n",
       "      <td>0.080003</td>\n",
       "    </tr>\n",
       "    <tr>\n",
       "      <th>3540</th>\n",
       "      <td>0</td>\n",
       "      <td>0</td>\n",
       "      <td>0.623983</td>\n",
       "      <td>0.024093</td>\n",
       "      <td>0.261589</td>\n",
       "      <td>1.919245e-02</td>\n",
       "      <td>0.064254</td>\n",
       "      <td>0.005527</td>\n",
       "      <td>0.001361</td>\n",
       "    </tr>\n",
       "    <tr>\n",
       "      <th>3542</th>\n",
       "      <td>3</td>\n",
       "      <td>0</td>\n",
       "      <td>0.031645</td>\n",
       "      <td>0.003969</td>\n",
       "      <td>0.014849</td>\n",
       "      <td>5.859537e-01</td>\n",
       "      <td>0.088812</td>\n",
       "      <td>0.011176</td>\n",
       "      <td>0.263595</td>\n",
       "    </tr>\n",
       "    <tr>\n",
       "      <th>3543</th>\n",
       "      <td>1</td>\n",
       "      <td>0</td>\n",
       "      <td>0.006621</td>\n",
       "      <td>0.947286</td>\n",
       "      <td>0.015601</td>\n",
       "      <td>1.489133e-03</td>\n",
       "      <td>0.024178</td>\n",
       "      <td>0.003928</td>\n",
       "      <td>0.000898</td>\n",
       "    </tr>\n",
       "    <tr>\n",
       "      <th>3544</th>\n",
       "      <td>6</td>\n",
       "      <td>0</td>\n",
       "      <td>0.057929</td>\n",
       "      <td>0.005196</td>\n",
       "      <td>0.140767</td>\n",
       "      <td>2.205284e-02</td>\n",
       "      <td>0.110006</td>\n",
       "      <td>0.243311</td>\n",
       "      <td>0.420739</td>\n",
       "    </tr>\n",
       "    <tr>\n",
       "      <th>3546</th>\n",
       "      <td>2</td>\n",
       "      <td>0</td>\n",
       "      <td>0.241326</td>\n",
       "      <td>0.004307</td>\n",
       "      <td>0.686472</td>\n",
       "      <td>3.312044e-03</td>\n",
       "      <td>0.055319</td>\n",
       "      <td>0.007067</td>\n",
       "      <td>0.002197</td>\n",
       "    </tr>\n",
       "    <tr>\n",
       "      <th>3547</th>\n",
       "      <td>3</td>\n",
       "      <td>0</td>\n",
       "      <td>0.132098</td>\n",
       "      <td>0.000331</td>\n",
       "      <td>0.002127</td>\n",
       "      <td>8.476874e-01</td>\n",
       "      <td>0.005018</td>\n",
       "      <td>0.000079</td>\n",
       "      <td>0.012660</td>\n",
       "    </tr>\n",
       "    <tr>\n",
       "      <th>3550</th>\n",
       "      <td>2</td>\n",
       "      <td>0</td>\n",
       "      <td>0.017202</td>\n",
       "      <td>0.011018</td>\n",
       "      <td>0.775762</td>\n",
       "      <td>1.253030e-03</td>\n",
       "      <td>0.119314</td>\n",
       "      <td>0.066283</td>\n",
       "      <td>0.009168</td>\n",
       "    </tr>\n",
       "    <tr>\n",
       "      <th>3551</th>\n",
       "      <td>0</td>\n",
       "      <td>0</td>\n",
       "      <td>0.974254</td>\n",
       "      <td>0.000729</td>\n",
       "      <td>0.021172</td>\n",
       "      <td>3.124928e-03</td>\n",
       "      <td>0.000424</td>\n",
       "      <td>0.000248</td>\n",
       "      <td>0.000049</td>\n",
       "    </tr>\n",
       "    <tr>\n",
       "      <th>3553</th>\n",
       "      <td>2</td>\n",
       "      <td>0</td>\n",
       "      <td>0.211770</td>\n",
       "      <td>0.004694</td>\n",
       "      <td>0.573957</td>\n",
       "      <td>1.929279e-04</td>\n",
       "      <td>0.159818</td>\n",
       "      <td>0.022368</td>\n",
       "      <td>0.027201</td>\n",
       "    </tr>\n",
       "    <tr>\n",
       "      <th>3554</th>\n",
       "      <td>6</td>\n",
       "      <td>0</td>\n",
       "      <td>0.288622</td>\n",
       "      <td>0.008601</td>\n",
       "      <td>0.027077</td>\n",
       "      <td>3.106080e-03</td>\n",
       "      <td>0.055255</td>\n",
       "      <td>0.008789</td>\n",
       "      <td>0.608550</td>\n",
       "    </tr>\n",
       "    <tr>\n",
       "      <th>3555</th>\n",
       "      <td>4</td>\n",
       "      <td>0</td>\n",
       "      <td>0.002344</td>\n",
       "      <td>0.000019</td>\n",
       "      <td>0.047464</td>\n",
       "      <td>7.969887e-05</td>\n",
       "      <td>0.764441</td>\n",
       "      <td>0.000094</td>\n",
       "      <td>0.185558</td>\n",
       "    </tr>\n",
       "    <tr>\n",
       "      <th>3556</th>\n",
       "      <td>0</td>\n",
       "      <td>0</td>\n",
       "      <td>0.951456</td>\n",
       "      <td>0.002585</td>\n",
       "      <td>0.017933</td>\n",
       "      <td>4.705656e-05</td>\n",
       "      <td>0.017288</td>\n",
       "      <td>0.000849</td>\n",
       "      <td>0.009842</td>\n",
       "    </tr>\n",
       "    <tr>\n",
       "      <th>3557</th>\n",
       "      <td>4</td>\n",
       "      <td>0</td>\n",
       "      <td>0.004298</td>\n",
       "      <td>0.000212</td>\n",
       "      <td>0.037134</td>\n",
       "      <td>4.111974e-02</td>\n",
       "      <td>0.903858</td>\n",
       "      <td>0.000452</td>\n",
       "      <td>0.012926</td>\n",
       "    </tr>\n",
       "    <tr>\n",
       "      <th>3560</th>\n",
       "      <td>1</td>\n",
       "      <td>0</td>\n",
       "      <td>0.196028</td>\n",
       "      <td>0.725919</td>\n",
       "      <td>0.034622</td>\n",
       "      <td>3.977641e-04</td>\n",
       "      <td>0.036342</td>\n",
       "      <td>0.001201</td>\n",
       "      <td>0.005491</td>\n",
       "    </tr>\n",
       "    <tr>\n",
       "      <th>3561</th>\n",
       "      <td>3</td>\n",
       "      <td>0</td>\n",
       "      <td>0.001946</td>\n",
       "      <td>0.000200</td>\n",
       "      <td>0.088169</td>\n",
       "      <td>5.266760e-01</td>\n",
       "      <td>0.016321</td>\n",
       "      <td>0.325411</td>\n",
       "      <td>0.041277</td>\n",
       "    </tr>\n",
       "    <tr>\n",
       "      <th>3563</th>\n",
       "      <td>6</td>\n",
       "      <td>0</td>\n",
       "      <td>0.146943</td>\n",
       "      <td>0.000205</td>\n",
       "      <td>0.041472</td>\n",
       "      <td>2.541236e-03</td>\n",
       "      <td>0.050275</td>\n",
       "      <td>0.008357</td>\n",
       "      <td>0.750206</td>\n",
       "    </tr>\n",
       "    <tr>\n",
       "      <th>3564</th>\n",
       "      <td>2</td>\n",
       "      <td>0</td>\n",
       "      <td>0.060800</td>\n",
       "      <td>0.002397</td>\n",
       "      <td>0.707497</td>\n",
       "      <td>4.141670e-03</td>\n",
       "      <td>0.017845</td>\n",
       "      <td>0.187606</td>\n",
       "      <td>0.019713</td>\n",
       "    </tr>\n",
       "    <tr>\n",
       "      <th>3566</th>\n",
       "      <td>4</td>\n",
       "      <td>0</td>\n",
       "      <td>0.061350</td>\n",
       "      <td>0.012087</td>\n",
       "      <td>0.272696</td>\n",
       "      <td>1.489087e-01</td>\n",
       "      <td>0.449038</td>\n",
       "      <td>0.018024</td>\n",
       "      <td>0.037896</td>\n",
       "    </tr>\n",
       "    <tr>\n",
       "      <th>3570</th>\n",
       "      <td>0</td>\n",
       "      <td>0</td>\n",
       "      <td>0.752326</td>\n",
       "      <td>0.002683</td>\n",
       "      <td>0.045757</td>\n",
       "      <td>1.488295e-01</td>\n",
       "      <td>0.024194</td>\n",
       "      <td>0.004719</td>\n",
       "      <td>0.021492</td>\n",
       "    </tr>\n",
       "    <tr>\n",
       "      <th>3572</th>\n",
       "      <td>1</td>\n",
       "      <td>0</td>\n",
       "      <td>0.401661</td>\n",
       "      <td>0.576790</td>\n",
       "      <td>0.019396</td>\n",
       "      <td>7.213781e-04</td>\n",
       "      <td>0.000665</td>\n",
       "      <td>0.000609</td>\n",
       "      <td>0.000158</td>\n",
       "    </tr>\n",
       "    <tr>\n",
       "      <th>3573</th>\n",
       "      <td>4</td>\n",
       "      <td>0</td>\n",
       "      <td>0.029497</td>\n",
       "      <td>0.001502</td>\n",
       "      <td>0.278155</td>\n",
       "      <td>2.665186e-02</td>\n",
       "      <td>0.571305</td>\n",
       "      <td>0.009339</td>\n",
       "      <td>0.083549</td>\n",
       "    </tr>\n",
       "    <tr>\n",
       "      <th>3574</th>\n",
       "      <td>6</td>\n",
       "      <td>0</td>\n",
       "      <td>0.062050</td>\n",
       "      <td>0.000240</td>\n",
       "      <td>0.038714</td>\n",
       "      <td>1.275240e-04</td>\n",
       "      <td>0.159681</td>\n",
       "      <td>0.000329</td>\n",
       "      <td>0.738859</td>\n",
       "    </tr>\n",
       "    <tr>\n",
       "      <th>3575</th>\n",
       "      <td>4</td>\n",
       "      <td>0</td>\n",
       "      <td>0.005246</td>\n",
       "      <td>0.000698</td>\n",
       "      <td>0.180109</td>\n",
       "      <td>7.113784e-06</td>\n",
       "      <td>0.809501</td>\n",
       "      <td>0.000131</td>\n",
       "      <td>0.004308</td>\n",
       "    </tr>\n",
       "    <tr>\n",
       "      <th>3579</th>\n",
       "      <td>2</td>\n",
       "      <td>0</td>\n",
       "      <td>0.006120</td>\n",
       "      <td>0.000024</td>\n",
       "      <td>0.806974</td>\n",
       "      <td>6.529691e-04</td>\n",
       "      <td>0.144409</td>\n",
       "      <td>0.000317</td>\n",
       "      <td>0.041502</td>\n",
       "    </tr>\n",
       "    <tr>\n",
       "      <th>3581</th>\n",
       "      <td>4</td>\n",
       "      <td>0</td>\n",
       "      <td>0.029786</td>\n",
       "      <td>0.045625</td>\n",
       "      <td>0.047817</td>\n",
       "      <td>1.239630e-03</td>\n",
       "      <td>0.807658</td>\n",
       "      <td>0.001240</td>\n",
       "      <td>0.066634</td>\n",
       "    </tr>\n",
       "    <tr>\n",
       "      <th>3583</th>\n",
       "      <td>0</td>\n",
       "      <td>0</td>\n",
       "      <td>0.918908</td>\n",
       "      <td>0.000534</td>\n",
       "      <td>0.003357</td>\n",
       "      <td>6.626825e-06</td>\n",
       "      <td>0.073844</td>\n",
       "      <td>0.000003</td>\n",
       "      <td>0.003348</td>\n",
       "    </tr>\n",
       "    <tr>\n",
       "      <th>3584</th>\n",
       "      <td>6</td>\n",
       "      <td>0</td>\n",
       "      <td>0.013984</td>\n",
       "      <td>0.000111</td>\n",
       "      <td>0.065083</td>\n",
       "      <td>1.198955e-04</td>\n",
       "      <td>0.103709</td>\n",
       "      <td>0.000774</td>\n",
       "      <td>0.816219</td>\n",
       "    </tr>\n",
       "    <tr>\n",
       "      <th>3586</th>\n",
       "      <td>3</td>\n",
       "      <td>0</td>\n",
       "      <td>0.108249</td>\n",
       "      <td>0.000154</td>\n",
       "      <td>0.057606</td>\n",
       "      <td>5.497009e-01</td>\n",
       "      <td>0.024520</td>\n",
       "      <td>0.074275</td>\n",
       "      <td>0.185496</td>\n",
       "    </tr>\n",
       "    <tr>\n",
       "      <th>3588</th>\n",
       "      <td>4</td>\n",
       "      <td>0</td>\n",
       "      <td>0.042891</td>\n",
       "      <td>0.001845</td>\n",
       "      <td>0.290667</td>\n",
       "      <td>1.342804e-04</td>\n",
       "      <td>0.507809</td>\n",
       "      <td>0.002227</td>\n",
       "      <td>0.154426</td>\n",
       "    </tr>\n",
       "  </tbody>\n",
       "</table>\n",
       "<p>2283 rows × 9 columns</p>\n",
       "</div>"
      ],
      "text/plain": [
       "      pred0  pred1         0         1         2             3         4  \\\n",
       "0         1      0  0.031025  0.924982  0.021350  2.064812e-05  0.021445   \n",
       "1         4      0  0.122550  0.003190  0.116838  8.865876e-03  0.689354   \n",
       "2         2      0  0.037250  0.000427  0.891100  1.533847e-04  0.068474   \n",
       "3         4      0  0.222432  0.047969  0.059570  3.979919e-04  0.602916   \n",
       "4         0      0  0.282585  0.266255  0.192798  2.711944e-04  0.098072   \n",
       "5         0      0  0.651639  0.016965  0.307104  2.357264e-04  0.021952   \n",
       "6         2      0  0.045593  0.000062  0.507899  1.925978e-02  0.208117   \n",
       "8         3      0  0.094211  0.018413  0.143292  4.826029e-01  0.024179   \n",
       "12        6      0  0.006310  0.000098  0.274122  2.262046e-05  0.302519   \n",
       "13        4      0  0.031273  0.000657  0.219416  4.182806e-04  0.728898   \n",
       "14        4      0  0.023480  0.001206  0.134360  5.949299e-04  0.720633   \n",
       "15        4      0  0.029685  0.000143  0.049435  5.302129e-05  0.646176   \n",
       "16        2      0  0.156217  0.038615  0.649708  1.716939e-02  0.011496   \n",
       "18        4      0  0.030508  0.000265  0.304684  2.193019e-02  0.327805   \n",
       "19        2      0  0.239186  0.013870  0.644969  3.590013e-03  0.076632   \n",
       "21        4      0  0.004380  0.000105  0.010583  6.931380e-04  0.980104   \n",
       "22        0      0  0.815068  0.001477  0.022880  7.854905e-05  0.131417   \n",
       "23        6      0  0.021912  0.000070  0.006286  5.780815e-02  0.262442   \n",
       "25        2      0  0.020531  0.001775  0.573477  2.654100e-03  0.282405   \n",
       "27        4      0  0.114620  0.004240  0.201105  3.418711e-04  0.373878   \n",
       "28        6      0  0.003981  0.000030  0.004271  3.840539e-04  0.011088   \n",
       "29        6      0  0.020008  0.001184  0.203704  1.904863e-02  0.207808   \n",
       "30        4      0  0.019124  0.000495  0.138058  2.603005e-03  0.772057   \n",
       "31        3      0  0.009169  0.000366  0.012956  4.273196e-01  0.190092   \n",
       "32        0      0  0.440789  0.064560  0.065502  2.037835e-03  0.362206   \n",
       "33        2      0  0.033010  0.002313  0.474448  9.903515e-04  0.425115   \n",
       "34        1      0  0.004993  0.989385  0.002408  4.620347e-07  0.003074   \n",
       "35        6      0  0.059901  0.000134  0.046994  3.362681e-02  0.101081   \n",
       "37        4      0  0.148355  0.010176  0.160564  7.794324e-05  0.667776   \n",
       "38        0      0  0.857102  0.001281  0.015057  3.937059e-02  0.003367   \n",
       "...     ...    ...       ...       ...       ...           ...       ...   \n",
       "3538      3      0  0.144399  0.010794  0.051471  5.025062e-01  0.210683   \n",
       "3540      0      0  0.623983  0.024093  0.261589  1.919245e-02  0.064254   \n",
       "3542      3      0  0.031645  0.003969  0.014849  5.859537e-01  0.088812   \n",
       "3543      1      0  0.006621  0.947286  0.015601  1.489133e-03  0.024178   \n",
       "3544      6      0  0.057929  0.005196  0.140767  2.205284e-02  0.110006   \n",
       "3546      2      0  0.241326  0.004307  0.686472  3.312044e-03  0.055319   \n",
       "3547      3      0  0.132098  0.000331  0.002127  8.476874e-01  0.005018   \n",
       "3550      2      0  0.017202  0.011018  0.775762  1.253030e-03  0.119314   \n",
       "3551      0      0  0.974254  0.000729  0.021172  3.124928e-03  0.000424   \n",
       "3553      2      0  0.211770  0.004694  0.573957  1.929279e-04  0.159818   \n",
       "3554      6      0  0.288622  0.008601  0.027077  3.106080e-03  0.055255   \n",
       "3555      4      0  0.002344  0.000019  0.047464  7.969887e-05  0.764441   \n",
       "3556      0      0  0.951456  0.002585  0.017933  4.705656e-05  0.017288   \n",
       "3557      4      0  0.004298  0.000212  0.037134  4.111974e-02  0.903858   \n",
       "3560      1      0  0.196028  0.725919  0.034622  3.977641e-04  0.036342   \n",
       "3561      3      0  0.001946  0.000200  0.088169  5.266760e-01  0.016321   \n",
       "3563      6      0  0.146943  0.000205  0.041472  2.541236e-03  0.050275   \n",
       "3564      2      0  0.060800  0.002397  0.707497  4.141670e-03  0.017845   \n",
       "3566      4      0  0.061350  0.012087  0.272696  1.489087e-01  0.449038   \n",
       "3570      0      0  0.752326  0.002683  0.045757  1.488295e-01  0.024194   \n",
       "3572      1      0  0.401661  0.576790  0.019396  7.213781e-04  0.000665   \n",
       "3573      4      0  0.029497  0.001502  0.278155  2.665186e-02  0.571305   \n",
       "3574      6      0  0.062050  0.000240  0.038714  1.275240e-04  0.159681   \n",
       "3575      4      0  0.005246  0.000698  0.180109  7.113784e-06  0.809501   \n",
       "3579      2      0  0.006120  0.000024  0.806974  6.529691e-04  0.144409   \n",
       "3581      4      0  0.029786  0.045625  0.047817  1.239630e-03  0.807658   \n",
       "3583      0      0  0.918908  0.000534  0.003357  6.626825e-06  0.073844   \n",
       "3584      6      0  0.013984  0.000111  0.065083  1.198955e-04  0.103709   \n",
       "3586      3      0  0.108249  0.000154  0.057606  5.497009e-01  0.024520   \n",
       "3588      4      0  0.042891  0.001845  0.290667  1.342804e-04  0.507809   \n",
       "\n",
       "             5         6  \n",
       "0     0.000438  0.000739  \n",
       "1     0.002836  0.056367  \n",
       "2     0.001894  0.000702  \n",
       "3     0.001248  0.065468  \n",
       "4     0.139780  0.020239  \n",
       "5     0.001842  0.000262  \n",
       "6     0.001534  0.217536  \n",
       "8     0.145674  0.091627  \n",
       "12    0.003970  0.412958  \n",
       "13    0.002684  0.016653  \n",
       "14    0.003820  0.115906  \n",
       "15    0.000307  0.274201  \n",
       "16    0.124000  0.002795  \n",
       "18    0.018229  0.296578  \n",
       "19    0.010172  0.011580  \n",
       "21    0.000061  0.004074  \n",
       "22    0.000109  0.028970  \n",
       "23    0.000262  0.651220  \n",
       "25    0.112263  0.006896  \n",
       "27    0.008278  0.297537  \n",
       "28    0.000279  0.979967  \n",
       "29    0.097839  0.450409  \n",
       "30    0.002110  0.065554  \n",
       "31    0.002098  0.357999  \n",
       "32    0.002379  0.062527  \n",
       "33    0.018988  0.045136  \n",
       "34    0.000022  0.000117  \n",
       "35    0.000229  0.758034  \n",
       "37    0.000802  0.012249  \n",
       "38    0.003001  0.080821  \n",
       "...        ...       ...  \n",
       "3538  0.000144  0.080003  \n",
       "3540  0.005527  0.001361  \n",
       "3542  0.011176  0.263595  \n",
       "3543  0.003928  0.000898  \n",
       "3544  0.243311  0.420739  \n",
       "3546  0.007067  0.002197  \n",
       "3547  0.000079  0.012660  \n",
       "3550  0.066283  0.009168  \n",
       "3551  0.000248  0.000049  \n",
       "3553  0.022368  0.027201  \n",
       "3554  0.008789  0.608550  \n",
       "3555  0.000094  0.185558  \n",
       "3556  0.000849  0.009842  \n",
       "3557  0.000452  0.012926  \n",
       "3560  0.001201  0.005491  \n",
       "3561  0.325411  0.041277  \n",
       "3563  0.008357  0.750206  \n",
       "3564  0.187606  0.019713  \n",
       "3566  0.018024  0.037896  \n",
       "3570  0.004719  0.021492  \n",
       "3572  0.000609  0.000158  \n",
       "3573  0.009339  0.083549  \n",
       "3574  0.000329  0.738859  \n",
       "3575  0.000131  0.004308  \n",
       "3579  0.000317  0.041502  \n",
       "3581  0.001240  0.066634  \n",
       "3583  0.000003  0.003348  \n",
       "3584  0.000774  0.816219  \n",
       "3586  0.074275  0.185496  \n",
       "3588  0.002227  0.154426  \n",
       "\n",
       "[2283 rows x 9 columns]"
      ]
     },
     "execution_count": 141,
     "metadata": {},
     "output_type": "execute_result"
    }
   ],
   "source": [
    "dfP2 = dfP.loc[np.where(r1 == 2)[0]]\n",
    "dfP2"
   ]
  },
  {
   "cell_type": "code",
   "execution_count": 142,
   "metadata": {
    "scrolled": true
   },
   "outputs": [
    {
     "name": "stdout",
     "output_type": "stream",
     "text": [
      "2240/2283 [============================>.] - ETA: 0s"
     ]
    }
   ],
   "source": [
    "r2 = model07.predict_classes(X_test[np.where(r1 == 2)[0]])"
   ]
  },
  {
   "cell_type": "code",
   "execution_count": 143,
   "metadata": {
    "collapsed": true
   },
   "outputs": [],
   "source": [
    "pred2 = np.zeros(len(r2), dtype=int)\n",
    "pred2[r2 == 0] = 0\n",
    "pred2[r2 == 1] = 1\n",
    "pred2[r2 == 2] = 2\n",
    "pred2[r2 == 3] = 4\n",
    "pred2[r2 == 4] = 6"
   ]
  },
  {
   "cell_type": "code",
   "execution_count": 144,
   "metadata": {},
   "outputs": [
    {
     "name": "stderr",
     "output_type": "stream",
     "text": [
      "/usr/lib/python2.7/dist-packages/ipykernel_launcher.py:1: SettingWithCopyWarning: \n",
      "A value is trying to be set on a copy of a slice from a DataFrame\n",
      "\n",
      "See the caveats in the documentation: http://pandas.pydata.org/pandas-docs/stable/indexing.html#indexing-view-versus-copy\n",
      "  \"\"\"Entry point for launching an IPython kernel.\n"
     ]
    }
   ],
   "source": [
    "dfP['pred1'][dfP2.index] = pred2"
   ]
  },
  {
   "cell_type": "code",
   "execution_count": 138,
   "metadata": {
    "collapsed": true
   },
   "outputs": [],
   "source": [
    "dfRes0 = pd.DataFrame(dfP.pred0, columns=['pred0'])\n",
    "dfRes0['origin'] = test.emotion.values\n",
    "dfRes0['result'] = dfP.pred0 == test.emotion.values"
   ]
  },
  {
   "cell_type": "code",
   "execution_count": 145,
   "metadata": {
    "collapsed": true
   },
   "outputs": [],
   "source": [
    "dfRes1 = pd.DataFrame(dfP.pred1, columns=['pred1'])\n",
    "dfRes1['origin'] = test.emotion.values\n",
    "dfRes1['result'] = dfP.pred1 == test.emotion.values"
   ]
  },
  {
   "cell_type": "code",
   "execution_count": 146,
   "metadata": {},
   "outputs": [
    {
     "name": "stdout",
     "output_type": "stream",
     "text": [
      "acc0: 0.634995820563\n",
      "acc1: 0.624686542212\n"
     ]
    }
   ],
   "source": [
    "acc0 = float((dfRes0['result'] == True).sum()) / len(dfRes0['result'])\n",
    "acc1 = float((dfRes1['result'] == True).sum()) / len(dfRes1['result'])\n",
    "print('acc0: {}'.format(acc0))\n",
    "print('acc1: {}'.format(acc1))"
   ]
  },
  {
   "cell_type": "code",
   "execution_count": 148,
   "metadata": {
    "collapsed": true
   },
   "outputs": [],
   "source": [
    "dfRes_0 = dfRes1.loc[dfRes1['origin'] == 0]\n",
    "dfRes_1 = dfRes1.loc[dfRes1['origin'] == 1]\n",
    "dfRes_2 = dfRes1.loc[dfRes1['origin'] == 2]\n",
    "dfRes_3 = dfRes1.loc[dfRes1['origin'] == 3]\n",
    "dfRes_4 = dfRes1.loc[dfRes1['origin'] == 4]\n",
    "dfRes_5 = dfRes1.loc[dfRes1['origin'] == 5]\n",
    "dfRes_6 = dfRes1.loc[dfRes1['origin'] == 6]"
   ]
  },
  {
   "cell_type": "code",
   "execution_count": 149,
   "metadata": {
    "collapsed": true
   },
   "outputs": [],
   "source": [
    "acc0 = float((dfRes_0['result'] == True).sum()) / len(dfRes_0['result'])\n",
    "acc1 = float((dfRes_1['result'] == True).sum()) / len(dfRes_1['result'])\n",
    "acc2 = float((dfRes_2['result'] == True).sum()) / len(dfRes_2['result'])\n",
    "acc3 = float((dfRes_3['result'] == True).sum()) / len(dfRes_3['result'])\n",
    "acc4 = float((dfRes_4['result'] == True).sum()) / len(dfRes_4['result'])\n",
    "acc5 = float((dfRes_5['result'] == True).sum()) / len(dfRes_5['result'])\n",
    "acc6 = float((dfRes_6['result'] == True).sum()) / len(dfRes_6['result'])"
   ]
  },
  {
   "cell_type": "code",
   "execution_count": 154,
   "metadata": {
    "scrolled": true
   },
   "outputs": [
    {
     "data": {
      "image/png": "[encoded data removed]",
      "text/plain": [
       "<matplotlib.figure.Figure at 0x7f3824217190>"
      ]
     },
     "metadata": {},
     "output_type": "display_data"
    }
   ],
   "source": [
    "plt.figure(figsize=(15, 20))\n",
    "res = [dfRes_0, dfRes_1, dfRes_2, dfRes_3, dfRes_4, dfRes_5, dfRes_6]\n",
    "title = ['Angry', 'Disgust', 'Fear', 'Happy', 'Sad', 'Surprise', 'Neutral']\n",
    "acc_li = [acc0, acc1, acc2, acc3, acc4, acc5, acc6]\n",
    "x = [0, 1, 2, 3, 4, 5, 6]\n",
    "\n",
    "for i in range(len(res)):\n",
    "    plt.subplot(4, 2, (i+1))\n",
    "    y = []\n",
    "\n",
    "    for j in range(7):\n",
    "        y.append((res[i]['pred1'] == j).sum())\n",
    "        \n",
    "    plt.bar(left=x, height=y)\n",
    "    plt.xticks(x, ['Angry(0)', 'Disgust(1)', 'Fear(2)', 'Happy(3)', 'Sad(4)', 'Surprise(5)', 'Unpleasant(6)'])\n",
    "    plt.title('Predict({}): {}'.format(title[i], acc_li[i]))\n",
    "\n",
    "plt.show()"
   ]
  },
  {
   "cell_type": "markdown",
   "metadata": {
    "collapsed": true
   },
   "source": [
    "* ### Pipeline 7"
   ]
  },
  {
   "cell_type": "code",
   "execution_count": 52,
   "metadata": {
    "collapsed": true
   },
   "outputs": [],
   "source": [
    "model11 = keras.models.load_model(\"../models/face_M11.hdf5\") # 1st\n",
    "model1 = keras.models.load_model(\"../models/face_M_s1.hdf5\") # 2nd"
   ]
  },
  {
   "cell_type": "code",
   "execution_count": 53,
   "metadata": {},
   "outputs": [
    {
     "name": "stdout",
     "output_type": "stream",
     "text": [
      "3589/3589 [==============================] - 3s     \n"
     ]
    }
   ],
   "source": [
    "dfP = init_pred(X_test)"
   ]
  },
  {
   "cell_type": "code",
   "execution_count": 54,
   "metadata": {},
   "outputs": [
    {
     "name": "stdout",
     "output_type": "stream",
     "text": [
      "3584/3589 [============================>.] - ETA: 0s"
     ]
    }
   ],
   "source": [
    "r1 = model11.predict_classes(X_test)"
   ]
  },
  {
   "cell_type": "code",
   "execution_count": 55,
   "metadata": {
    "collapsed": true
   },
   "outputs": [],
   "source": [
    "pred1 = np.zeros(len(r1), dtype=int)\n",
    "pred1[r1 == 0] = 3\n",
    "pred1[r1 == 1] = 5"
   ]
  },
  {
   "cell_type": "code",
   "execution_count": 56,
   "metadata": {},
   "outputs": [
    {
     "data": {
      "text/plain": [
       "array([0, 0, 0, 0, 0, 0, 0, 3, 0, 3, 5, 3, 0, 0, 0, 0, 0, 5, 0, 0, 3, 0, 0,\n",
       "       0, 3, 0, 5, 0, 0, 0, 0, 0, 0, 0, 0, 0, 5, 0, 0, 0, 0, 0, 0, 0, 0, 0,\n",
       "       3, 0, 3, 3, 0, 0, 3, 0, 0, 0, 3, 0, 0, 0, 0, 5, 0, 0, 0, 0, 3, 5, 0,\n",
       "       0, 0, 0, 5, 0, 3, 0, 0, 0, 5, 0, 5, 3, 5, 0, 3, 0, 0, 0, 3, 3, 3, 5,\n",
       "       0, 0, 0, 0, 0, 5, 3, 0])"
      ]
     },
     "execution_count": 56,
     "metadata": {},
     "output_type": "execute_result"
    }
   ],
   "source": [
    "pred1[:100]"
   ]
  },
  {
   "cell_type": "code",
   "execution_count": 57,
   "metadata": {
    "collapsed": true
   },
   "outputs": [],
   "source": [
    "dfP['pred1'] = pred1"
   ]
  },
  {
   "cell_type": "code",
   "execution_count": 58,
   "metadata": {
    "collapsed": true,
    "scrolled": true
   },
   "outputs": [],
   "source": [
    "dfP2 = dfP.loc[np.where(r1 == 2)[0]]"
   ]
  },
  {
   "cell_type": "code",
   "execution_count": 59,
   "metadata": {},
   "outputs": [
    {
     "name": "stdout",
     "output_type": "stream",
     "text": [
      "2272/2283 [============================>.] - ETA: 0s"
     ]
    }
   ],
   "source": [
    "r2 = model1.predict_classes(X_test[np.where(r1 == 2)[0]])"
   ]
  },
  {
   "cell_type": "code",
   "execution_count": 60,
   "metadata": {
    "collapsed": true
   },
   "outputs": [],
   "source": [
    "pred2 = r2"
   ]
  },
  {
   "cell_type": "code",
   "execution_count": 61,
   "metadata": {},
   "outputs": [
    {
     "name": "stderr",
     "output_type": "stream",
     "text": [
      "/usr/lib/python2.7/dist-packages/ipykernel_launcher.py:1: SettingWithCopyWarning: \n",
      "A value is trying to be set on a copy of a slice from a DataFrame\n",
      "\n",
      "See the caveats in the documentation: http://pandas.pydata.org/pandas-docs/stable/indexing.html#indexing-view-versus-copy\n",
      "  \"\"\"Entry point for launching an IPython kernel.\n"
     ]
    }
   ],
   "source": [
    "dfP['pred1'][dfP2.index] = pred2"
   ]
  },
  {
   "cell_type": "code",
   "execution_count": 62,
   "metadata": {
    "collapsed": true
   },
   "outputs": [],
   "source": [
    "dfRes0 = pd.DataFrame(dfP.pred0, columns=['pred0'])\n",
    "dfRes0['origin'] = test.emotion.values\n",
    "dfRes0['result'] = dfP.pred0 == test.emotion.values"
   ]
  },
  {
   "cell_type": "code",
   "execution_count": 63,
   "metadata": {
    "collapsed": true
   },
   "outputs": [],
   "source": [
    "dfRes1 = pd.DataFrame(dfP.pred1, columns=['pred1'])\n",
    "dfRes1['origin'] = test.emotion.values\n",
    "dfRes1['result'] = dfP.pred1 == test.emotion.values"
   ]
  },
  {
   "cell_type": "code",
   "execution_count": 64,
   "metadata": {},
   "outputs": [
    {
     "name": "stdout",
     "output_type": "stream",
     "text": [
      "acc0: 0.634995820563\n",
      "acc1: 0.641125661744\n"
     ]
    }
   ],
   "source": [
    "acc0 = float((dfRes0['result'] == True).sum()) / len(dfRes0['result'])\n",
    "acc1 = float((dfRes1['result'] == True).sum()) / len(dfRes1['result'])\n",
    "print('acc0: {}'.format(acc0))\n",
    "print('acc1: {}'.format(acc1))"
   ]
  },
  {
   "cell_type": "code",
   "execution_count": 211,
   "metadata": {
    "collapsed": true
   },
   "outputs": [],
   "source": [
    "dfRes_0 = dfRes1.loc[dfRes1['origin'] == 0]\n",
    "dfRes_1 = dfRes1.loc[dfRes1['origin'] == 1]\n",
    "dfRes_2 = dfRes1.loc[dfRes1['origin'] == 2]\n",
    "dfRes_3 = dfRes1.loc[dfRes1['origin'] == 3]\n",
    "dfRes_4 = dfRes1.loc[dfRes1['origin'] == 4]\n",
    "dfRes_5 = dfRes1.loc[dfRes1['origin'] == 5]\n",
    "dfRes_6 = dfRes1.loc[dfRes1['origin'] == 6]"
   ]
  },
  {
   "cell_type": "code",
   "execution_count": 212,
   "metadata": {
    "collapsed": true
   },
   "outputs": [],
   "source": [
    "acc0 = float((dfRes_0['result'] == True).sum()) / len(dfRes_0['result'])\n",
    "acc1 = float((dfRes_1['result'] == True).sum()) / len(dfRes_1['result'])\n",
    "acc2 = float((dfRes_2['result'] == True).sum()) / len(dfRes_2['result'])\n",
    "acc3 = float((dfRes_3['result'] == True).sum()) / len(dfRes_3['result'])\n",
    "acc4 = float((dfRes_4['result'] == True).sum()) / len(dfRes_4['result'])\n",
    "acc5 = float((dfRes_5['result'] == True).sum()) / len(dfRes_5['result'])\n",
    "acc6 = float((dfRes_6['result'] == True).sum()) / len(dfRes_6['result'])"
   ]
  },
  {
   "cell_type": "code",
   "execution_count": 213,
   "metadata": {
    "scrolled": false
   },
   "outputs": [
    {
     "data": {
      "image/png": "[encoded data removed]",
      "text/plain": [
       "<matplotlib.figure.Figure at 0x7f380421a590>"
      ]
     },
     "metadata": {},
     "output_type": "display_data"
    }
   ],
   "source": [
    "plt.figure(figsize=(15, 20))\n",
    "res = [dfRes_0, dfRes_1, dfRes_2, dfRes_3, dfRes_4, dfRes_5, dfRes_6]\n",
    "title = ['Angry', 'Disgust', 'Fear', 'Happy', 'Sad', 'Surprise', 'Neutral']\n",
    "acc_li = [acc0, acc1, acc2, acc3, acc4, acc5, acc6]\n",
    "x = [0, 1, 2, 3, 4, 5, 6]\n",
    "\n",
    "for i in range(len(res)):\n",
    "    plt.subplot(4, 2, (i+1))\n",
    "    y = []\n",
    "\n",
    "    for j in range(7):\n",
    "        y.append((res[i]['pred1'] == j).sum())\n",
    "        \n",
    "    plt.bar(left=x, height=y)\n",
    "    plt.xticks(x, ['Angry(0)', 'Disgust(1)', 'Fear(2)', 'Happy(3)', 'Sad(4)', 'Surprise(5)', 'Unpleasant(6)'])\n",
    "    plt.title('Predict({}): {}'.format(title[i], acc_li[i]))\n",
    "\n",
    "plt.show()"
   ]
  },
  {
   "cell_type": "code",
   "execution_count": null,
   "metadata": {
    "collapsed": true
   },
   "outputs": [],
   "source": []
  }
 ],
 "metadata": {
  "kernelspec": {
   "display_name": "Python 2",
   "language": "python",
   "name": "python2"
  },
  "language_info": {
   "codemirror_mode": {
    "name": "ipython",
    "version": 2
   },
   "file_extension": ".py",
   "mimetype": "text/x-python",
   "name": "python",
   "nbconvert_exporter": "python",
   "pygments_lexer": "ipython2",
   "version": "2.7.12"
  }
 },
 "nbformat": 4,
 "nbformat_minor": 2
}
