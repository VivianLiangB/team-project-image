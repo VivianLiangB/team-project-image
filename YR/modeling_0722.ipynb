{
 "cells": [
  {
   "cell_type": "code",
   "execution_count": 1,
   "metadata": {},
   "outputs": [
    {
     "name": "stderr",
     "output_type": "stream",
     "text": [
      "Using TensorFlow backend.\n"
     ]
    }
   ],
   "source": [
    "import keras\n",
    "import tensorflow as tf\n",
    "from keras.models import Sequential\n",
    "from keras.layers import Conv1D, Conv2D, MaxPooling1D, MaxPooling2D, Flatten, Dense, Dropout\n",
    "from keras.regularizers import l2\n",
    "from keras.utils import np_utils\n",
    "from keras import optimizers\n",
    "from keras.preprocessing.image import ImageDataGenerator\n",
    "\n",
    "import numpy as np\n",
    "import pandas as pd\n",
    "from matplotlib import pyplot as plt"
   ]
  },
  {
   "cell_type": "code",
   "execution_count": 2,
   "metadata": {
    "collapsed": true
   },
   "outputs": [],
   "source": [
    "sess = tf.Session(config=tf.ConfigProto(log_device_placement=True))"
   ]
  },
  {
   "cell_type": "code",
   "execution_count": 3,
   "metadata": {},
   "outputs": [
    {
     "data": {
      "text/html": [
       "<div>\n",
       "<table border=\"1\" class=\"dataframe\">\n",
       "  <thead>\n",
       "    <tr style=\"text-align: right;\">\n",
       "      <th></th>\n",
       "      <th>emotion</th>\n",
       "      <th>pixels</th>\n",
       "      <th>Usage</th>\n",
       "    </tr>\n",
       "  </thead>\n",
       "  <tbody>\n",
       "    <tr>\n",
       "      <th>35882</th>\n",
       "      <td>6</td>\n",
       "      <td>50 36 17 22 23 29 33 39 34 37 37 37 39 43 48 5...</td>\n",
       "      <td>PrivateTest</td>\n",
       "    </tr>\n",
       "    <tr>\n",
       "      <th>35883</th>\n",
       "      <td>3</td>\n",
       "      <td>178 174 172 173 181 188 191 194 196 199 200 20...</td>\n",
       "      <td>PrivateTest</td>\n",
       "    </tr>\n",
       "    <tr>\n",
       "      <th>35884</th>\n",
       "      <td>0</td>\n",
       "      <td>17 17 16 23 28 22 19 17 25 26 20 24 31 19 27 9...</td>\n",
       "      <td>PrivateTest</td>\n",
       "    </tr>\n",
       "    <tr>\n",
       "      <th>35885</th>\n",
       "      <td>3</td>\n",
       "      <td>30 28 28 29 31 30 42 68 79 81 77 67 67 71 63 6...</td>\n",
       "      <td>PrivateTest</td>\n",
       "    </tr>\n",
       "    <tr>\n",
       "      <th>35886</th>\n",
       "      <td>2</td>\n",
       "      <td>19 13 14 12 13 16 21 33 50 57 71 84 97 108 122...</td>\n",
       "      <td>PrivateTest</td>\n",
       "    </tr>\n",
       "  </tbody>\n",
       "</table>\n",
       "</div>"
      ],
      "text/plain": [
       "       emotion                                             pixels        Usage\n",
       "35882        6  50 36 17 22 23 29 33 39 34 37 37 37 39 43 48 5...  PrivateTest\n",
       "35883        3  178 174 172 173 181 188 191 194 196 199 200 20...  PrivateTest\n",
       "35884        0  17 17 16 23 28 22 19 17 25 26 20 24 31 19 27 9...  PrivateTest\n",
       "35885        3  30 28 28 29 31 30 42 68 79 81 77 67 67 71 63 6...  PrivateTest\n",
       "35886        2  19 13 14 12 13 16 21 33 50 57 71 84 97 108 122...  PrivateTest"
      ]
     },
     "execution_count": 3,
     "metadata": {},
     "output_type": "execute_result"
    }
   ],
   "source": [
    "df = pd.read_csv('../dataset/face/fer2013.csv')\n",
    "df.tail()"
   ]
  },
  {
   "cell_type": "code",
   "execution_count": 4,
   "metadata": {
    "collapsed": true
   },
   "outputs": [],
   "source": [
    "train = df[df.Usage == 'Training']\n",
    "test = df[df.Usage == 'PrivateTest']\n",
    "val = df[df.Usage == 'PublicTest']"
   ]
  },
  {
   "cell_type": "code",
   "execution_count": 5,
   "metadata": {},
   "outputs": [
    {
     "name": "stdout",
     "output_type": "stream",
     "text": [
      "train: 28709\n",
      "test: 3589\n",
      "validation: 3589\n"
     ]
    }
   ],
   "source": [
    "print('train: {}'.format(len(train)))\n",
    "print('test: {}'.format(len(test)))\n",
    "print('validation: {}'.format(len(val)))"
   ]
  },
  {
   "cell_type": "code",
   "execution_count": 6,
   "metadata": {
    "scrolled": true
   },
   "outputs": [
    {
     "data": {
      "text/html": [
       "<div>\n",
       "<table border=\"1\" class=\"dataframe\">\n",
       "  <thead>\n",
       "    <tr style=\"text-align: right;\">\n",
       "      <th></th>\n",
       "      <th>emotion</th>\n",
       "      <th>pixels</th>\n",
       "      <th>Usage</th>\n",
       "    </tr>\n",
       "  </thead>\n",
       "  <tbody>\n",
       "    <tr>\n",
       "      <th>0</th>\n",
       "      <td>0</td>\n",
       "      <td>70 80 82 72 58 58 60 63 54 58 60 48 89 115 121...</td>\n",
       "      <td>Training</td>\n",
       "    </tr>\n",
       "    <tr>\n",
       "      <th>1</th>\n",
       "      <td>0</td>\n",
       "      <td>151 150 147 155 148 133 111 140 170 174 182 15...</td>\n",
       "      <td>Training</td>\n",
       "    </tr>\n",
       "    <tr>\n",
       "      <th>2</th>\n",
       "      <td>2</td>\n",
       "      <td>231 212 156 164 174 138 161 173 182 200 106 38...</td>\n",
       "      <td>Training</td>\n",
       "    </tr>\n",
       "    <tr>\n",
       "      <th>3</th>\n",
       "      <td>4</td>\n",
       "      <td>24 32 36 30 32 23 19 20 30 41 21 22 32 34 21 1...</td>\n",
       "      <td>Training</td>\n",
       "    </tr>\n",
       "    <tr>\n",
       "      <th>4</th>\n",
       "      <td>6</td>\n",
       "      <td>4 0 0 0 0 0 0 0 0 0 0 0 3 15 23 28 48 50 58 84...</td>\n",
       "      <td>Training</td>\n",
       "    </tr>\n",
       "    <tr>\n",
       "      <th>5</th>\n",
       "      <td>2</td>\n",
       "      <td>55 55 55 55 55 54 60 68 54 85 151 163 170 179 ...</td>\n",
       "      <td>Training</td>\n",
       "    </tr>\n",
       "    <tr>\n",
       "      <th>6</th>\n",
       "      <td>4</td>\n",
       "      <td>20 17 19 21 25 38 42 42 46 54 56 62 63 66 82 1...</td>\n",
       "      <td>Training</td>\n",
       "    </tr>\n",
       "    <tr>\n",
       "      <th>7</th>\n",
       "      <td>3</td>\n",
       "      <td>77 78 79 79 78 75 60 55 47 48 58 73 77 79 57 5...</td>\n",
       "      <td>Training</td>\n",
       "    </tr>\n",
       "    <tr>\n",
       "      <th>8</th>\n",
       "      <td>3</td>\n",
       "      <td>85 84 90 121 101 102 133 153 153 169 177 189 1...</td>\n",
       "      <td>Training</td>\n",
       "    </tr>\n",
       "    <tr>\n",
       "      <th>9</th>\n",
       "      <td>2</td>\n",
       "      <td>255 254 255 254 254 179 122 107 95 124 149 150...</td>\n",
       "      <td>Training</td>\n",
       "    </tr>\n",
       "    <tr>\n",
       "      <th>10</th>\n",
       "      <td>0</td>\n",
       "      <td>30 24 21 23 25 25 49 67 84 103 120 125 130 139...</td>\n",
       "      <td>Training</td>\n",
       "    </tr>\n",
       "    <tr>\n",
       "      <th>11</th>\n",
       "      <td>6</td>\n",
       "      <td>39 75 78 58 58 45 49 48 103 156 81 45 41 38 49...</td>\n",
       "      <td>Training</td>\n",
       "    </tr>\n",
       "    <tr>\n",
       "      <th>12</th>\n",
       "      <td>6</td>\n",
       "      <td>219 213 206 202 209 217 216 215 219 218 223 23...</td>\n",
       "      <td>Training</td>\n",
       "    </tr>\n",
       "    <tr>\n",
       "      <th>13</th>\n",
       "      <td>6</td>\n",
       "      <td>148 144 130 129 119 122 129 131 139 153 140 12...</td>\n",
       "      <td>Training</td>\n",
       "    </tr>\n",
       "    <tr>\n",
       "      <th>14</th>\n",
       "      <td>3</td>\n",
       "      <td>4 2 13 41 56 62 67 87 95 62 65 70 80 107 127 1...</td>\n",
       "      <td>Training</td>\n",
       "    </tr>\n",
       "    <tr>\n",
       "      <th>15</th>\n",
       "      <td>5</td>\n",
       "      <td>107 107 109 109 109 109 110 101 123 140 144 14...</td>\n",
       "      <td>Training</td>\n",
       "    </tr>\n",
       "    <tr>\n",
       "      <th>16</th>\n",
       "      <td>3</td>\n",
       "      <td>14 14 18 28 27 22 21 30 42 61 77 86 88 95 100 ...</td>\n",
       "      <td>Training</td>\n",
       "    </tr>\n",
       "    <tr>\n",
       "      <th>17</th>\n",
       "      <td>2</td>\n",
       "      <td>255 255 255 255 255 255 255 255 255 255 255 25...</td>\n",
       "      <td>Training</td>\n",
       "    </tr>\n",
       "    <tr>\n",
       "      <th>18</th>\n",
       "      <td>6</td>\n",
       "      <td>134 124 167 180 197 194 203 210 204 203 209 20...</td>\n",
       "      <td>Training</td>\n",
       "    </tr>\n",
       "    <tr>\n",
       "      <th>19</th>\n",
       "      <td>4</td>\n",
       "      <td>219 192 179 148 208 254 192 98 121 103 145 185...</td>\n",
       "      <td>Training</td>\n",
       "    </tr>\n",
       "    <tr>\n",
       "      <th>20</th>\n",
       "      <td>4</td>\n",
       "      <td>1 1 1 1 1 1 1 1 1 1 1 1 2 2 2 2 7 12 23 45 38 ...</td>\n",
       "      <td>Training</td>\n",
       "    </tr>\n",
       "    <tr>\n",
       "      <th>21</th>\n",
       "      <td>2</td>\n",
       "      <td>174 51 37 37 38 41 22 25 22 24 35 51 70 83 98 ...</td>\n",
       "      <td>Training</td>\n",
       "    </tr>\n",
       "    <tr>\n",
       "      <th>22</th>\n",
       "      <td>0</td>\n",
       "      <td>123 125 124 142 209 226 234 236 231 232 235 22...</td>\n",
       "      <td>Training</td>\n",
       "    </tr>\n",
       "    <tr>\n",
       "      <th>23</th>\n",
       "      <td>0</td>\n",
       "      <td>8 9 14 21 26 32 37 46 52 62 72 70 71 73 76 83 ...</td>\n",
       "      <td>Training</td>\n",
       "    </tr>\n",
       "    <tr>\n",
       "      <th>24</th>\n",
       "      <td>3</td>\n",
       "      <td>252 250 246 229 182 140 98 72 53 44 67 95 95 8...</td>\n",
       "      <td>Training</td>\n",
       "    </tr>\n",
       "    <tr>\n",
       "      <th>25</th>\n",
       "      <td>3</td>\n",
       "      <td>224 227 219 217 215 210 187 177 189 200 206 21...</td>\n",
       "      <td>Training</td>\n",
       "    </tr>\n",
       "    <tr>\n",
       "      <th>26</th>\n",
       "      <td>5</td>\n",
       "      <td>162 200 187 180 197 198 196 192 176 152 136 11...</td>\n",
       "      <td>Training</td>\n",
       "    </tr>\n",
       "    <tr>\n",
       "      <th>27</th>\n",
       "      <td>0</td>\n",
       "      <td>236 230 225 226 228 209 199 193 196 211 199 19...</td>\n",
       "      <td>Training</td>\n",
       "    </tr>\n",
       "    <tr>\n",
       "      <th>28</th>\n",
       "      <td>3</td>\n",
       "      <td>210 210 210 210 211 207 147 103 68 60 47 70 12...</td>\n",
       "      <td>Training</td>\n",
       "    </tr>\n",
       "    <tr>\n",
       "      <th>29</th>\n",
       "      <td>5</td>\n",
       "      <td>50 44 74 141 187 187 169 113 80 128 181 172 76...</td>\n",
       "      <td>Training</td>\n",
       "    </tr>\n",
       "    <tr>\n",
       "      <th>...</th>\n",
       "      <td>...</td>\n",
       "      <td>...</td>\n",
       "      <td>...</td>\n",
       "    </tr>\n",
       "    <tr>\n",
       "      <th>28679</th>\n",
       "      <td>6</td>\n",
       "      <td>39 39 39 39 38 30 41 63 105 117 84 97 101 75 5...</td>\n",
       "      <td>Training</td>\n",
       "    </tr>\n",
       "    <tr>\n",
       "      <th>28680</th>\n",
       "      <td>4</td>\n",
       "      <td>137 146 153 157 164 166 169 172 177 176 176 17...</td>\n",
       "      <td>Training</td>\n",
       "    </tr>\n",
       "    <tr>\n",
       "      <th>28681</th>\n",
       "      <td>6</td>\n",
       "      <td>208 207 205 206 207 207 210 211 210 207 211 21...</td>\n",
       "      <td>Training</td>\n",
       "    </tr>\n",
       "    <tr>\n",
       "      <th>28682</th>\n",
       "      <td>2</td>\n",
       "      <td>10 10 10 10 10 10 10 10 10 10 12 2 45 117 122 ...</td>\n",
       "      <td>Training</td>\n",
       "    </tr>\n",
       "    <tr>\n",
       "      <th>28683</th>\n",
       "      <td>4</td>\n",
       "      <td>178 142 131 130 145 152 125 92 115 142 149 158...</td>\n",
       "      <td>Training</td>\n",
       "    </tr>\n",
       "    <tr>\n",
       "      <th>28684</th>\n",
       "      <td>3</td>\n",
       "      <td>80 94 86 71 98 74 46 67 105 71 63 76 51 53 80 ...</td>\n",
       "      <td>Training</td>\n",
       "    </tr>\n",
       "    <tr>\n",
       "      <th>28685</th>\n",
       "      <td>4</td>\n",
       "      <td>94 92 91 92 93 93 92 92 90 90 61 41 34 37 52 6...</td>\n",
       "      <td>Training</td>\n",
       "    </tr>\n",
       "    <tr>\n",
       "      <th>28686</th>\n",
       "      <td>0</td>\n",
       "      <td>178 184 187 195 199 194 197 205 202 194 201 20...</td>\n",
       "      <td>Training</td>\n",
       "    </tr>\n",
       "    <tr>\n",
       "      <th>28687</th>\n",
       "      <td>3</td>\n",
       "      <td>114 100 121 166 185 175 160 174 195 205 216 22...</td>\n",
       "      <td>Training</td>\n",
       "    </tr>\n",
       "    <tr>\n",
       "      <th>28688</th>\n",
       "      <td>3</td>\n",
       "      <td>30 47 52 25 29 48 46 41 70 63 66 49 37 41 35 3...</td>\n",
       "      <td>Training</td>\n",
       "    </tr>\n",
       "    <tr>\n",
       "      <th>28689</th>\n",
       "      <td>3</td>\n",
       "      <td>181 178 179 171 78 51 56 46 48 50 54 54 68 96 ...</td>\n",
       "      <td>Training</td>\n",
       "    </tr>\n",
       "    <tr>\n",
       "      <th>28690</th>\n",
       "      <td>2</td>\n",
       "      <td>186 182 173 164 164 177 91 45 66 72 79 79 85 1...</td>\n",
       "      <td>Training</td>\n",
       "    </tr>\n",
       "    <tr>\n",
       "      <th>28691</th>\n",
       "      <td>4</td>\n",
       "      <td>255 255 255 255 255 255 255 255 255 255 255 25...</td>\n",
       "      <td>Training</td>\n",
       "    </tr>\n",
       "    <tr>\n",
       "      <th>28692</th>\n",
       "      <td>3</td>\n",
       "      <td>99 103 106 109 112 113 115 118 120 121 115 83 ...</td>\n",
       "      <td>Training</td>\n",
       "    </tr>\n",
       "    <tr>\n",
       "      <th>28693</th>\n",
       "      <td>6</td>\n",
       "      <td>216 219 216 209 181 104 128 129 134 136 135 14...</td>\n",
       "      <td>Training</td>\n",
       "    </tr>\n",
       "    <tr>\n",
       "      <th>28694</th>\n",
       "      <td>3</td>\n",
       "      <td>159 195 167 158 152 150 149 154 154 151 149 14...</td>\n",
       "      <td>Training</td>\n",
       "    </tr>\n",
       "    <tr>\n",
       "      <th>28695</th>\n",
       "      <td>2</td>\n",
       "      <td>84 96 110 132 165 183 175 154 116 95 75 67 63 ...</td>\n",
       "      <td>Training</td>\n",
       "    </tr>\n",
       "    <tr>\n",
       "      <th>28696</th>\n",
       "      <td>4</td>\n",
       "      <td>0 0 1 1 7 35 76 87 86 90 87 83 89 92 92 93 98 ...</td>\n",
       "      <td>Training</td>\n",
       "    </tr>\n",
       "    <tr>\n",
       "      <th>28697</th>\n",
       "      <td>3</td>\n",
       "      <td>181 172 161 144 116 109 70 109 187 131 67 30 2...</td>\n",
       "      <td>Training</td>\n",
       "    </tr>\n",
       "    <tr>\n",
       "      <th>28698</th>\n",
       "      <td>3</td>\n",
       "      <td>35 45 69 79 75 48 45 35 56 93 71 51 48 47 46 4...</td>\n",
       "      <td>Training</td>\n",
       "    </tr>\n",
       "    <tr>\n",
       "      <th>28699</th>\n",
       "      <td>6</td>\n",
       "      <td>128 134 164 94 70 114 159 138 75 47 89 127 134...</td>\n",
       "      <td>Training</td>\n",
       "    </tr>\n",
       "    <tr>\n",
       "      <th>28700</th>\n",
       "      <td>4</td>\n",
       "      <td>11 10 12 13 9 11 10 11 11 10 10 13 11 10 11 10...</td>\n",
       "      <td>Training</td>\n",
       "    </tr>\n",
       "    <tr>\n",
       "      <th>28701</th>\n",
       "      <td>2</td>\n",
       "      <td>34 42 47 34 53 41 33 39 42 38 40 44 41 42 42 4...</td>\n",
       "      <td>Training</td>\n",
       "    </tr>\n",
       "    <tr>\n",
       "      <th>28702</th>\n",
       "      <td>0</td>\n",
       "      <td>196 194 188 177 156 124 81 60 65 64 84 119 114...</td>\n",
       "      <td>Training</td>\n",
       "    </tr>\n",
       "    <tr>\n",
       "      <th>28703</th>\n",
       "      <td>5</td>\n",
       "      <td>255 255 255 255 255 255 255 203 145 147 143 14...</td>\n",
       "      <td>Training</td>\n",
       "    </tr>\n",
       "    <tr>\n",
       "      <th>28704</th>\n",
       "      <td>2</td>\n",
       "      <td>84 85 85 85 85 85 85 85 86 86 86 87 86 86 91 9...</td>\n",
       "      <td>Training</td>\n",
       "    </tr>\n",
       "    <tr>\n",
       "      <th>28705</th>\n",
       "      <td>0</td>\n",
       "      <td>114 112 113 113 111 111 112 113 115 113 114 11...</td>\n",
       "      <td>Training</td>\n",
       "    </tr>\n",
       "    <tr>\n",
       "      <th>28706</th>\n",
       "      <td>4</td>\n",
       "      <td>74 81 87 89 95 100 98 93 105 120 127 133 146 1...</td>\n",
       "      <td>Training</td>\n",
       "    </tr>\n",
       "    <tr>\n",
       "      <th>28707</th>\n",
       "      <td>0</td>\n",
       "      <td>222 227 203 90 86 90 84 77 94 87 99 119 134 14...</td>\n",
       "      <td>Training</td>\n",
       "    </tr>\n",
       "    <tr>\n",
       "      <th>28708</th>\n",
       "      <td>4</td>\n",
       "      <td>195 199 205 206 205 203 206 209 208 210 212 21...</td>\n",
       "      <td>Training</td>\n",
       "    </tr>\n",
       "  </tbody>\n",
       "</table>\n",
       "<p>28709 rows × 3 columns</p>\n",
       "</div>"
      ],
      "text/plain": [
       "       emotion                                             pixels     Usage\n",
       "0            0  70 80 82 72 58 58 60 63 54 58 60 48 89 115 121...  Training\n",
       "1            0  151 150 147 155 148 133 111 140 170 174 182 15...  Training\n",
       "2            2  231 212 156 164 174 138 161 173 182 200 106 38...  Training\n",
       "3            4  24 32 36 30 32 23 19 20 30 41 21 22 32 34 21 1...  Training\n",
       "4            6  4 0 0 0 0 0 0 0 0 0 0 0 3 15 23 28 48 50 58 84...  Training\n",
       "5            2  55 55 55 55 55 54 60 68 54 85 151 163 170 179 ...  Training\n",
       "6            4  20 17 19 21 25 38 42 42 46 54 56 62 63 66 82 1...  Training\n",
       "7            3  77 78 79 79 78 75 60 55 47 48 58 73 77 79 57 5...  Training\n",
       "8            3  85 84 90 121 101 102 133 153 153 169 177 189 1...  Training\n",
       "9            2  255 254 255 254 254 179 122 107 95 124 149 150...  Training\n",
       "10           0  30 24 21 23 25 25 49 67 84 103 120 125 130 139...  Training\n",
       "11           6  39 75 78 58 58 45 49 48 103 156 81 45 41 38 49...  Training\n",
       "12           6  219 213 206 202 209 217 216 215 219 218 223 23...  Training\n",
       "13           6  148 144 130 129 119 122 129 131 139 153 140 12...  Training\n",
       "14           3  4 2 13 41 56 62 67 87 95 62 65 70 80 107 127 1...  Training\n",
       "15           5  107 107 109 109 109 109 110 101 123 140 144 14...  Training\n",
       "16           3  14 14 18 28 27 22 21 30 42 61 77 86 88 95 100 ...  Training\n",
       "17           2  255 255 255 255 255 255 255 255 255 255 255 25...  Training\n",
       "18           6  134 124 167 180 197 194 203 210 204 203 209 20...  Training\n",
       "19           4  219 192 179 148 208 254 192 98 121 103 145 185...  Training\n",
       "20           4  1 1 1 1 1 1 1 1 1 1 1 1 2 2 2 2 7 12 23 45 38 ...  Training\n",
       "21           2  174 51 37 37 38 41 22 25 22 24 35 51 70 83 98 ...  Training\n",
       "22           0  123 125 124 142 209 226 234 236 231 232 235 22...  Training\n",
       "23           0  8 9 14 21 26 32 37 46 52 62 72 70 71 73 76 83 ...  Training\n",
       "24           3  252 250 246 229 182 140 98 72 53 44 67 95 95 8...  Training\n",
       "25           3  224 227 219 217 215 210 187 177 189 200 206 21...  Training\n",
       "26           5  162 200 187 180 197 198 196 192 176 152 136 11...  Training\n",
       "27           0  236 230 225 226 228 209 199 193 196 211 199 19...  Training\n",
       "28           3  210 210 210 210 211 207 147 103 68 60 47 70 12...  Training\n",
       "29           5  50 44 74 141 187 187 169 113 80 128 181 172 76...  Training\n",
       "...        ...                                                ...       ...\n",
       "28679        6  39 39 39 39 38 30 41 63 105 117 84 97 101 75 5...  Training\n",
       "28680        4  137 146 153 157 164 166 169 172 177 176 176 17...  Training\n",
       "28681        6  208 207 205 206 207 207 210 211 210 207 211 21...  Training\n",
       "28682        2  10 10 10 10 10 10 10 10 10 10 12 2 45 117 122 ...  Training\n",
       "28683        4  178 142 131 130 145 152 125 92 115 142 149 158...  Training\n",
       "28684        3  80 94 86 71 98 74 46 67 105 71 63 76 51 53 80 ...  Training\n",
       "28685        4  94 92 91 92 93 93 92 92 90 90 61 41 34 37 52 6...  Training\n",
       "28686        0  178 184 187 195 199 194 197 205 202 194 201 20...  Training\n",
       "28687        3  114 100 121 166 185 175 160 174 195 205 216 22...  Training\n",
       "28688        3  30 47 52 25 29 48 46 41 70 63 66 49 37 41 35 3...  Training\n",
       "28689        3  181 178 179 171 78 51 56 46 48 50 54 54 68 96 ...  Training\n",
       "28690        2  186 182 173 164 164 177 91 45 66 72 79 79 85 1...  Training\n",
       "28691        4  255 255 255 255 255 255 255 255 255 255 255 25...  Training\n",
       "28692        3  99 103 106 109 112 113 115 118 120 121 115 83 ...  Training\n",
       "28693        6  216 219 216 209 181 104 128 129 134 136 135 14...  Training\n",
       "28694        3  159 195 167 158 152 150 149 154 154 151 149 14...  Training\n",
       "28695        2  84 96 110 132 165 183 175 154 116 95 75 67 63 ...  Training\n",
       "28696        4  0 0 1 1 7 35 76 87 86 90 87 83 89 92 92 93 98 ...  Training\n",
       "28697        3  181 172 161 144 116 109 70 109 187 131 67 30 2...  Training\n",
       "28698        3  35 45 69 79 75 48 45 35 56 93 71 51 48 47 46 4...  Training\n",
       "28699        6  128 134 164 94 70 114 159 138 75 47 89 127 134...  Training\n",
       "28700        4  11 10 12 13 9 11 10 11 11 10 10 13 11 10 11 10...  Training\n",
       "28701        2  34 42 47 34 53 41 33 39 42 38 40 44 41 42 42 4...  Training\n",
       "28702        0  196 194 188 177 156 124 81 60 65 64 84 119 114...  Training\n",
       "28703        5  255 255 255 255 255 255 255 203 145 147 143 14...  Training\n",
       "28704        2  84 85 85 85 85 85 85 85 86 86 86 87 86 86 91 9...  Training\n",
       "28705        0  114 112 113 113 111 111 112 113 115 113 114 11...  Training\n",
       "28706        4  74 81 87 89 95 100 98 93 105 120 127 133 146 1...  Training\n",
       "28707        0  222 227 203 90 86 90 84 77 94 87 99 119 134 14...  Training\n",
       "28708        4  195 199 205 206 205 203 206 209 208 210 212 21...  Training\n",
       "\n",
       "[28709 rows x 3 columns]"
      ]
     },
     "execution_count": 6,
     "metadata": {},
     "output_type": "execute_result"
    }
   ],
   "source": [
    "train"
   ]
  },
  {
   "cell_type": "markdown",
   "metadata": {},
   "source": [
    "# Build X sets"
   ]
  },
  {
   "cell_type": "code",
   "execution_count": 11,
   "metadata": {
    "collapsed": true
   },
   "outputs": [],
   "source": [
    "def build_X(data):\n",
    "    res = np.zeros((len(data), 48, 48, 1)).astype('float32')\n",
    "\n",
    "    for i in range(len(data)):\n",
    "        pixl = data.iloc[i,:].pixels.split(' ')\n",
    "        pixels = np.array(pixl).astype('float32') / 255.\n",
    "        pixels = pixels.reshape(48, 48, 1)\n",
    "        res[i] = pixels\n",
    "    \n",
    "    return res"
   ]
  },
  {
   "cell_type": "code",
   "execution_count": 12,
   "metadata": {
    "collapsed": true
   },
   "outputs": [],
   "source": [
    "X_train = build_X(train)\n",
    "X_test = build_X(test)\n",
    "X_val = build_X(val)"
   ]
  },
  {
   "cell_type": "code",
   "execution_count": 13,
   "metadata": {},
   "outputs": [
    {
     "data": {
      "image/png": "[encoded data removed]",
      "text/plain": [
       "<matplotlib.figure.Figure at 0x7f4cbc252490>"
      ]
     },
     "metadata": {},
     "output_type": "display_data"
    }
   ],
   "source": [
    "plt.imshow(X_train[0].reshape((48, 48)), cmap='gray')\n",
    "plt.show()"
   ]
  },
  {
   "cell_type": "markdown",
   "metadata": {},
   "source": [
    "# Build Y sets\n",
    "(0=Angry, 1=Disgust, 2=Fear, 3=Happy, 4=Sad, 5=Surprise, 6=Neutral)."
   ]
  },
  {
   "cell_type": "code",
   "execution_count": 14,
   "metadata": {
    "collapsed": true
   },
   "outputs": [],
   "source": [
    "# One Hot Encoding 7 categories\n",
    "Y_train = np_utils.to_categorical(train.emotion.values, 7)\n",
    "Y_test = np_utils.to_categorical(test.emotion.values, 7)\n",
    "Y_val = np_utils.to_categorical(val.emotion.values, 7)"
   ]
  },
  {
   "cell_type": "code",
   "execution_count": 20,
   "metadata": {},
   "outputs": [
    {
     "data": {
      "text/plain": [
       "array([[ 1.,  0.,  0.,  0.,  0.,  0.,  0.],\n",
       "       [ 1.,  0.,  0.,  0.,  0.,  0.,  0.],\n",
       "       [ 0.,  0.,  1.,  0.,  0.,  0.,  0.]])"
      ]
     },
     "execution_count": 20,
     "metadata": {},
     "output_type": "execute_result"
    }
   ],
   "source": [
    "Y_train[:3]"
   ]
  },
  {
   "cell_type": "markdown",
   "metadata": {},
   "source": [
    "# M1"
   ]
  },
  {
   "cell_type": "code",
   "execution_count": 130,
   "metadata": {
    "collapsed": true
   },
   "outputs": [],
   "source": [
    "np.random.seed(0)\n",
    "\n",
    "model = Sequential()\n",
    "\n",
    "model.add(Conv2D(64, (5, 5), activation='relu', input_shape=(48, 48, 1), padding='same', kernel_regularizer=l2(0.001)))\n",
    "model.add(Conv2D(64, (5, 5), activation='relu', padding='same'))\n",
    "model.add(MaxPooling2D())\n",
    "model.add(Dropout(0.3))\n",
    "\n",
    "model.add(Conv2D(128, (5, 5), activation='relu', padding='same', kernel_regularizer=l2(0.001)))\n",
    "model.add(Conv2D(128, (5, 5), activation='relu', padding='same', kernel_regularizer=l2(0.001)))\n",
    "model.add(MaxPooling2D())\n",
    "model.add(Dropout(0.4))\n",
    "\n",
    "model.add(Conv2D(256, (5, 5), activation='relu', padding='same', kernel_regularizer=l2(0.001)))\n",
    "model.add(Conv2D(256, (5, 5), activation='relu', padding='same', kernel_regularizer=l2(0.001)))\n",
    "model.add(MaxPooling2D())\n",
    "model.add(Dropout(0.4))\n",
    "\n",
    "model.add(Flatten())\n",
    "model.add(Dense(512, activation='relu', kernel_regularizer=l2(0.001)))\n",
    "model.add(Dropout(0.5))\n",
    "model.add(Dense(7, activation='softmax'))\n",
    "\n",
    "opt = optimizers.Adadelta()\n",
    "model.compile(loss='categorical_crossentropy', optimizer=opt, metrics=['accuracy'])"
   ]
  },
  {
   "cell_type": "markdown",
   "metadata": {},
   "source": [
    "# M1_Training"
   ]
  },
  {
   "cell_type": "code",
   "execution_count": 131,
   "metadata": {
    "scrolled": true
   },
   "outputs": [
    {
     "name": "stdout",
     "output_type": "stream",
     "text": [
      "Train on 28709 samples, validate on 3589 samples\n",
      "Epoch 1/40\n",
      "61s - loss: 2.8632 - acc: 0.2446 - val_loss: 2.4441 - val_acc: 0.2449\n",
      "Epoch 2/40\n",
      "60s - loss: 2.1294 - acc: 0.2774 - val_loss: 2.3716 - val_acc: 0.1836\n",
      "Epoch 3/40\n",
      "60s - loss: 1.7662 - acc: 0.3735 - val_loss: 1.8586 - val_acc: 0.3059\n",
      "Epoch 4/40\n",
      "60s - loss: 1.5747 - acc: 0.4338 - val_loss: 1.5322 - val_acc: 0.4575\n",
      "Epoch 5/40\n",
      "60s - loss: 1.4761 - acc: 0.4742 - val_loss: 1.5101 - val_acc: 0.4753\n",
      "Epoch 6/40\n",
      "60s - loss: 1.4090 - acc: 0.5018 - val_loss: 1.3886 - val_acc: 0.5138\n",
      "Epoch 7/40\n",
      "60s - loss: 1.3700 - acc: 0.5206 - val_loss: 1.4147 - val_acc: 0.5065\n",
      "Epoch 8/40\n",
      "60s - loss: 1.3399 - acc: 0.5396 - val_loss: 1.4848 - val_acc: 0.4684\n",
      "Epoch 9/40\n",
      "60s - loss: 1.3100 - acc: 0.5579 - val_loss: 1.5549 - val_acc: 0.4436\n",
      "Epoch 10/40\n",
      "60s - loss: 1.2878 - acc: 0.5678 - val_loss: 1.3540 - val_acc: 0.5341\n",
      "Epoch 11/40\n",
      "60s - loss: 1.2712 - acc: 0.5809 - val_loss: 1.3291 - val_acc: 0.5698\n",
      "Epoch 12/40\n",
      "60s - loss: 1.2540 - acc: 0.5916 - val_loss: 1.5300 - val_acc: 0.4678\n",
      "Epoch 13/40\n",
      "60s - loss: 1.2379 - acc: 0.6007 - val_loss: 1.3155 - val_acc: 0.5639\n",
      "Epoch 14/40\n",
      "60s - loss: 1.2189 - acc: 0.6072 - val_loss: 1.3249 - val_acc: 0.5709\n",
      "Epoch 15/40\n",
      "60s - loss: 1.2062 - acc: 0.6176 - val_loss: 1.6314 - val_acc: 0.4374\n",
      "Epoch 16/40\n",
      "60s - loss: 1.1952 - acc: 0.6234 - val_loss: 1.3513 - val_acc: 0.5712\n",
      "Epoch 17/40\n",
      "60s - loss: 1.1838 - acc: 0.6331 - val_loss: 1.7168 - val_acc: 0.4742\n",
      "Epoch 18/40\n",
      "60s - loss: 1.1702 - acc: 0.6422 - val_loss: 1.3190 - val_acc: 0.5776\n",
      "Epoch 19/40\n",
      "60s - loss: 1.1590 - acc: 0.6477 - val_loss: 1.3470 - val_acc: 0.5712\n",
      "Epoch 20/40\n",
      "60s - loss: 1.1439 - acc: 0.6562 - val_loss: 1.2933 - val_acc: 0.6186\n",
      "Epoch 21/40\n",
      "60s - loss: 1.1352 - acc: 0.6622 - val_loss: 1.4077 - val_acc: 0.5567\n",
      "Epoch 22/40\n",
      "60s - loss: 1.1264 - acc: 0.6682 - val_loss: 1.4464 - val_acc: 0.5419\n",
      "Epoch 23/40\n",
      "60s - loss: 1.1106 - acc: 0.6791 - val_loss: 1.2749 - val_acc: 0.6286\n",
      "Epoch 24/40\n",
      "60s - loss: 1.1050 - acc: 0.6843 - val_loss: 1.4025 - val_acc: 0.5860\n",
      "Epoch 25/40\n",
      "60s - loss: 1.0981 - acc: 0.6864 - val_loss: 1.3883 - val_acc: 0.5968\n",
      "Epoch 26/40\n",
      "60s - loss: 1.0821 - acc: 0.6950 - val_loss: 1.4507 - val_acc: 0.5620\n",
      "Epoch 27/40\n",
      "60s - loss: 1.0710 - acc: 0.7043 - val_loss: 1.4025 - val_acc: 0.5999\n",
      "Epoch 28/40\n",
      "60s - loss: 1.0626 - acc: 0.7111 - val_loss: 1.4462 - val_acc: 0.6016\n",
      "Epoch 29/40\n",
      "60s - loss: 1.0508 - acc: 0.7158 - val_loss: 1.4591 - val_acc: 0.5743\n",
      "Epoch 30/40\n",
      "60s - loss: 1.0355 - acc: 0.7239 - val_loss: 1.3861 - val_acc: 0.6294\n",
      "Epoch 31/40\n",
      "60s - loss: 1.0252 - acc: 0.7315 - val_loss: 1.5955 - val_acc: 0.5821\n",
      "Epoch 32/40\n",
      "60s - loss: 1.0185 - acc: 0.7371 - val_loss: 1.3954 - val_acc: 0.5965\n",
      "Epoch 33/40\n",
      "60s - loss: 1.0056 - acc: 0.7468 - val_loss: 1.6061 - val_acc: 0.5472\n",
      "Epoch 34/40\n",
      "60s - loss: 0.9971 - acc: 0.7518 - val_loss: 1.3511 - val_acc: 0.6372\n",
      "Epoch 35/40\n",
      "60s - loss: 0.9900 - acc: 0.7536 - val_loss: 1.4757 - val_acc: 0.6233\n",
      "Epoch 36/40\n",
      "60s - loss: 0.9820 - acc: 0.7642 - val_loss: 1.3721 - val_acc: 0.6344\n",
      "Epoch 37/40\n",
      "60s - loss: 0.9701 - acc: 0.7686 - val_loss: 1.6150 - val_acc: 0.5971\n",
      "Epoch 38/40\n",
      "60s - loss: 0.9616 - acc: 0.7762 - val_loss: 1.5256 - val_acc: 0.6461\n",
      "Epoch 39/40\n",
      "60s - loss: 0.9563 - acc: 0.7794 - val_loss: 1.3931 - val_acc: 0.6333\n",
      "Epoch 40/40\n",
      "60s - loss: 0.9482 - acc: 0.7865 - val_loss: 1.5268 - val_acc: 0.6325\n",
      "CPU times: user 26min 30s, sys: 3min 3s, total: 29min 34s\n",
      "Wall time: 40min 10s\n"
     ]
    }
   ],
   "source": [
    "%%time\n",
    "hist = model.fit(X_train, Y_train, epochs=40, batch_size=100, validation_data=(X_test, Y_test), verbose=2)"
   ]
  },
  {
   "cell_type": "code",
   "execution_count": 132,
   "metadata": {},
   "outputs": [
    {
     "data": {
      "image/png": "[encoded data removed]",
      "text/plain": [
       "<matplotlib.figure.Figure at 0x7f573b2be250>"
      ]
     },
     "metadata": {},
     "output_type": "display_data"
    }
   ],
   "source": [
    "plt.plot(hist.history[\"acc\"])\n",
    "plt.plot(hist.history[\"val_acc\"])\n",
    "plt.show()"
   ]
  },
  {
   "cell_type": "code",
   "execution_count": 133,
   "metadata": {
    "collapsed": true
   },
   "outputs": [],
   "source": [
    "model.save(\"face_M01.hdf5\")"
   ]
  },
  {
   "cell_type": "markdown",
   "metadata": {},
   "source": [
    " "
   ]
  },
  {
   "cell_type": "code",
   "execution_count": 18,
   "metadata": {
    "scrolled": false
   },
   "outputs": [
    {
     "data": {
      "image/png": "[encoded data removed]",
      "text/plain": [
       "<matplotlib.figure.Figure at 0x7f4c906ec950>"
      ]
     },
     "metadata": {},
     "output_type": "display_data"
    }
   ],
   "source": [
    "plt.subplot(241)\n",
    "plt.imshow(X_train[0].reshape((48, 48)), cmap='gray')\n",
    "plt.grid(False)\n",
    "plt.subplot(242)\n",
    "plt.imshow(X_train[1].reshape((48, 48)), cmap='gray')\n",
    "plt.grid(False)\n",
    "plt.subplot(243)\n",
    "plt.imshow(X_train[2].reshape((48, 48)), cmap='gray')\n",
    "plt.grid(False)\n",
    "plt.subplot(244)\n",
    "plt.imshow(X_train[3].reshape((48, 48)), cmap='gray')\n",
    "plt.grid(False)\n",
    "plt.subplot(245)\n",
    "plt.imshow(X_train[9].reshape((48, 48)), cmap='gray')\n",
    "plt.grid(False)\n",
    "plt.subplot(246)\n",
    "plt.imshow(X_train[10].reshape((48, 48)), cmap='gray')\n",
    "plt.grid(False)\n",
    "plt.subplot(247)\n",
    "plt.imshow(X_train[11].reshape((48, 48)), cmap='gray')\n",
    "plt.grid(False)\n",
    "plt.subplot(248)\n",
    "plt.imshow(X_train[12].reshape((48, 48)), cmap='gray')\n",
    "plt.grid(False)\n",
    "\n",
    "plt.show()"
   ]
  },
  {
   "cell_type": "code",
   "execution_count": 30,
   "metadata": {},
   "outputs": [
    {
     "data": {
      "image/png": "[encoded data removed]",
      "text/plain": [
       "<matplotlib.figure.Figure at 0x7f4c90701650>"
      ]
     },
     "metadata": {},
     "output_type": "display_data"
    }
   ],
   "source": [
    "plt.subplot(241)\n",
    "plt.imshow(X_test[0].reshape((48, 48)), cmap='gray')\n",
    "plt.grid(False)\n",
    "plt.subplot(242)\n",
    "plt.imshow(X_test[1].reshape((48, 48)), cmap='gray')\n",
    "plt.grid(False)\n",
    "plt.subplot(243)\n",
    "plt.imshow(X_test[2].reshape((48, 48)), cmap='gray')\n",
    "plt.grid(False)\n",
    "plt.subplot(244)\n",
    "plt.imshow(X_test[3].reshape((48, 48)), cmap='gray')\n",
    "plt.grid(False)\n",
    "plt.subplot(245)\n",
    "plt.imshow(X_test[4].reshape((48, 48)), cmap='gray')\n",
    "plt.grid(False)\n",
    "plt.subplot(246)\n",
    "plt.imshow(X_test[5].reshape((48, 48)), cmap='gray')\n",
    "plt.grid(False)\n",
    "plt.subplot(247)\n",
    "plt.imshow(X_test[6].reshape((48, 48)), cmap='gray')\n",
    "plt.grid(False)\n",
    "plt.subplot(248)\n",
    "plt.imshow(X_test[7].reshape((48, 48)), cmap='gray')\n",
    "plt.grid(False)\n",
    "\n",
    "plt.show()"
   ]
  },
  {
   "cell_type": "markdown",
   "metadata": {},
   "source": [
    "* Implication\n",
    "> Train and test dataset have the variations of angle and part of faces repectively"
   ]
  },
  {
   "cell_type": "markdown",
   "metadata": {},
   "source": [
    "* Idea\n",
    "> Try to augment train dataset to cover the variations of samples"
   ]
  },
  {
   "cell_type": "markdown",
   "metadata": {
    "collapsed": true
   },
   "source": [
    "# M2"
   ]
  },
  {
   "cell_type": "code",
   "execution_count": 33,
   "metadata": {
    "collapsed": true
   },
   "outputs": [],
   "source": [
    "np.random.seed(0)\n",
    "\n",
    "model = Sequential()\n",
    "\n",
    "model.add(Conv2D(64, (5, 5), activation='relu', input_shape=(48, 48, 1), padding='same', kernel_regularizer=l2(0.001)))\n",
    "model.add(Conv2D(64, (5, 5), activation='relu', padding='same'))\n",
    "model.add(MaxPooling2D())\n",
    "model.add(Dropout(0.3))\n",
    "\n",
    "model.add(Conv2D(128, (5, 5), activation='relu', padding='same', kernel_regularizer=l2(0.001)))\n",
    "model.add(Conv2D(128, (5, 5), activation='relu', padding='same', kernel_regularizer=l2(0.001)))\n",
    "model.add(MaxPooling2D())\n",
    "model.add(Dropout(0.4))\n",
    "\n",
    "model.add(Conv2D(256, (5, 5), activation='relu', padding='same', kernel_regularizer=l2(0.001)))\n",
    "model.add(Conv2D(256, (5, 5), activation='relu', padding='same', kernel_regularizer=l2(0.001)))\n",
    "model.add(MaxPooling2D())\n",
    "model.add(Dropout(0.4))\n",
    "\n",
    "model.add(Flatten())\n",
    "model.add(Dense(512, activation='relu', kernel_regularizer=l2(0.001)))\n",
    "model.add(Dropout(0.5))\n",
    "model.add(Dense(7, activation='softmax'))\n",
    "\n",
    "opt = optimizers.Adadelta()\n",
    "model.compile(loss='categorical_crossentropy', optimizer=opt, metrics=['accuracy'])"
   ]
  },
  {
   "cell_type": "markdown",
   "metadata": {},
   "source": [
    "# M2_Training"
   ]
  },
  {
   "cell_type": "code",
   "execution_count": 34,
   "metadata": {},
   "outputs": [],
   "source": [
    "# data augmentation\n",
    "datagen = ImageDataGenerator(width_shift_range=0.2, height_shift_range=0.2, zoom_range=0.1, rotation_range=20, fill_mode='nearest')\n",
    "datagen.fit(X_train)"
   ]
  },
  {
   "cell_type": "code",
   "execution_count": 37,
   "metadata": {
    "scrolled": true
   },
   "outputs": [
    {
     "name": "stdout",
     "output_type": "stream",
     "text": [
      "Epoch 1/50\n",
      "59s - loss: 1.8310 - acc: 0.2535 - val_loss: 1.8128 - val_acc: 0.2527\n",
      "Epoch 2/50\n",
      "59s - loss: 1.8037 - acc: 0.2621 - val_loss: 1.7697 - val_acc: 0.2694\n",
      "Epoch 3/50\n",
      "59s - loss: 1.7812 - acc: 0.2713 - val_loss: 1.7808 - val_acc: 0.2561\n",
      "Epoch 4/50\n",
      "59s - loss: 1.7621 - acc: 0.2865 - val_loss: 1.7240 - val_acc: 0.3165\n",
      "Epoch 5/50\n",
      "59s - loss: 1.7461 - acc: 0.2983 - val_loss: 1.6902 - val_acc: 0.3396\n",
      "Epoch 6/50\n",
      "59s - loss: 1.7274 - acc: 0.3183 - val_loss: 1.6410 - val_acc: 0.3661\n",
      "Epoch 7/50\n",
      "59s - loss: 1.6896 - acc: 0.3488 - val_loss: 1.5601 - val_acc: 0.4193\n",
      "Epoch 8/50\n",
      "59s - loss: 1.6510 - acc: 0.3716 - val_loss: 1.5015 - val_acc: 0.4514\n",
      "Epoch 9/50\n",
      "59s - loss: 1.6075 - acc: 0.3989 - val_loss: 1.5302 - val_acc: 0.4244\n",
      "Epoch 10/50\n",
      "59s - loss: 1.5653 - acc: 0.4250 - val_loss: 1.4166 - val_acc: 0.4845\n",
      "Epoch 11/50\n",
      "59s - loss: 1.5272 - acc: 0.4409 - val_loss: 1.3784 - val_acc: 0.4999\n",
      "Epoch 12/50\n",
      "59s - loss: 1.4921 - acc: 0.4563 - val_loss: 1.3609 - val_acc: 0.5063\n",
      "Epoch 13/50\n",
      "59s - loss: 1.4687 - acc: 0.4736 - val_loss: 1.3589 - val_acc: 0.5180\n",
      "Epoch 14/50\n",
      "59s - loss: 1.4501 - acc: 0.4815 - val_loss: 1.4300 - val_acc: 0.5004\n",
      "Epoch 15/50\n",
      "59s - loss: 1.4275 - acc: 0.4972 - val_loss: 1.2831 - val_acc: 0.5570\n",
      "Epoch 16/50\n",
      "59s - loss: 1.4158 - acc: 0.5046 - val_loss: 1.3253 - val_acc: 0.5183\n",
      "Epoch 17/50\n",
      "59s - loss: 1.3894 - acc: 0.5136 - val_loss: 1.2508 - val_acc: 0.5704\n",
      "Epoch 18/50\n",
      "59s - loss: 1.3836 - acc: 0.5198 - val_loss: 1.2598 - val_acc: 0.5681\n",
      "Epoch 19/50\n",
      "59s - loss: 1.3764 - acc: 0.5226 - val_loss: 1.2448 - val_acc: 0.5829\n",
      "Epoch 20/50\n",
      "59s - loss: 1.3640 - acc: 0.5293 - val_loss: 1.2679 - val_acc: 0.5464\n",
      "Epoch 21/50\n",
      "59s - loss: 1.3540 - acc: 0.5343 - val_loss: 1.2050 - val_acc: 0.5935\n",
      "Epoch 22/50\n",
      "59s - loss: 1.3436 - acc: 0.5408 - val_loss: 1.2862 - val_acc: 0.5539\n",
      "Epoch 23/50\n",
      "59s - loss: 1.3334 - acc: 0.5476 - val_loss: 1.2013 - val_acc: 0.5843\n",
      "Epoch 24/50\n",
      "59s - loss: 1.3324 - acc: 0.5482 - val_loss: 1.2037 - val_acc: 0.5879\n",
      "Epoch 25/50\n",
      "59s - loss: 1.3178 - acc: 0.5511 - val_loss: 1.1993 - val_acc: 0.5860\n",
      "Epoch 26/50\n",
      "59s - loss: 1.3169 - acc: 0.5526 - val_loss: 1.2620 - val_acc: 0.5659\n",
      "Epoch 27/50\n",
      "59s - loss: 1.3084 - acc: 0.5585 - val_loss: 1.2167 - val_acc: 0.5812\n",
      "Epoch 28/50\n",
      "59s - loss: 1.3055 - acc: 0.5626 - val_loss: 1.2336 - val_acc: 0.5720\n",
      "Epoch 29/50\n",
      "59s - loss: 1.2995 - acc: 0.5640 - val_loss: 1.1702 - val_acc: 0.6066\n",
      "Epoch 30/50\n",
      "59s - loss: 1.2911 - acc: 0.5679 - val_loss: 1.1726 - val_acc: 0.6035\n",
      "Epoch 31/50\n",
      "59s - loss: 1.2924 - acc: 0.5698 - val_loss: 1.1948 - val_acc: 0.5977\n",
      "Epoch 32/50\n",
      "59s - loss: 1.2795 - acc: 0.5759 - val_loss: 1.1789 - val_acc: 0.6080\n",
      "Epoch 33/50\n",
      "59s - loss: 1.2769 - acc: 0.5778 - val_loss: 1.1462 - val_acc: 0.6096\n",
      "Epoch 34/50\n",
      "59s - loss: 1.2740 - acc: 0.5774 - val_loss: 1.1807 - val_acc: 0.6074\n",
      "Epoch 35/50\n",
      "59s - loss: 1.2629 - acc: 0.5795 - val_loss: 1.1593 - val_acc: 0.6102\n",
      "Epoch 36/50\n",
      "59s - loss: 1.2681 - acc: 0.5805 - val_loss: 1.1600 - val_acc: 0.6127\n",
      "Epoch 37/50\n",
      "59s - loss: 1.2620 - acc: 0.5837 - val_loss: 1.1376 - val_acc: 0.6216\n",
      "Epoch 38/50\n",
      "59s - loss: 1.2640 - acc: 0.5818 - val_loss: 1.2197 - val_acc: 0.6052\n",
      "Epoch 39/50\n",
      "59s - loss: 1.2546 - acc: 0.5901 - val_loss: 1.1637 - val_acc: 0.6186\n",
      "Epoch 40/50\n",
      "59s - loss: 1.2414 - acc: 0.5939 - val_loss: 1.1419 - val_acc: 0.6278\n",
      "Epoch 41/50\n",
      "59s - loss: 1.2444 - acc: 0.5901 - val_loss: 1.1433 - val_acc: 0.6319\n",
      "Epoch 42/50\n",
      "59s - loss: 1.2423 - acc: 0.5953 - val_loss: 1.1699 - val_acc: 0.6163\n",
      "Epoch 43/50\n",
      "59s - loss: 1.2427 - acc: 0.5954 - val_loss: 1.1545 - val_acc: 0.6236\n",
      "Epoch 44/50\n",
      "59s - loss: 1.2404 - acc: 0.5930 - val_loss: 1.1344 - val_acc: 0.6356\n",
      "Epoch 45/50\n",
      "59s - loss: 1.2305 - acc: 0.5999 - val_loss: 1.2046 - val_acc: 0.6016\n",
      "Epoch 46/50\n",
      "59s - loss: 1.2291 - acc: 0.5981 - val_loss: 1.1311 - val_acc: 0.6280\n",
      "Epoch 47/50\n",
      "59s - loss: 1.2331 - acc: 0.5994 - val_loss: 1.1362 - val_acc: 0.6325\n",
      "Epoch 48/50\n",
      "59s - loss: 1.2213 - acc: 0.6046 - val_loss: 1.1493 - val_acc: 0.6269\n",
      "Epoch 49/50\n",
      "59s - loss: 1.2201 - acc: 0.6044 - val_loss: 1.1897 - val_acc: 0.6291\n",
      "Epoch 50/50\n",
      "59s - loss: 1.2252 - acc: 0.6031 - val_loss: 1.1996 - val_acc: 0.6169\n",
      "CPU times: user 37min 47s, sys: 3min 34s, total: 41min 21s\n",
      "Wall time: 49min 33s\n"
     ]
    }
   ],
   "source": [
    "%%time\n",
    "hist = model.fit_generator(datagen.flow(X_train, Y_train, batch_size=100),\n",
    "                    steps_per_epoch=len(X_train) / 100, epochs=50, validation_data=(X_test, Y_test), verbose=2)"
   ]
  },
  {
   "cell_type": "code",
   "execution_count": 73,
   "metadata": {
    "collapsed": true
   },
   "outputs": [],
   "source": [
    "model.save(\"face_M02.hdf5\")"
   ]
  },
  {
   "cell_type": "code",
   "execution_count": 71,
   "metadata": {},
   "outputs": [
    {
     "data": {
      "image/png": "[encoded data removed]",
      "text/plain": [
       "<matplotlib.figure.Figure at 0x7f4c64585150>"
      ]
     },
     "metadata": {},
     "output_type": "display_data"
    }
   ],
   "source": [
    "fig = plt.figure(figsize=(10, 4))\n",
    "\n",
    "ax1 = fig.add_subplot(1, 2, 1)\n",
    "ax1.plot(hist.history[\"acc\"], label='train_acc')\n",
    "ax1.plot(hist.history[\"val_acc\"], label='test_acc')\n",
    "ax1.set_ylabel('accuracy')\n",
    "ax1.legend(loc='center right')\n",
    "\n",
    "ax2 = fig.add_subplot(1, 2, 2)\n",
    "ax2.plot(hist.history[\"loss\"], label='train_loss')\n",
    "ax2.plot(hist.history[\"val_loss\"], label='test_loss')\n",
    "ax2.set_ylabel('loss')\n",
    "ax2.legend(loc='center right')\n",
    "\n",
    "fig.tight_layout()\n",
    "plt.show()"
   ]
  },
  {
   "cell_type": "markdown",
   "metadata": {},
   "source": [
    "* Result\n",
    "> test accuracy were not improved at this try.  \n",
    "> *** discovery: *** test accuracy getting above the train accuracy w/ data augmentation"
   ]
  },
  {
   "cell_type": "markdown",
   "metadata": {},
   "source": [
    "* Idea\n",
    "> It seems that augmentation parameters were not properly set  \n",
    "> Inspect each datasets with eyes again and get implications again how to do the next try with train data augmentation technique"
   ]
  },
  {
   "cell_type": "code",
   "execution_count": null,
   "metadata": {
    "collapsed": true
   },
   "outputs": [],
   "source": []
  }
 ],
 "metadata": {
  "kernelspec": {
   "display_name": "Python 2",
   "language": "python",
   "name": "python2"
  },
  "language_info": {
   "codemirror_mode": {
    "name": "ipython",
    "version": 2
   },
   "file_extension": ".py",
   "mimetype": "text/x-python",
   "name": "python",
   "nbconvert_exporter": "python",
   "pygments_lexer": "ipython2",
   "version": "2.7.12"
  }
 },
 "nbformat": 4,
 "nbformat_minor": 2
}
