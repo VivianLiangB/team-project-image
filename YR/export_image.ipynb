{
 "cells": [
  {
   "cell_type": "code",
   "execution_count": 1,
   "metadata": {
    "collapsed": true
   },
   "outputs": [],
   "source": [
    "from scipy.misc import imsave\n",
    "import numpy as np\n",
    "import pandas as pd\n",
    "from matplotlib import pyplot as plt"
   ]
  },
  {
   "cell_type": "code",
   "execution_count": 2,
   "metadata": {
    "collapsed": true
   },
   "outputs": [],
   "source": [
    "def build_imgarr(data):\n",
    "    res = np.zeros((len(data), 48, 48)).astype('float32')\n",
    "\n",
    "    for i in range(len(data)):\n",
    "        pixl = data.iloc[i,:].pixels.split(' ')\n",
    "        pixels = np.array(pixl)\n",
    "        pixels = pixels.reshape(48, 48)\n",
    "        res[i] = pixels\n",
    "    \n",
    "    return res"
   ]
  },
  {
   "cell_type": "code",
   "execution_count": 3,
   "metadata": {
    "collapsed": true
   },
   "outputs": [],
   "source": [
    "df = pd.read_csv(' ') # write your path in ' ' to read csv file\n",
    "\n",
    "train = df[df.Usage == 'Training']\n",
    "test = df[df.Usage == 'PrivateTest']\n",
    "val = df[df.Usage == 'PublicTest']\n",
    "\n",
    "X_train = build_imgarr(train)\n",
    "X_test = build_imgarr(test)\n",
    "X_val = build_imgarr(val)"
   ]
  },
  {
   "cell_type": "markdown",
   "metadata": {},
   "source": [
    "(0=Angry, 1=Disgust, 2=Fear, 3=Happy, 4=Sad, 5=Surprise, 6=Neutral)."
   ]
  },
  {
   "cell_type": "code",
   "execution_count": 6,
   "metadata": {},
   "outputs": [
    {
     "name": "stdout",
     "output_type": "stream",
     "text": [
      "CPU times: user 2.11 s, sys: 596 ms, total: 2.7 s\n",
      "Wall time: 3.13 s\n"
     ]
    }
   ],
   "source": [
    "%%time\n",
    "\n",
    "target = val # choose one of train, test and val\n",
    "path = ' ' # write your path in ' ' to export png files\n",
    "\n",
    "for i in range(len(target)):\n",
    "    label = ''\n",
    "    if target.emotion.values[i] == 0:\n",
    "        label = 'Angry'\n",
    "    elif target.emotion.values[i] == 1:\n",
    "        label = 'Disgust'\n",
    "    elif target.emotion.values[i] == 2:\n",
    "        label = 'Fear'\n",
    "    elif target.emotion.values[i] == 3:\n",
    "        label = 'Happy'\n",
    "    elif target.emotion.values[i] == 4:\n",
    "        label = 'Sad'\n",
    "    elif target.emotion.values[i] == 5:\n",
    "        label = 'Surprise'\n",
    "    elif target.emotion.values[i] == 6:\n",
    "        label = 'Neutral'\n",
    "    \n",
    "    imsave(path + '{}_{}.png'.format(i, label), X_val[i])"
   ]
  },
  {
   "cell_type": "code",
   "execution_count": null,
   "metadata": {
    "collapsed": true
   },
   "outputs": [],
   "source": []
  }
 ],
 "metadata": {
  "kernelspec": {
   "display_name": "Python 3",
   "language": "python",
   "name": "python3"
  },
  "language_info": {
   "codemirror_mode": {
    "name": "ipython",
    "version": 3
   },
   "file_extension": ".py",
   "mimetype": "text/x-python",
   "name": "python",
   "nbconvert_exporter": "python",
   "pygments_lexer": "ipython3",
   "version": "3.6.1"
  }
 },
 "nbformat": 4,
 "nbformat_minor": 2
}
