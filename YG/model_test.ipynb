{
 "cells": [
  {
   "cell_type": "code",
   "execution_count": 1,
   "metadata": {},
   "outputs": [
    {
     "name": "stderr",
     "output_type": "stream",
     "text": [
      "/usr/local/lib64/python2.7/site-packages/statsmodels/compat/pandas.py:56: FutureWarning: The pandas.core.datetools module is deprecated and will be removed in a future version. Please use the pandas.tseries module instead.\n",
      "  from pandas.core import datetools\n",
      "Using TensorFlow backend.\n"
     ]
    }
   ],
   "source": [
    "%run ~/Normal_for_DSS.py"
   ]
  },
  {
   "cell_type": "code",
   "execution_count": 4,
   "metadata": {
    "collapsed": true
   },
   "outputs": [],
   "source": [
    "from keras.models import load_model\n",
    "from keras.utils import np_utils\n",
    "\n",
    "#read all.csv and treat!!\n",
    "df = pd.read_csv(\"/home/ec2-user/datas/all.csv\")\n",
    "df.drop('Unnamed: 0', axis=1, inplace=True) # 쓸데없는 컬럼 drop\n",
    "df_train = df[df.Usage == 'Training'] # Training이라고 라벨되어있는 항목만 가져오기\n",
    "X_train = np.array(df_train.iloc[:, 2:]).astype('float32') / 255. # float 타입 변경, scaling\n",
    "X_train = X_train.reshape(28709, 48, 48, 1) # 입력형태에 맞게 reshape\n",
    "y_train = np.array(df_train.iloc[:, 0]) # y는 1차원이고 카테고리값이라 scaling 필요없음\n",
    "\n",
    "\n",
    "df_test = df[df.Usage == 'PrivateTest'] # 교차검증용 테스트셋\n",
    "X_test = np.array(df_test.iloc[:, 2:]).astype('float32') / 255.\n",
    "X_test = X_test.reshape(3589, 48, 48, 1)\n",
    "y_test = np.array(df_test.iloc[:, 0])\n",
    "Y_train = np_utils.to_categorical(y_train, 7) # 원핫인코딩\n",
    "Y_test = np_utils.to_categorical(y_test, 7)\n",
    "\n",
    "#for the public tsstset\n",
    "df_pubtest = df[df.Usage == \"PublicTest\"]\n",
    "X_pubtest = np.array(df_pubtest.iloc[:,2:]).astype(\"float32\") / 255.\n",
    "X_pubtest = X_pubtest.reshape(-1,48,48,1)\n",
    "y_pubtest = np.array(df_pubtest.iloc[:,0])\n",
    "Y_pubtrain = np_utils.to_categorical(y_train,7)\n",
    "Y_pubtest = np_utils.to_categorical(y_pubtest,7)"
   ]
  },
  {
   "cell_type": "code",
   "execution_count": 6,
   "metadata": {},
   "outputs": [
    {
     "name": "stdout",
     "output_type": "stream",
     "text": [
      "3589/3589 [==============================] - 1s     \n"
     ]
    },
    {
     "data": {
      "text/plain": [
       "'\\nthere`sf two test file X_test is private test set, X_pubtest is public test set.\\n'"
      ]
     },
     "execution_count": 6,
     "metadata": {},
     "output_type": "execute_result"
    }
   ],
   "source": [
    "\"\"\"important!!! put your model here\"\"\"\n",
    "\"\"\"important!!! put your model here\"\"\"\n",
    "\"\"\"important!!! put your model here\"\"\"\n",
    "\"\"\"important!!! put your model here\"\"\"\n",
    "\n",
    "#put your model here\n",
    "model = load_model(\"/home/ec2-user/image/basic_diff_seed.hdf5\")\n",
    "\n",
    "# do predict!!\n",
    "pred_y = model.predict_classes(X_test)\n",
    "\"\"\"\n",
    "there`sf two test file X_test is private test set, X_pubtest is public test set.\n",
    "\"\"\"\n"
   ]
  },
  {
   "cell_type": "code",
   "execution_count": 7,
   "metadata": {},
   "outputs": [],
   "source": [
    "\"\"\" using data set ;; 나중에 함수안으로 옮길듯;;\"\"\"\n",
    "\n",
    "\n",
    "# make dataframe and values!!\n",
    "# Tr => list of true index , Fa => list of False index , Al = all index\n",
    "fin = pd.DataFrame({\"pred_y\":pred_y,\"test_y\":y_test,\"ind\":range(len(pred_y))})\n",
    "\n",
    "T = fin.pred_y == fin.test_y\n",
    "F = fin.pred_y != fin.test_y\n",
    "\n",
    "fin_g = fin.ind.groupby([fin.pred_y, fin.test_y]).count().unstack()\n",
    "fin_g = fin_g.fillna(0)\n",
    "\n",
    "fin_gn = pd.get_dummies(fin_g)\n",
    "\n",
    "for i in range(7):\n",
    "    fin_gn.iloc[:,i] = fin_g.iloc[:,i]/fin_g.iloc[:,i].sum()\n",
    "fin_g.iloc[:,:].sum(axis=1)\n",
    "\n",
    "fin_gd = pd.DataFrame([0,0,0,0,0,0,0])\n",
    "for i in range(7):\n",
    "    fin_gd.iloc[i] = fin_g.iloc[i,i]\n",
    "\n",
    "fin_gg = pd.get_dummies(fin_g)\n",
    "for i in range(7):\n",
    "    fin_gg.iloc[i,i] = 0"
   ]
  },
  {
   "cell_type": "code",
   "execution_count": 63,
   "metadata": {
    "collapsed": true
   },
   "outputs": [],
   "source": [
    "def draw_tf():\n",
    "    plt.figure(figsize=(30,4))\n",
    "    a = np.ones(len(fin))\n",
    "    a[fin.pred_y != fin.test_y] = 0\n",
    "    c = np.vstack((a,a,a,a,a))\n",
    "    d = np.vstack((c,c,c,c))\n",
    "    e = np.vstack((d,d,d,d,d,d,d,d,d))\n",
    "    print(b)\n",
    "    plt.imshow(e, cmap=\"hot\")\n",
    "    plt.show()"
   ]
  },
  {
   "cell_type": "code",
   "execution_count": 64,
   "metadata": {},
   "outputs": [
    {
     "name": "stdout",
     "output_type": "stream",
     "text": [
      "[ 1.  1.  1. ...,  1.  1.  1.]\n"
     ]
    },
    {
     "data": {
      "image/png": "[encoded data removed]",
      "text/plain": [
       "<matplotlib.figure.Figure at 0x7fcd56c985d0>"
      ]
     },
     "metadata": {},
     "output_type": "display_data"
    }
   ],
   "source": [
    "draw_tf()"
   ]
  },
  {
   "cell_type": "code",
   "execution_count": null,
   "metadata": {},
   "outputs": [],
   "source": []
  },
  {
   "cell_type": "code",
   "execution_count": 62,
   "metadata": {},
   "outputs": [],
   "source": []
  },
  {
   "cell_type": "code",
   "execution_count": null,
   "metadata": {},
   "outputs": [],
   "source": []
  },
  {
   "cell_type": "code",
   "execution_count": 24,
   "metadata": {},
   "outputs": [],
   "source": []
  },
  {
   "cell_type": "code",
   "execution_count": null,
   "metadata": {},
   "outputs": [],
   "source": []
  },
  {
   "cell_type": "code",
   "execution_count": null,
   "metadata": {
    "collapsed": true
   },
   "outputs": [],
   "source": []
  }
 ],
 "metadata": {
  "kernelspec": {
   "display_name": "Python 2",
   "language": "python",
   "name": "python2"
  },
  "language_info": {
   "codemirror_mode": {
    "name": "ipython",
    "version": 2
   },
   "file_extension": ".py",
   "mimetype": "text/x-python",
   "name": "python",
   "nbconvert_exporter": "python",
   "pygments_lexer": "ipython2",
   "version": "2.7.12"
  }
 },
 "nbformat": 4,
 "nbformat_minor": 2
}
