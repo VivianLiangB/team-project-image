{
 "cells": [
  {
   "cell_type": "code",
   "execution_count": 1,
   "metadata": {
    "scrolled": true
   },
   "outputs": [
    {
     "name": "stderr",
     "output_type": "stream",
     "text": [
      "C:\\ProgramData\\Anaconda3\\lib\\site-packages\\statsmodels\\compat\\pandas.py:56: FutureWarning: The pandas.core.datetools module is deprecated and will be removed in a future version. Please use the pandas.tseries module instead.\n",
      "  from pandas.core import datetools\n",
      "Using TensorFlow backend.\n"
     ]
    }
   ],
   "source": [
    "#load package.\n",
    "\n",
    "import skimage as ski\n",
    "\n",
    "%run c://Users/a/apython/__init__/Normal_for_DSS.py  #It`s my import file.\n"
   ]
  },
  {
   "cell_type": "code",
   "execution_count": null,
   "metadata": {
    "collapsed": true
   },
   "outputs": [],
   "source": [
    "from skimage.filters import roberts, sobel, scharr, prewitt"
   ]
  },
  {
   "cell_type": "code",
   "execution_count": null,
   "metadata": {
    "collapsed": true
   },
   "outputs": [],
   "source": [
    "# load file\n",
    "A = pd.read_csv(\"/home/ec2-user/datas/all.csv\")\n",
    "\n",
    "# select image file part and make np.array\n",
    "A_ar = np.array(A.iloc[0:,3:])\n",
    "# print(A_ar.shape)  #see the shpae!!\n",
    "\n",
    "#reshape and change to float type.\n",
    "B_ar = A_ar.reshape (35887,48,48)\n",
    "B_arn = B_ar/255.0\n",
    "\n",
    "\n",
    "#make other information DataFrame to merge after transform ended\n",
    "B_ind = A.iloc[0:,0:3]\n",
    "\n"
   ]
  },
  {
   "cell_type": "code",
   "execution_count": null,
   "metadata": {
    "collapsed": true
   },
   "outputs": [],
   "source": [
    "# using for , do transition\n",
    "%time\n",
    "C = roberts(B_arn[0]) # test\n",
    "D = roberts(B_arn[0]).reshape(2304)\n",
    "\n",
    "for i in range(35886):\n",
    "    D = np.vstack ((D,roberts(B_arn[i+1]).reshape(2304)))"
   ]
  },
  {
   "cell_type": "code",
   "execution_count": null,
   "metadata": {
    "collapsed": true
   },
   "outputs": [],
   "source": [
    "#make dataframe and send it as csv file.\n",
    "\n",
    "DD = pd.DataFrame(D)\n",
    "roberts_A = pd.merge(B_ind,DD,left_index=True, right_index=True)\n",
    "roberts_A.drop('Unnamed: 0.1', axis=1, inplace=True)\n",
    "roberts_A.to_csv(\"roberts_img.csv\")\n",
    "plt.imshow(D[3].reshape(48,48))\n",
    "plt.show()"
   ]
  }
 ],
 "metadata": {
  "kernelspec": {
   "display_name": "Python 3",
   "language": "python",
   "name": "python3"
  },
  "language_info": {
   "codemirror_mode": {
    "name": "ipython",
    "version": 3
   },
   "file_extension": ".py",
   "mimetype": "text/x-python",
   "name": "python",
   "nbconvert_exporter": "python",
   "pygments_lexer": "ipython3",
   "version": "3.6.1"
  }
 },
 "nbformat": 4,
 "nbformat_minor": 2
}
