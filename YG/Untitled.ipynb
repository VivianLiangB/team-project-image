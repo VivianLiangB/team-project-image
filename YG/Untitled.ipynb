{
 "cells": [
  {
   "cell_type": "markdown",
   "metadata": {},
   "source": [
    "# 어떻게 하면 향상 시킬수 있을 것인가?!!! \n",
    "\n",
    "1. 논문등 후속적으로 좋은 결과를 나타낸 것들을 follow up\n",
    "2. 여러개의 pipeline을 만들어서 분류 결과를 좋게 마들기 위한 시도를 함.\n",
    "3. 엑티베이션함수, hidden layer 갯수, neuron 갯수나 convolution 하는 필터의 크기등을 바꾸어 가면서 결과가 바뀌는 것을 데이터로 출력후 각각의 영향력의 정도를 추적."
   ]
  },
  {
   "cell_type": "markdown",
   "metadata": {},
   "source": [
    "# GLN\n",
    "\n"
   ]
  }
 ],
 "metadata": {
  "kernelspec": {
   "display_name": "Python 3",
   "language": "python",
   "name": "python3"
  },
  "language_info": {
   "codemirror_mode": {
    "name": "ipython",
    "version": 3
   },
   "file_extension": ".py",
   "mimetype": "text/x-python",
   "name": "python",
   "nbconvert_exporter": "python",
   "pygments_lexer": "ipython3",
   "version": "3.6.1"
  }
 },
 "nbformat": 4,
 "nbformat_minor": 2
}
